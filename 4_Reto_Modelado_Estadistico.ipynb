{
  "nbformat": 4,
  "nbformat_minor": 0,
  "metadata": {
    "colab": {
      "provenance": [],
      "authorship_tag": "ABX9TyOrQv3uQtnFKXwdDT3zL41n",
      "include_colab_link": true
    },
    "kernelspec": {
      "name": "ir",
      "display_name": "R"
    },
    "language_info": {
      "name": "R"
    }
  },
  "cells": [
    {
      "cell_type": "markdown",
      "metadata": {
        "id": "view-in-github",
        "colab_type": "text"
      },
      "source": [
        "<a href=\"https://colab.research.google.com/github/robertoarturomc/MetodosEstadisticos/blob/main/4_Reto_Modelado_Estadistico.ipynb\" target=\"_parent\"><img src=\"https://colab.research.google.com/assets/colab-badge.svg\" alt=\"Open In Colab\"/></a>"
      ]
    },
    {
      "cell_type": "markdown",
      "source": [
        "### Reto Modelación Estadística\n",
        "## 4. Estadística"
      ],
      "metadata": {
        "id": "5mpPthRQDicZ"
      }
    },
    {
      "cell_type": "code",
      "execution_count": 7,
      "metadata": {
        "colab": {
          "base_uri": "https://localhost:8080/",
          "height": 332
        },
        "id": "hhtHaWt1CCeG",
        "outputId": "a3fcd455-c456-4331-8d1c-f0fb8207718d"
      },
      "outputs": [
        {
          "output_type": "stream",
          "name": "stderr",
          "text": [
            "Warning message in file(file, \"rt\"):\n",
            "“cannot open file 'Customer-Churn-Records.csv': No such file or directory”\n"
          ]
        },
        {
          "output_type": "error",
          "ename": "ERROR",
          "evalue": "Error in file(file, \"rt\"): cannot open the connection\n",
          "traceback": [
            "Error in file(file, \"rt\"): cannot open the connection\nTraceback:\n",
            "1. read.table(file = file, header = header, sep = sep, quote = quote, \n .     dec = dec, fill = fill, comment.char = comment.char, ...)",
            "2. file(file, \"rt\")",
            "3. .handleSimpleError(function (cnd) \n . {\n .     watcher$capture_plot_and_output()\n .     cnd <- sanitize_call(cnd)\n .     watcher$push(cnd)\n .     switch(on_error, continue = invokeRestart(\"eval_continue\"), \n .         stop = invokeRestart(\"eval_stop\"), error = invokeRestart(\"eval_error\", \n .             cnd))\n . }, \"cannot open the connection\", base::quote(file(file, \"rt\")))"
          ]
        }
      ],
      "source": [
        "df <- read.csv(\"Customer-Churn-Records.csv\")\n",
        "head(df)"
      ]
    },
    {
      "cell_type": "markdown",
      "source": [
        "Podemos calcular distintas Estadísticas sobre distintos grupos. Por ejemplo, calcular el promedio de edad según el Género."
      ],
      "metadata": {
        "id": "vYMlOmeU-RUo"
      }
    },
    {
      "cell_type": "code",
      "source": [
        "mean_age_male <- mean( df[df$Gender == \"Male\", \"Age\"] )\n",
        "mean_age_male"
      ],
      "metadata": {
        "colab": {
          "base_uri": "https://localhost:8080/",
          "height": 72
        },
        "id": "skp2Jn8l-a_g",
        "outputId": "35c85c10-d3c1-475c-9445-9e1b0174fc1a"
      },
      "execution_count": 6,
      "outputs": [
        {
          "output_type": "error",
          "ename": "ERROR",
          "evalue": "Error in df$Gender: object of type 'closure' is not subsettable\n",
          "traceback": [
            "Error in df$Gender: object of type 'closure' is not subsettable\nTraceback:\n"
          ]
        }
      ]
    },
    {
      "cell_type": "code",
      "source": [
        "mean_age_female <- mean( df[df$Gender == \"Female\", \"Age\"] )\n",
        "mean_age_female"
      ],
      "metadata": {
        "id": "FB9j4tD_-0JC"
      },
      "execution_count": null,
      "outputs": []
    },
    {
      "cell_type": "markdown",
      "source": [
        "O incluso, podemos hacer ese cálculo de manera directa"
      ],
      "metadata": {
        "id": "k7eeZLmM-_BL"
      }
    },
    {
      "cell_type": "code",
      "source": [
        "tapply(df$Age, df$Gender, mean)"
      ],
      "metadata": {
        "id": "G9jJXWQV95ks"
      },
      "execution_count": null,
      "outputs": []
    },
    {
      "cell_type": "markdown",
      "source": [
        "### Pruebas de Normalidad\n",
        "\n",
        "¿Recuerdas la Variable _Balance_ y cómo sospechábamos que se distribuía Normal?\n",
        "\n",
        "¿Y si hacemos una prueba Estadística?"
      ],
      "metadata": {
        "id": "5IKpEEmC_Vz0"
      }
    },
    {
      "cell_type": "code",
      "source": [
        "shapiro.test(df$Balance)"
      ],
      "metadata": {
        "id": "liFeLEGvAATV"
      },
      "execution_count": null,
      "outputs": []
    },
    {
      "cell_type": "markdown",
      "source": [
        "Parece ser que necesitamos trabajar con menos datos. Saquemos una muestra..."
      ],
      "metadata": {
        "id": "upQY9bt_AOsM"
      }
    },
    {
      "cell_type": "code",
      "source": [
        "sample_balance <- df[sample(1:nrow(df), size=50, replace=FALSE), \"Balance\"]"
      ],
      "metadata": {
        "id": "mUGhsSq7AMXv"
      },
      "execution_count": null,
      "outputs": []
    },
    {
      "cell_type": "markdown",
      "source": [
        "Ahora sí, apliquemos la Prueba de Normalidad de Shapiro-Wilk."
      ],
      "metadata": {
        "id": "MuS3LtbpAg23"
      }
    },
    {
      "cell_type": "code",
      "source": [
        "shapiro.test(sample_balance)"
      ],
      "metadata": {
        "id": "l_a-bbtlAhDD"
      },
      "execution_count": null,
      "outputs": []
    },
    {
      "cell_type": "markdown",
      "source": [
        "El valor p es muy, muy pequeño. Es menor que cualquier alfa \"típico\" (0.1, 0.05 o 0.01). Por lo tanto, rechazamos la Hipótesis Nula $H_0$ y, por lo tanto, no podemos asegurar que nuestra muestra de los datos de _Balance_ provengan de una variable con Distribución Normal.\n",
        "\n",
        "Pero, ¿recuerdas qué pasaba con esa variable?\n",
        "\n",
        "¿Qué tal que aplicamos un filtro?"
      ],
      "metadata": {
        "id": "m_ILtXa-Bki4"
      }
    },
    {
      "cell_type": "code",
      "source": [
        "hist(df$Balance)"
      ],
      "metadata": {
        "id": "8XlwFfHa-IT3"
      },
      "execution_count": null,
      "outputs": []
    },
    {
      "cell_type": "code",
      "source": [
        "balance_positivo <-  df[df$Balance > 0, ]\n",
        "\n",
        "sample_balance <- df[sample(1:nrow(balance_positivo), size=5, replace=FALSE), \"Balance\"]\n",
        "\n",
        "shapiro.test(sample_balance)"
      ],
      "metadata": {
        "id": "N607rmYJCOkc"
      },
      "execution_count": null,
      "outputs": []
    },
    {
      "cell_type": "markdown",
      "source": [
        "Para una muestra de 5, y dependiendo el Alfa que usemos, podríamos no descartar la posibilidad de que los datos provengan de una Variable con Distribución Normal."
      ],
      "metadata": {
        "id": "yD2fBlCiC10Z"
      }
    },
    {
      "cell_type": "markdown",
      "source": [
        "### Comparar Estadísticas entre dos Grupos\n",
        "\n",
        "Podemos usar un BoxPlot para comparar medias, varianzas o proporciones entre distintos grupos."
      ],
      "metadata": {
        "id": "Hv0bhWAeDbwU"
      }
    },
    {
      "cell_type": "code",
      "source": [
        "library(ggplot2)"
      ],
      "metadata": {
        "id": "9hko-24qCtIA"
      },
      "execution_count": null,
      "outputs": []
    },
    {
      "cell_type": "code",
      "source": [
        "ggplot(df, aes(Gender, EstimatedSalary, fill=Gender)) + geom_boxplot()"
      ],
      "metadata": {
        "id": "y3OuKjIwDxUs"
      },
      "execution_count": null,
      "outputs": []
    },
    {
      "cell_type": "code",
      "source": [
        "df[\"Tarjeta\"] <- df$HasCrCard == 1\n",
        "ggplot(df, aes(HasCrCard, CreditScore, fill=Tarjeta)) + geom_boxplot()"
      ],
      "metadata": {
        "id": "yy3YVrKLD5nR"
      },
      "execution_count": null,
      "outputs": []
    },
    {
      "cell_type": "markdown",
      "source": [
        "Pero, lo más \"Formal\" sería ocupar una Prueba Estadística para medir la diferencia de medias, varianzas o proporciones entre distintos grupos.\n",
        "\n",
        "Primero, agreguemos una Prueba de Igualdad de Varianzas, para ver si ambos grupos tienen varianza similar.\n",
        "\n"
      ],
      "metadata": {
        "id": "GdS296C6Fe3B"
      }
    },
    {
      "cell_type": "code",
      "source": [
        "var.test(Age~Gender, data= df)"
      ],
      "metadata": {
        "id": "i43RRqYAEwic"
      },
      "execution_count": null,
      "outputs": []
    },
    {
      "cell_type": "markdown",
      "source": [
        "Como el valor p es mayor al alfa \"típico\" de 0.05, no rechazamos la Hipótesis Nula, y podemos asumir que las varianzas pueden ser iguales.\n",
        "\n",
        "Ahora sí, apliquemos una Prueba T para la Igualdad de Medias. Como no rechazamos la Hipótesis Nula en el ejercicio anterior, especificamos que ambas varianzas son similares."
      ],
      "metadata": {
        "id": "HrNhELycGqJ5"
      }
    },
    {
      "cell_type": "code",
      "source": [
        "t.test(Age~Gender, data= df, var.equal = T)"
      ],
      "metadata": {
        "id": "rUXtMY5VF8-K"
      },
      "execution_count": null,
      "outputs": []
    },
    {
      "cell_type": "markdown",
      "source": [
        "Como el valor p es menor a un alfa de 0.05, fallo al rechazar $H_0$ y acepto $H_a$; por lo tanto, el promedio de edad en ambos grupos (Female y Male) es distinto."
      ],
      "metadata": {
        "id": "fA7ic9kpHehn"
      }
    },
    {
      "cell_type": "markdown",
      "source": [
        "### Pruebas Chi Cuadrada\n"
      ],
      "metadata": {
        "id": "7SIjJEP3o6HW"
      }
    },
    {
      "cell_type": "code",
      "source": [
        "with(df, table(Gender, Balance))"
      ],
      "metadata": {
        "id": "2JtIqM74HDGD"
      },
      "execution_count": null,
      "outputs": []
    },
    {
      "cell_type": "code",
      "source": [],
      "metadata": {
        "id": "eG005uUvpQEr"
      },
      "execution_count": null,
      "outputs": []
    }
  ]
}