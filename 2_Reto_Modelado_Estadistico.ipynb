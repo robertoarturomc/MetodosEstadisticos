{
  "nbformat": 4,
  "nbformat_minor": 0,
  "metadata": {
    "colab": {
      "provenance": [],
      "authorship_tag": "ABX9TyPG9VMi5G+CKsLs/sofFJaX",
      "include_colab_link": true
    },
    "kernelspec": {
      "name": "ir",
      "display_name": "R"
    },
    "language_info": {
      "name": "R"
    }
  },
  "cells": [
    {
      "cell_type": "markdown",
      "metadata": {
        "id": "view-in-github",
        "colab_type": "text"
      },
      "source": [
        "<a href=\"https://colab.research.google.com/github/robertoarturomc/MetodosEstadisticos/blob/main/2_Reto_Modelado_Estadistico.ipynb\" target=\"_parent\"><img src=\"https://colab.research.google.com/assets/colab-badge.svg\" alt=\"Open In Colab\"/></a>"
      ]
    },
    {
      "cell_type": "markdown",
      "source": [
        "### Reto Modelación Estadística\n",
        "## 2. Funciones Avanzadas de Probabilidad"
      ],
      "metadata": {
        "id": "5mpPthRQDicZ"
      }
    },
    {
      "cell_type": "code",
      "execution_count": 2,
      "metadata": {
        "colab": {
          "base_uri": "https://localhost:8080/",
          "height": 306
        },
        "id": "hhtHaWt1CCeG",
        "outputId": "14d90b5d-39b0-4133-e0a0-becb2dc008af"
      },
      "outputs": [
        {
          "output_type": "display_data",
          "data": {
            "text/html": [
              "<table class=\"dataframe\">\n",
              "<caption>A data.frame: 6 × 18</caption>\n",
              "<thead>\n",
              "\t<tr><th></th><th scope=col>RowNumber</th><th scope=col>CustomerId</th><th scope=col>Surname</th><th scope=col>CreditScore</th><th scope=col>Geography</th><th scope=col>Gender</th><th scope=col>Age</th><th scope=col>Tenure</th><th scope=col>Balance</th><th scope=col>NumOfProducts</th><th scope=col>HasCrCard</th><th scope=col>IsActiveMember</th><th scope=col>EstimatedSalary</th><th scope=col>Exited</th><th scope=col>Complain</th><th scope=col>Satisfaction.Score</th><th scope=col>Card.Type</th><th scope=col>Point.Earned</th></tr>\n",
              "\t<tr><th></th><th scope=col>&lt;int&gt;</th><th scope=col>&lt;int&gt;</th><th scope=col>&lt;chr&gt;</th><th scope=col>&lt;int&gt;</th><th scope=col>&lt;chr&gt;</th><th scope=col>&lt;chr&gt;</th><th scope=col>&lt;int&gt;</th><th scope=col>&lt;int&gt;</th><th scope=col>&lt;dbl&gt;</th><th scope=col>&lt;int&gt;</th><th scope=col>&lt;int&gt;</th><th scope=col>&lt;int&gt;</th><th scope=col>&lt;dbl&gt;</th><th scope=col>&lt;int&gt;</th><th scope=col>&lt;int&gt;</th><th scope=col>&lt;int&gt;</th><th scope=col>&lt;chr&gt;</th><th scope=col>&lt;int&gt;</th></tr>\n",
              "</thead>\n",
              "<tbody>\n",
              "\t<tr><th scope=row>1</th><td>1</td><td>15634602</td><td>Hargrave</td><td>619</td><td>France</td><td>Female</td><td>42</td><td>2</td><td>     0.00</td><td>1</td><td>1</td><td>1</td><td>101348.88</td><td>1</td><td>1</td><td>2</td><td>DIAMOND</td><td>464</td></tr>\n",
              "\t<tr><th scope=row>2</th><td>2</td><td>15647311</td><td>Hill    </td><td>608</td><td>Spain </td><td>Female</td><td>41</td><td>1</td><td> 83807.86</td><td>1</td><td>0</td><td>1</td><td>112542.58</td><td>0</td><td>1</td><td>3</td><td>DIAMOND</td><td>456</td></tr>\n",
              "\t<tr><th scope=row>3</th><td>3</td><td>15619304</td><td>Onio    </td><td>502</td><td>France</td><td>Female</td><td>42</td><td>8</td><td>159660.80</td><td>3</td><td>1</td><td>0</td><td>113931.57</td><td>1</td><td>1</td><td>3</td><td>DIAMOND</td><td>377</td></tr>\n",
              "\t<tr><th scope=row>4</th><td>4</td><td>15701354</td><td>Boni    </td><td>699</td><td>France</td><td>Female</td><td>39</td><td>1</td><td>     0.00</td><td>2</td><td>0</td><td>0</td><td> 93826.63</td><td>0</td><td>0</td><td>5</td><td>GOLD   </td><td>350</td></tr>\n",
              "\t<tr><th scope=row>5</th><td>5</td><td>15737888</td><td>Mitchell</td><td>850</td><td>Spain </td><td>Female</td><td>43</td><td>2</td><td>125510.82</td><td>1</td><td>1</td><td>1</td><td> 79084.10</td><td>0</td><td>0</td><td>5</td><td>GOLD   </td><td>425</td></tr>\n",
              "\t<tr><th scope=row>6</th><td>6</td><td>15574012</td><td>Chu     </td><td>645</td><td>Spain </td><td>Male  </td><td>44</td><td>8</td><td>113755.78</td><td>2</td><td>1</td><td>0</td><td>149756.71</td><td>1</td><td>1</td><td>5</td><td>DIAMOND</td><td>484</td></tr>\n",
              "</tbody>\n",
              "</table>\n"
            ],
            "text/markdown": "\nA data.frame: 6 × 18\n\n| <!--/--> | RowNumber &lt;int&gt; | CustomerId &lt;int&gt; | Surname &lt;chr&gt; | CreditScore &lt;int&gt; | Geography &lt;chr&gt; | Gender &lt;chr&gt; | Age &lt;int&gt; | Tenure &lt;int&gt; | Balance &lt;dbl&gt; | NumOfProducts &lt;int&gt; | HasCrCard &lt;int&gt; | IsActiveMember &lt;int&gt; | EstimatedSalary &lt;dbl&gt; | Exited &lt;int&gt; | Complain &lt;int&gt; | Satisfaction.Score &lt;int&gt; | Card.Type &lt;chr&gt; | Point.Earned &lt;int&gt; |\n|---|---|---|---|---|---|---|---|---|---|---|---|---|---|---|---|---|---|---|\n| 1 | 1 | 15634602 | Hargrave | 619 | France | Female | 42 | 2 |      0.00 | 1 | 1 | 1 | 101348.88 | 1 | 1 | 2 | DIAMOND | 464 |\n| 2 | 2 | 15647311 | Hill     | 608 | Spain  | Female | 41 | 1 |  83807.86 | 1 | 0 | 1 | 112542.58 | 0 | 1 | 3 | DIAMOND | 456 |\n| 3 | 3 | 15619304 | Onio     | 502 | France | Female | 42 | 8 | 159660.80 | 3 | 1 | 0 | 113931.57 | 1 | 1 | 3 | DIAMOND | 377 |\n| 4 | 4 | 15701354 | Boni     | 699 | France | Female | 39 | 1 |      0.00 | 2 | 0 | 0 |  93826.63 | 0 | 0 | 5 | GOLD    | 350 |\n| 5 | 5 | 15737888 | Mitchell | 850 | Spain  | Female | 43 | 2 | 125510.82 | 1 | 1 | 1 |  79084.10 | 0 | 0 | 5 | GOLD    | 425 |\n| 6 | 6 | 15574012 | Chu      | 645 | Spain  | Male   | 44 | 8 | 113755.78 | 2 | 1 | 0 | 149756.71 | 1 | 1 | 5 | DIAMOND | 484 |\n\n",
            "text/latex": "A data.frame: 6 × 18\n\\begin{tabular}{r|llllllllllllllllll}\n  & RowNumber & CustomerId & Surname & CreditScore & Geography & Gender & Age & Tenure & Balance & NumOfProducts & HasCrCard & IsActiveMember & EstimatedSalary & Exited & Complain & Satisfaction.Score & Card.Type & Point.Earned\\\\\n  & <int> & <int> & <chr> & <int> & <chr> & <chr> & <int> & <int> & <dbl> & <int> & <int> & <int> & <dbl> & <int> & <int> & <int> & <chr> & <int>\\\\\n\\hline\n\t1 & 1 & 15634602 & Hargrave & 619 & France & Female & 42 & 2 &      0.00 & 1 & 1 & 1 & 101348.88 & 1 & 1 & 2 & DIAMOND & 464\\\\\n\t2 & 2 & 15647311 & Hill     & 608 & Spain  & Female & 41 & 1 &  83807.86 & 1 & 0 & 1 & 112542.58 & 0 & 1 & 3 & DIAMOND & 456\\\\\n\t3 & 3 & 15619304 & Onio     & 502 & France & Female & 42 & 8 & 159660.80 & 3 & 1 & 0 & 113931.57 & 1 & 1 & 3 & DIAMOND & 377\\\\\n\t4 & 4 & 15701354 & Boni     & 699 & France & Female & 39 & 1 &      0.00 & 2 & 0 & 0 &  93826.63 & 0 & 0 & 5 & GOLD    & 350\\\\\n\t5 & 5 & 15737888 & Mitchell & 850 & Spain  & Female & 43 & 2 & 125510.82 & 1 & 1 & 1 &  79084.10 & 0 & 0 & 5 & GOLD    & 425\\\\\n\t6 & 6 & 15574012 & Chu      & 645 & Spain  & Male   & 44 & 8 & 113755.78 & 2 & 1 & 0 & 149756.71 & 1 & 1 & 5 & DIAMOND & 484\\\\\n\\end{tabular}\n",
            "text/plain": [
              "  RowNumber CustomerId Surname  CreditScore Geography Gender Age Tenure\n",
              "1 1         15634602   Hargrave 619         France    Female 42  2     \n",
              "2 2         15647311   Hill     608         Spain     Female 41  1     \n",
              "3 3         15619304   Onio     502         France    Female 42  8     \n",
              "4 4         15701354   Boni     699         France    Female 39  1     \n",
              "5 5         15737888   Mitchell 850         Spain     Female 43  2     \n",
              "6 6         15574012   Chu      645         Spain     Male   44  8     \n",
              "  Balance   NumOfProducts HasCrCard IsActiveMember EstimatedSalary Exited\n",
              "1      0.00 1             1         1              101348.88       1     \n",
              "2  83807.86 1             0         1              112542.58       0     \n",
              "3 159660.80 3             1         0              113931.57       1     \n",
              "4      0.00 2             0         0               93826.63       0     \n",
              "5 125510.82 1             1         1               79084.10       0     \n",
              "6 113755.78 2             1         0              149756.71       1     \n",
              "  Complain Satisfaction.Score Card.Type Point.Earned\n",
              "1 1        2                  DIAMOND   464         \n",
              "2 1        3                  DIAMOND   456         \n",
              "3 1        3                  DIAMOND   377         \n",
              "4 0        5                  GOLD      350         \n",
              "5 0        5                  GOLD      425         \n",
              "6 1        5                  DIAMOND   484         "
            ]
          },
          "metadata": {}
        }
      ],
      "source": [
        "df <- read.csv(\"Customer-Churn-Records.csv\")\n",
        "head(df)"
      ]
    },
    {
      "cell_type": "markdown",
      "source": [
        "### Conteos\n",
        "¿Cómo puedo saber cuántos y cuáles tipos distintos de *Card.Type* existen?\n",
        "\n",
        "¿Cómo puedo saber cuántos y cuáles tipos distintos de *Satisfaction.Score* existen?\n",
        "\n",
        "¿Cómo puedo saber cuántas y cuáles combinaciones de *Card.Type* con *Satisfaction.Score* existen?\n"
      ],
      "metadata": {
        "id": "ladmeqaxCRfH"
      }
    },
    {
      "cell_type": "code",
      "source": [
        "unique(df$Card.Type)"
      ],
      "metadata": {
        "colab": {
          "base_uri": "https://localhost:8080/",
          "height": 34
        },
        "id": "vjmnUIoGHjsB",
        "outputId": "9412a021-4e5a-4fb3-da41-a532037f886f"
      },
      "execution_count": 3,
      "outputs": [
        {
          "output_type": "display_data",
          "data": {
            "text/html": [
              "<style>\n",
              ".list-inline {list-style: none; margin:0; padding: 0}\n",
              ".list-inline>li {display: inline-block}\n",
              ".list-inline>li:not(:last-child)::after {content: \"\\00b7\"; padding: 0 .5ex}\n",
              "</style>\n",
              "<ol class=list-inline><li>'DIAMOND'</li><li>'GOLD'</li><li>'SILVER'</li><li>'PLATINUM'</li></ol>\n"
            ],
            "text/markdown": "1. 'DIAMOND'\n2. 'GOLD'\n3. 'SILVER'\n4. 'PLATINUM'\n\n\n",
            "text/latex": "\\begin{enumerate*}\n\\item 'DIAMOND'\n\\item 'GOLD'\n\\item 'SILVER'\n\\item 'PLATINUM'\n\\end{enumerate*}\n",
            "text/plain": [
              "[1] \"DIAMOND\"  \"GOLD\"     \"SILVER\"   \"PLATINUM\""
            ]
          },
          "metadata": {}
        }
      ]
    },
    {
      "cell_type": "code",
      "source": [
        "n_tarjetas <- length(unique(df$Card.Type))\n",
        "n_tarjetas"
      ],
      "metadata": {
        "colab": {
          "base_uri": "https://localhost:8080/",
          "height": 34
        },
        "id": "vscx096lMrIk",
        "outputId": "765960c1-ca10-4e78-ec89-4fb96f55b597"
      },
      "execution_count": 4,
      "outputs": [
        {
          "output_type": "display_data",
          "data": {
            "text/html": [
              "4"
            ],
            "text/markdown": "4",
            "text/latex": "4",
            "text/plain": [
              "[1] 4"
            ]
          },
          "metadata": {}
        }
      ]
    },
    {
      "cell_type": "code",
      "source": [
        "unique(df$Satisfaction.Score)"
      ],
      "metadata": {
        "colab": {
          "base_uri": "https://localhost:8080/",
          "height": 34
        },
        "id": "VgkwgZ_MCR0N",
        "outputId": "8221ed11-9aa6-4f8f-f4de-f3dbda9bad9f"
      },
      "execution_count": 5,
      "outputs": [
        {
          "output_type": "display_data",
          "data": {
            "text/html": [
              "<style>\n",
              ".list-inline {list-style: none; margin:0; padding: 0}\n",
              ".list-inline>li {display: inline-block}\n",
              ".list-inline>li:not(:last-child)::after {content: \"\\00b7\"; padding: 0 .5ex}\n",
              "</style>\n",
              "<ol class=list-inline><li>2</li><li>3</li><li>5</li><li>4</li><li>1</li></ol>\n"
            ],
            "text/markdown": "1. 2\n2. 3\n3. 5\n4. 4\n5. 1\n\n\n",
            "text/latex": "\\begin{enumerate*}\n\\item 2\n\\item 3\n\\item 5\n\\item 4\n\\item 1\n\\end{enumerate*}\n",
            "text/plain": [
              "[1] 2 3 5 4 1"
            ]
          },
          "metadata": {}
        }
      ]
    },
    {
      "cell_type": "code",
      "source": [
        "n_scores <- length(unique(df$Satisfaction.Score))\n",
        "n_scores"
      ],
      "metadata": {
        "colab": {
          "base_uri": "https://localhost:8080/",
          "height": 34
        },
        "id": "hssinvPvOCld",
        "outputId": "d0a4b1a9-6352-4b1e-c153-e574224f0897"
      },
      "execution_count": 6,
      "outputs": [
        {
          "output_type": "display_data",
          "data": {
            "text/html": [
              "5"
            ],
            "text/markdown": "5",
            "text/latex": "5",
            "text/plain": [
              "[1] 5"
            ]
          },
          "metadata": {}
        }
      ]
    },
    {
      "cell_type": "code",
      "source": [
        "n_tarjetas * n_scores"
      ],
      "metadata": {
        "colab": {
          "base_uri": "https://localhost:8080/",
          "height": 34
        },
        "id": "h983o8O_OFnc",
        "outputId": "f79da228-48fa-4b77-eb12-de52f8814d67"
      },
      "execution_count": 7,
      "outputs": [
        {
          "output_type": "display_data",
          "data": {
            "text/html": [
              "20"
            ],
            "text/markdown": "20",
            "text/latex": "20",
            "text/plain": [
              "[1] 20"
            ]
          },
          "metadata": {}
        }
      ]
    },
    {
      "cell_type": "markdown",
      "source": [
        "### Permutaciones\n",
        "\n",
        "Para sacar las distintas permutaciones de *k* elementos en *n* elementos, teníamos la siguiente fórmula:\n",
        "\n",
        "$permutaciones = \\dfrac {n!}{(n-k)!}$\n",
        "\n",
        "Podemos calcularlo directamente. Por ejemplo, para tener las permutaciones de 2 elementos en 5:"
      ],
      "metadata": {
        "id": "YQU-j3-RSf76"
      }
    },
    {
      "cell_type": "code",
      "source": [
        "factorial(5)/factorial(5-2)"
      ],
      "metadata": {
        "colab": {
          "base_uri": "https://localhost:8080/",
          "height": 34
        },
        "id": "Z2tNF9vdTl7M",
        "outputId": "6fb81c48-1f79-40cd-dbb8-aa65e9406947"
      },
      "execution_count": 13,
      "outputs": [
        {
          "output_type": "display_data",
          "data": {
            "text/html": [
              "20"
            ],
            "text/markdown": "20",
            "text/latex": "20",
            "text/plain": [
              "[1] 20"
            ]
          },
          "metadata": {}
        }
      ]
    },
    {
      "cell_type": "markdown",
      "source": [
        "Aunque también podemos imprimir las distintas permutaciones usando el paquete *gtools*."
      ],
      "metadata": {
        "id": "X-T2CjNFT5ED"
      }
    },
    {
      "cell_type": "code",
      "source": [
        "install.packages(\"gtools\")"
      ],
      "metadata": {
        "colab": {
          "base_uri": "https://localhost:8080/"
        },
        "id": "iBn11BZhSGKt",
        "outputId": "6bb3fbc3-23b9-4843-dc19-01f1e9e1cd45"
      },
      "execution_count": 14,
      "outputs": [
        {
          "output_type": "stream",
          "name": "stderr",
          "text": [
            "Installing package into ‘/usr/local/lib/R/site-library’\n",
            "(as ‘lib’ is unspecified)\n",
            "\n"
          ]
        }
      ]
    },
    {
      "cell_type": "code",
      "source": [
        "library(gtools)"
      ],
      "metadata": {
        "id": "nkjvPJu_SEAi"
      },
      "execution_count": 15,
      "outputs": []
    },
    {
      "cell_type": "code",
      "source": [
        "permutations(5, 2)"
      ],
      "metadata": {
        "colab": {
          "base_uri": "https://localhost:8080/",
          "height": 731
        },
        "id": "N5Lwl3JgRao_",
        "outputId": "c5475819-d463-4941-9fbe-cb6ac682fa1a"
      },
      "execution_count": 16,
      "outputs": [
        {
          "output_type": "display_data",
          "data": {
            "text/html": [
              "<table class=\"dataframe\">\n",
              "<caption>A matrix: 20 × 2 of type int</caption>\n",
              "<tbody>\n",
              "\t<tr><td>1</td><td>2</td></tr>\n",
              "\t<tr><td>1</td><td>3</td></tr>\n",
              "\t<tr><td>1</td><td>4</td></tr>\n",
              "\t<tr><td>1</td><td>5</td></tr>\n",
              "\t<tr><td>2</td><td>1</td></tr>\n",
              "\t<tr><td>2</td><td>3</td></tr>\n",
              "\t<tr><td>2</td><td>4</td></tr>\n",
              "\t<tr><td>2</td><td>5</td></tr>\n",
              "\t<tr><td>3</td><td>1</td></tr>\n",
              "\t<tr><td>3</td><td>2</td></tr>\n",
              "\t<tr><td>3</td><td>4</td></tr>\n",
              "\t<tr><td>3</td><td>5</td></tr>\n",
              "\t<tr><td>4</td><td>1</td></tr>\n",
              "\t<tr><td>4</td><td>2</td></tr>\n",
              "\t<tr><td>4</td><td>3</td></tr>\n",
              "\t<tr><td>4</td><td>5</td></tr>\n",
              "\t<tr><td>5</td><td>1</td></tr>\n",
              "\t<tr><td>5</td><td>2</td></tr>\n",
              "\t<tr><td>5</td><td>3</td></tr>\n",
              "\t<tr><td>5</td><td>4</td></tr>\n",
              "</tbody>\n",
              "</table>\n"
            ],
            "text/markdown": "\nA matrix: 20 × 2 of type int\n\n| 1 | 2 |\n| 1 | 3 |\n| 1 | 4 |\n| 1 | 5 |\n| 2 | 1 |\n| 2 | 3 |\n| 2 | 4 |\n| 2 | 5 |\n| 3 | 1 |\n| 3 | 2 |\n| 3 | 4 |\n| 3 | 5 |\n| 4 | 1 |\n| 4 | 2 |\n| 4 | 3 |\n| 4 | 5 |\n| 5 | 1 |\n| 5 | 2 |\n| 5 | 3 |\n| 5 | 4 |\n\n",
            "text/latex": "A matrix: 20 × 2 of type int\n\\begin{tabular}{ll}\n\t 1 & 2\\\\\n\t 1 & 3\\\\\n\t 1 & 4\\\\\n\t 1 & 5\\\\\n\t 2 & 1\\\\\n\t 2 & 3\\\\\n\t 2 & 4\\\\\n\t 2 & 5\\\\\n\t 3 & 1\\\\\n\t 3 & 2\\\\\n\t 3 & 4\\\\\n\t 3 & 5\\\\\n\t 4 & 1\\\\\n\t 4 & 2\\\\\n\t 4 & 3\\\\\n\t 4 & 5\\\\\n\t 5 & 1\\\\\n\t 5 & 2\\\\\n\t 5 & 3\\\\\n\t 5 & 4\\\\\n\\end{tabular}\n",
            "text/plain": [
              "      [,1] [,2]\n",
              " [1,] 1    2   \n",
              " [2,] 1    3   \n",
              " [3,] 1    4   \n",
              " [4,] 1    5   \n",
              " [5,] 2    1   \n",
              " [6,] 2    3   \n",
              " [7,] 2    4   \n",
              " [8,] 2    5   \n",
              " [9,] 3    1   \n",
              "[10,] 3    2   \n",
              "[11,] 3    4   \n",
              "[12,] 3    5   \n",
              "[13,] 4    1   \n",
              "[14,] 4    2   \n",
              "[15,] 4    3   \n",
              "[16,] 4    5   \n",
              "[17,] 5    1   \n",
              "[18,] 5    2   \n",
              "[19,] 5    3   \n",
              "[20,] 5    4   "
            ]
          },
          "metadata": {}
        }
      ]
    },
    {
      "cell_type": "markdown",
      "source": [
        "### Combinaciones\n",
        "\n",
        "Para sacar las distintas combinaciones de *k* elementos en *n* elementos, teníamos la siguiente fórmula:\n",
        "\n",
        "$combinaciones = \\dfrac {n!}{k!(n-k)!} =  {n \\choose k}$\n",
        "\n",
        "Para tener las combinaciones de 2 elementos en 5:"
      ],
      "metadata": {
        "id": "ZL98G_08VXgs"
      }
    },
    {
      "cell_type": "code",
      "source": [
        "factorial(5)/(factorial(2) * factorial(5-2) )"
      ],
      "metadata": {
        "colab": {
          "base_uri": "https://localhost:8080/",
          "height": 34
        },
        "outputId": "c5366a67-68a5-4e17-bfe4-a03304d3f5c0",
        "id": "Z6g9ARTbVXgt"
      },
      "execution_count": 18,
      "outputs": [
        {
          "output_type": "display_data",
          "data": {
            "text/html": [
              "10"
            ],
            "text/markdown": "10",
            "text/latex": "10",
            "text/plain": [
              "[1] 10"
            ]
          },
          "metadata": {}
        }
      ]
    },
    {
      "cell_type": "markdown",
      "source": [
        "Aunque también podemos imprimir las distintas combinaciones usando el paquete *gtools*."
      ],
      "metadata": {
        "id": "WC6K6_1uVXgu"
      }
    },
    {
      "cell_type": "code",
      "source": [
        "combinations(5, 2)"
      ],
      "metadata": {
        "colab": {
          "base_uri": "https://localhost:8080/",
          "height": 417
        },
        "outputId": "927ea279-cefc-480b-c522-702a3f6280a4",
        "id": "LOGleSaCVXgv"
      },
      "execution_count": 19,
      "outputs": [
        {
          "output_type": "display_data",
          "data": {
            "text/html": [
              "<table class=\"dataframe\">\n",
              "<caption>A matrix: 10 × 2 of type int</caption>\n",
              "<tbody>\n",
              "\t<tr><td>1</td><td>2</td></tr>\n",
              "\t<tr><td>1</td><td>3</td></tr>\n",
              "\t<tr><td>1</td><td>4</td></tr>\n",
              "\t<tr><td>1</td><td>5</td></tr>\n",
              "\t<tr><td>2</td><td>3</td></tr>\n",
              "\t<tr><td>2</td><td>4</td></tr>\n",
              "\t<tr><td>2</td><td>5</td></tr>\n",
              "\t<tr><td>3</td><td>4</td></tr>\n",
              "\t<tr><td>3</td><td>5</td></tr>\n",
              "\t<tr><td>4</td><td>5</td></tr>\n",
              "</tbody>\n",
              "</table>\n"
            ],
            "text/markdown": "\nA matrix: 10 × 2 of type int\n\n| 1 | 2 |\n| 1 | 3 |\n| 1 | 4 |\n| 1 | 5 |\n| 2 | 3 |\n| 2 | 4 |\n| 2 | 5 |\n| 3 | 4 |\n| 3 | 5 |\n| 4 | 5 |\n\n",
            "text/latex": "A matrix: 10 × 2 of type int\n\\begin{tabular}{ll}\n\t 1 & 2\\\\\n\t 1 & 3\\\\\n\t 1 & 4\\\\\n\t 1 & 5\\\\\n\t 2 & 3\\\\\n\t 2 & 4\\\\\n\t 2 & 5\\\\\n\t 3 & 4\\\\\n\t 3 & 5\\\\\n\t 4 & 5\\\\\n\\end{tabular}\n",
            "text/plain": [
              "      [,1] [,2]\n",
              " [1,] 1    2   \n",
              " [2,] 1    3   \n",
              " [3,] 1    4   \n",
              " [4,] 1    5   \n",
              " [5,] 2    3   \n",
              " [6,] 2    4   \n",
              " [7,] 2    5   \n",
              " [8,] 3    4   \n",
              " [9,] 3    5   \n",
              "[10,] 4    5   "
            ]
          },
          "metadata": {}
        }
      ]
    },
    {
      "cell_type": "markdown",
      "source": [
        "Tanto *combinations* como *permutations* permiten ser más explícito, con algún vector en particular. Para el mismo ejemplo, si quisiéramos sacar todas las combinaciones y permutaciones tomando 2 elementos de las cinco vocales, podríamos realizarlo de la siguiente manera:"
      ],
      "metadata": {
        "id": "Z1-QYXFVWI-A"
      }
    },
    {
      "cell_type": "code",
      "source": [
        "permutations(5, 2, c(\"a\", \"e\", \"i\", \"o\", \"u\"))"
      ],
      "metadata": {
        "colab": {
          "base_uri": "https://localhost:8080/",
          "height": 731
        },
        "id": "VGnps32oWDoc",
        "outputId": "06c9d9e6-4391-4459-c55e-b05739107c95"
      },
      "execution_count": 20,
      "outputs": [
        {
          "output_type": "display_data",
          "data": {
            "text/html": [
              "<table class=\"dataframe\">\n",
              "<caption>A matrix: 20 × 2 of type chr</caption>\n",
              "<tbody>\n",
              "\t<tr><td>a</td><td>e</td></tr>\n",
              "\t<tr><td>a</td><td>i</td></tr>\n",
              "\t<tr><td>a</td><td>o</td></tr>\n",
              "\t<tr><td>a</td><td>u</td></tr>\n",
              "\t<tr><td>e</td><td>a</td></tr>\n",
              "\t<tr><td>e</td><td>i</td></tr>\n",
              "\t<tr><td>e</td><td>o</td></tr>\n",
              "\t<tr><td>e</td><td>u</td></tr>\n",
              "\t<tr><td>i</td><td>a</td></tr>\n",
              "\t<tr><td>i</td><td>e</td></tr>\n",
              "\t<tr><td>i</td><td>o</td></tr>\n",
              "\t<tr><td>i</td><td>u</td></tr>\n",
              "\t<tr><td>o</td><td>a</td></tr>\n",
              "\t<tr><td>o</td><td>e</td></tr>\n",
              "\t<tr><td>o</td><td>i</td></tr>\n",
              "\t<tr><td>o</td><td>u</td></tr>\n",
              "\t<tr><td>u</td><td>a</td></tr>\n",
              "\t<tr><td>u</td><td>e</td></tr>\n",
              "\t<tr><td>u</td><td>i</td></tr>\n",
              "\t<tr><td>u</td><td>o</td></tr>\n",
              "</tbody>\n",
              "</table>\n"
            ],
            "text/markdown": "\nA matrix: 20 × 2 of type chr\n\n| a | e |\n| a | i |\n| a | o |\n| a | u |\n| e | a |\n| e | i |\n| e | o |\n| e | u |\n| i | a |\n| i | e |\n| i | o |\n| i | u |\n| o | a |\n| o | e |\n| o | i |\n| o | u |\n| u | a |\n| u | e |\n| u | i |\n| u | o |\n\n",
            "text/latex": "A matrix: 20 × 2 of type chr\n\\begin{tabular}{ll}\n\t a & e\\\\\n\t a & i\\\\\n\t a & o\\\\\n\t a & u\\\\\n\t e & a\\\\\n\t e & i\\\\\n\t e & o\\\\\n\t e & u\\\\\n\t i & a\\\\\n\t i & e\\\\\n\t i & o\\\\\n\t i & u\\\\\n\t o & a\\\\\n\t o & e\\\\\n\t o & i\\\\\n\t o & u\\\\\n\t u & a\\\\\n\t u & e\\\\\n\t u & i\\\\\n\t u & o\\\\\n\\end{tabular}\n",
            "text/plain": [
              "      [,1] [,2]\n",
              " [1,] a    e   \n",
              " [2,] a    i   \n",
              " [3,] a    o   \n",
              " [4,] a    u   \n",
              " [5,] e    a   \n",
              " [6,] e    i   \n",
              " [7,] e    o   \n",
              " [8,] e    u   \n",
              " [9,] i    a   \n",
              "[10,] i    e   \n",
              "[11,] i    o   \n",
              "[12,] i    u   \n",
              "[13,] o    a   \n",
              "[14,] o    e   \n",
              "[15,] o    i   \n",
              "[16,] o    u   \n",
              "[17,] u    a   \n",
              "[18,] u    e   \n",
              "[19,] u    i   \n",
              "[20,] u    o   "
            ]
          },
          "metadata": {}
        }
      ]
    },
    {
      "cell_type": "code",
      "source": [
        "combinations(5, 2, c(\"a\", \"e\", \"i\", \"o\", \"u\"))"
      ],
      "metadata": {
        "colab": {
          "base_uri": "https://localhost:8080/",
          "height": 417
        },
        "id": "wAv0vXjqWbmU",
        "outputId": "ae987eb3-7e10-419a-c750-fa1c290bd606"
      },
      "execution_count": 21,
      "outputs": [
        {
          "output_type": "display_data",
          "data": {
            "text/html": [
              "<table class=\"dataframe\">\n",
              "<caption>A matrix: 10 × 2 of type chr</caption>\n",
              "<tbody>\n",
              "\t<tr><td>a</td><td>e</td></tr>\n",
              "\t<tr><td>a</td><td>i</td></tr>\n",
              "\t<tr><td>a</td><td>o</td></tr>\n",
              "\t<tr><td>a</td><td>u</td></tr>\n",
              "\t<tr><td>e</td><td>i</td></tr>\n",
              "\t<tr><td>e</td><td>o</td></tr>\n",
              "\t<tr><td>e</td><td>u</td></tr>\n",
              "\t<tr><td>i</td><td>o</td></tr>\n",
              "\t<tr><td>i</td><td>u</td></tr>\n",
              "\t<tr><td>o</td><td>u</td></tr>\n",
              "</tbody>\n",
              "</table>\n"
            ],
            "text/markdown": "\nA matrix: 10 × 2 of type chr\n\n| a | e |\n| a | i |\n| a | o |\n| a | u |\n| e | i |\n| e | o |\n| e | u |\n| i | o |\n| i | u |\n| o | u |\n\n",
            "text/latex": "A matrix: 10 × 2 of type chr\n\\begin{tabular}{ll}\n\t a & e\\\\\n\t a & i\\\\\n\t a & o\\\\\n\t a & u\\\\\n\t e & i\\\\\n\t e & o\\\\\n\t e & u\\\\\n\t i & o\\\\\n\t i & u\\\\\n\t o & u\\\\\n\\end{tabular}\n",
            "text/plain": [
              "      [,1] [,2]\n",
              " [1,] a    e   \n",
              " [2,] a    i   \n",
              " [3,] a    o   \n",
              " [4,] a    u   \n",
              " [5,] e    i   \n",
              " [6,] e    o   \n",
              " [7,] e    u   \n",
              " [8,] i    o   \n",
              " [9,] i    u   \n",
              "[10,] o    u   "
            ]
          },
          "metadata": {}
        }
      ]
    },
    {
      "cell_type": "markdown",
      "source": [
        "### Particiones\n",
        "\n",
        "El número de particiones posibles de un conjunto de 𝑛 elementos\n",
        "con 𝑟 particiones es:\n",
        "\n",
        "$particiones = \\dfrac {n!}{n_1!n_2! ... n_r!} =  {n!\\choose n_1,n_2, ... n_r} $\n",
        "\n",
        "Donde $𝑛_1$, $𝑛_2$, $𝑛_3$, ... , $𝑛_r$ son el número de elementos en cada una de las particiones\n",
        "\n",
        "Por ejemplo, para dividir un grupo de 10 personas en parejas.\n"
      ],
      "metadata": {
        "id": "x_wxbXWNXCZy"
      }
    },
    {
      "cell_type": "markdown",
      "source": [
        "### Subconjuntos\n",
        "\n",
        "El número de todos los subconjuntos posibles de un conjunto de 𝑛 objetos es igual a $2^n$\n",
        "\n",
        "Por ejemplo, todos los subconjuntos posibles para un conjunto de 10 elementos es:\n"
      ],
      "metadata": {
        "id": "iIkdgPSWa_oy"
      }
    },
    {
      "cell_type": "code",
      "source": [
        "factorial(10)/(5 * factorial(2))"
      ],
      "metadata": {
        "colab": {
          "base_uri": "https://localhost:8080/",
          "height": 34
        },
        "id": "1nBXRTVQagXt",
        "outputId": "14c8017f-ddec-4971-8584-a9cffb72ae73"
      },
      "execution_count": 22,
      "outputs": [
        {
          "output_type": "display_data",
          "data": {
            "text/html": [
              "362880"
            ],
            "text/markdown": "362880",
            "text/latex": "362880",
            "text/plain": [
              "[1] 362880"
            ]
          },
          "metadata": {}
        }
      ]
    },
    {
      "cell_type": "markdown",
      "source": [
        "Ejemplos:\n",
        "\n",
        "En una caja de pernos se encuentran 8 gruesos, 5\n",
        "medianos y 3 angostos.\n",
        "Una caja de tuercas contiene 6 que ajustan a\n",
        "los pernos gruesos, 4 que ajustan a los pernos\n",
        "medianos y 2 que ajustan a los pernos angostos.\n",
        "\n",
        "Se elige aleatoriamente un perno y una tuerca\n",
        "¿ Cuál es la probabilidad de que la tuerca ajuste\n",
        "con el perno? R: 0.3854\n"
      ],
      "metadata": {
        "id": "50z031JjdZOV"
      }
    },
    {
      "cell_type": "code",
      "source": [
        "(8/16 * 6/12) + (5/16 * 4/12) + (3/16 * 2/12)"
      ],
      "metadata": {
        "colab": {
          "base_uri": "https://localhost:8080/",
          "height": 34
        },
        "id": "LwKLVIheXBw1",
        "outputId": "a37ae8db-3d5b-4326-e413-6138cad23426"
      },
      "execution_count": 23,
      "outputs": [
        {
          "output_type": "display_data",
          "data": {
            "text/html": [
              "0.385416666666667"
            ],
            "text/markdown": "0.385416666666667",
            "text/latex": "0.385416666666667",
            "text/plain": [
              "[1] 0.3854167"
            ]
          },
          "metadata": {}
        }
      ]
    },
    {
      "cell_type": "markdown",
      "source": [
        "En mi tabla de clientes, tengo una variable, llamada *NumOfProducts*. Por privacidad, no puedo saber _qué_ productos tiene cada quién, pero sé que mis productos son:"
      ],
      "metadata": {
        "id": "mpR3UdaTiGQy"
      }
    },
    {
      "cell_type": "code",
      "source": [
        "productos <- c(\"Crédito\", \"Seguro\", \"Hipoteca\", \"Inversion\")"
      ],
      "metadata": {
        "id": "zMK8TiYbWd6J"
      },
      "execution_count": 24,
      "outputs": []
    },
    {
      "cell_type": "markdown",
      "source": [
        "Para un cliente que tiene NumOfProducts=2, ¿en cuántas combinaciones posibles uno de sus productos es un Seguro?"
      ],
      "metadata": {
        "id": "_7R7jE4jjLh4"
      }
    },
    {
      "cell_type": "code",
      "source": [
        "combinations(4,2, productos)"
      ],
      "metadata": {
        "colab": {
          "base_uri": "https://localhost:8080/",
          "height": 240
        },
        "id": "khYYRzkXjK5J",
        "outputId": "713a6c55-2cb5-436d-b0de-915ab3dbfeb3"
      },
      "execution_count": 25,
      "outputs": [
        {
          "output_type": "display_data",
          "data": {
            "text/html": [
              "<table class=\"dataframe\">\n",
              "<caption>A matrix: 6 × 2 of type chr</caption>\n",
              "<tbody>\n",
              "\t<tr><td>Crédito  </td><td>Hipoteca </td></tr>\n",
              "\t<tr><td>Crédito  </td><td>Inversion</td></tr>\n",
              "\t<tr><td>Crédito  </td><td>Seguro   </td></tr>\n",
              "\t<tr><td>Hipoteca </td><td>Inversion</td></tr>\n",
              "\t<tr><td>Hipoteca </td><td>Seguro   </td></tr>\n",
              "\t<tr><td>Inversion</td><td>Seguro   </td></tr>\n",
              "</tbody>\n",
              "</table>\n"
            ],
            "text/markdown": "\nA matrix: 6 × 2 of type chr\n\n| Crédito   | Hipoteca  |\n| Crédito   | Inversion |\n| Crédito   | Seguro    |\n| Hipoteca  | Inversion |\n| Hipoteca  | Seguro    |\n| Inversion | Seguro    |\n\n",
            "text/latex": "A matrix: 6 × 2 of type chr\n\\begin{tabular}{ll}\n\t Crédito   & Hipoteca \\\\\n\t Crédito   & Inversion\\\\\n\t Crédito   & Seguro   \\\\\n\t Hipoteca  & Inversion\\\\\n\t Hipoteca  & Seguro   \\\\\n\t Inversion & Seguro   \\\\\n\\end{tabular}\n",
            "text/plain": [
              "     [,1]      [,2]     \n",
              "[1,] Crédito   Hipoteca \n",
              "[2,] Crédito   Inversion\n",
              "[3,] Crédito   Seguro   \n",
              "[4,] Hipoteca  Inversion\n",
              "[5,] Hipoteca  Seguro   \n",
              "[6,] Inversion Seguro   "
            ]
          },
          "metadata": {}
        }
      ]
    },
    {
      "cell_type": "markdown",
      "source": [
        "En 3 de 6 combinaciones."
      ],
      "metadata": {
        "id": "TpH6fa5Ljj_q"
      }
    },
    {
      "cell_type": "markdown",
      "source": [
        "Agrega una nueva columna que agregue todas el número combinaciones posibles de productos, sabiendo que hay 4 productos en total.\n"
      ],
      "metadata": {
        "id": "GtyfRxdKkMdl"
      }
    },
    {
      "cell_type": "code",
      "source": [
        "df[\"Combinaciones_Productos\"] <- factorial(4) / factorial(4 - df$NumOfProducts)\n",
        "\n",
        "head(df)"
      ],
      "metadata": {
        "colab": {
          "base_uri": "https://localhost:8080/",
          "height": 306
        },
        "id": "GYC1RZSfjro7",
        "outputId": "95f9d507-06b5-43d2-b98b-45c1f1bcab9c"
      },
      "execution_count": 33,
      "outputs": [
        {
          "output_type": "display_data",
          "data": {
            "text/html": [
              "<table class=\"dataframe\">\n",
              "<caption>A data.frame: 6 × 19</caption>\n",
              "<thead>\n",
              "\t<tr><th></th><th scope=col>RowNumber</th><th scope=col>CustomerId</th><th scope=col>Surname</th><th scope=col>CreditScore</th><th scope=col>Geography</th><th scope=col>Gender</th><th scope=col>Age</th><th scope=col>Tenure</th><th scope=col>Balance</th><th scope=col>NumOfProducts</th><th scope=col>HasCrCard</th><th scope=col>IsActiveMember</th><th scope=col>EstimatedSalary</th><th scope=col>Exited</th><th scope=col>Complain</th><th scope=col>Satisfaction.Score</th><th scope=col>Card.Type</th><th scope=col>Point.Earned</th><th scope=col>Combinaciones_Productos</th></tr>\n",
              "\t<tr><th></th><th scope=col>&lt;int&gt;</th><th scope=col>&lt;int&gt;</th><th scope=col>&lt;chr&gt;</th><th scope=col>&lt;int&gt;</th><th scope=col>&lt;chr&gt;</th><th scope=col>&lt;chr&gt;</th><th scope=col>&lt;int&gt;</th><th scope=col>&lt;int&gt;</th><th scope=col>&lt;dbl&gt;</th><th scope=col>&lt;int&gt;</th><th scope=col>&lt;int&gt;</th><th scope=col>&lt;int&gt;</th><th scope=col>&lt;dbl&gt;</th><th scope=col>&lt;int&gt;</th><th scope=col>&lt;int&gt;</th><th scope=col>&lt;int&gt;</th><th scope=col>&lt;chr&gt;</th><th scope=col>&lt;int&gt;</th><th scope=col>&lt;dbl&gt;</th></tr>\n",
              "</thead>\n",
              "<tbody>\n",
              "\t<tr><th scope=row>1</th><td>1</td><td>15634602</td><td>Hargrave</td><td>619</td><td>France</td><td>Female</td><td>42</td><td>2</td><td>     0.00</td><td>1</td><td>1</td><td>1</td><td>101348.88</td><td>1</td><td>1</td><td>2</td><td>DIAMOND</td><td>464</td><td> 4</td></tr>\n",
              "\t<tr><th scope=row>2</th><td>2</td><td>15647311</td><td>Hill    </td><td>608</td><td>Spain </td><td>Female</td><td>41</td><td>1</td><td> 83807.86</td><td>1</td><td>0</td><td>1</td><td>112542.58</td><td>0</td><td>1</td><td>3</td><td>DIAMOND</td><td>456</td><td> 4</td></tr>\n",
              "\t<tr><th scope=row>3</th><td>3</td><td>15619304</td><td>Onio    </td><td>502</td><td>France</td><td>Female</td><td>42</td><td>8</td><td>159660.80</td><td>3</td><td>1</td><td>0</td><td>113931.57</td><td>1</td><td>1</td><td>3</td><td>DIAMOND</td><td>377</td><td>24</td></tr>\n",
              "\t<tr><th scope=row>4</th><td>4</td><td>15701354</td><td>Boni    </td><td>699</td><td>France</td><td>Female</td><td>39</td><td>1</td><td>     0.00</td><td>2</td><td>0</td><td>0</td><td> 93826.63</td><td>0</td><td>0</td><td>5</td><td>GOLD   </td><td>350</td><td>12</td></tr>\n",
              "\t<tr><th scope=row>5</th><td>5</td><td>15737888</td><td>Mitchell</td><td>850</td><td>Spain </td><td>Female</td><td>43</td><td>2</td><td>125510.82</td><td>1</td><td>1</td><td>1</td><td> 79084.10</td><td>0</td><td>0</td><td>5</td><td>GOLD   </td><td>425</td><td> 4</td></tr>\n",
              "\t<tr><th scope=row>6</th><td>6</td><td>15574012</td><td>Chu     </td><td>645</td><td>Spain </td><td>Male  </td><td>44</td><td>8</td><td>113755.78</td><td>2</td><td>1</td><td>0</td><td>149756.71</td><td>1</td><td>1</td><td>5</td><td>DIAMOND</td><td>484</td><td>12</td></tr>\n",
              "</tbody>\n",
              "</table>\n"
            ],
            "text/markdown": "\nA data.frame: 6 × 19\n\n| <!--/--> | RowNumber &lt;int&gt; | CustomerId &lt;int&gt; | Surname &lt;chr&gt; | CreditScore &lt;int&gt; | Geography &lt;chr&gt; | Gender &lt;chr&gt; | Age &lt;int&gt; | Tenure &lt;int&gt; | Balance &lt;dbl&gt; | NumOfProducts &lt;int&gt; | HasCrCard &lt;int&gt; | IsActiveMember &lt;int&gt; | EstimatedSalary &lt;dbl&gt; | Exited &lt;int&gt; | Complain &lt;int&gt; | Satisfaction.Score &lt;int&gt; | Card.Type &lt;chr&gt; | Point.Earned &lt;int&gt; | Combinaciones_Productos &lt;dbl&gt; |\n|---|---|---|---|---|---|---|---|---|---|---|---|---|---|---|---|---|---|---|---|\n| 1 | 1 | 15634602 | Hargrave | 619 | France | Female | 42 | 2 |      0.00 | 1 | 1 | 1 | 101348.88 | 1 | 1 | 2 | DIAMOND | 464 |  4 |\n| 2 | 2 | 15647311 | Hill     | 608 | Spain  | Female | 41 | 1 |  83807.86 | 1 | 0 | 1 | 112542.58 | 0 | 1 | 3 | DIAMOND | 456 |  4 |\n| 3 | 3 | 15619304 | Onio     | 502 | France | Female | 42 | 8 | 159660.80 | 3 | 1 | 0 | 113931.57 | 1 | 1 | 3 | DIAMOND | 377 | 24 |\n| 4 | 4 | 15701354 | Boni     | 699 | France | Female | 39 | 1 |      0.00 | 2 | 0 | 0 |  93826.63 | 0 | 0 | 5 | GOLD    | 350 | 12 |\n| 5 | 5 | 15737888 | Mitchell | 850 | Spain  | Female | 43 | 2 | 125510.82 | 1 | 1 | 1 |  79084.10 | 0 | 0 | 5 | GOLD    | 425 |  4 |\n| 6 | 6 | 15574012 | Chu      | 645 | Spain  | Male   | 44 | 8 | 113755.78 | 2 | 1 | 0 | 149756.71 | 1 | 1 | 5 | DIAMOND | 484 | 12 |\n\n",
            "text/latex": "A data.frame: 6 × 19\n\\begin{tabular}{r|lllllllllllllllllll}\n  & RowNumber & CustomerId & Surname & CreditScore & Geography & Gender & Age & Tenure & Balance & NumOfProducts & HasCrCard & IsActiveMember & EstimatedSalary & Exited & Complain & Satisfaction.Score & Card.Type & Point.Earned & Combinaciones\\_Productos\\\\\n  & <int> & <int> & <chr> & <int> & <chr> & <chr> & <int> & <int> & <dbl> & <int> & <int> & <int> & <dbl> & <int> & <int> & <int> & <chr> & <int> & <dbl>\\\\\n\\hline\n\t1 & 1 & 15634602 & Hargrave & 619 & France & Female & 42 & 2 &      0.00 & 1 & 1 & 1 & 101348.88 & 1 & 1 & 2 & DIAMOND & 464 &  4\\\\\n\t2 & 2 & 15647311 & Hill     & 608 & Spain  & Female & 41 & 1 &  83807.86 & 1 & 0 & 1 & 112542.58 & 0 & 1 & 3 & DIAMOND & 456 &  4\\\\\n\t3 & 3 & 15619304 & Onio     & 502 & France & Female & 42 & 8 & 159660.80 & 3 & 1 & 0 & 113931.57 & 1 & 1 & 3 & DIAMOND & 377 & 24\\\\\n\t4 & 4 & 15701354 & Boni     & 699 & France & Female & 39 & 1 &      0.00 & 2 & 0 & 0 &  93826.63 & 0 & 0 & 5 & GOLD    & 350 & 12\\\\\n\t5 & 5 & 15737888 & Mitchell & 850 & Spain  & Female & 43 & 2 & 125510.82 & 1 & 1 & 1 &  79084.10 & 0 & 0 & 5 & GOLD    & 425 &  4\\\\\n\t6 & 6 & 15574012 & Chu      & 645 & Spain  & Male   & 44 & 8 & 113755.78 & 2 & 1 & 0 & 149756.71 & 1 & 1 & 5 & DIAMOND & 484 & 12\\\\\n\\end{tabular}\n",
            "text/plain": [
              "  RowNumber CustomerId Surname  CreditScore Geography Gender Age Tenure\n",
              "1 1         15634602   Hargrave 619         France    Female 42  2     \n",
              "2 2         15647311   Hill     608         Spain     Female 41  1     \n",
              "3 3         15619304   Onio     502         France    Female 42  8     \n",
              "4 4         15701354   Boni     699         France    Female 39  1     \n",
              "5 5         15737888   Mitchell 850         Spain     Female 43  2     \n",
              "6 6         15574012   Chu      645         Spain     Male   44  8     \n",
              "  Balance   NumOfProducts HasCrCard IsActiveMember EstimatedSalary Exited\n",
              "1      0.00 1             1         1              101348.88       1     \n",
              "2  83807.86 1             0         1              112542.58       0     \n",
              "3 159660.80 3             1         0              113931.57       1     \n",
              "4      0.00 2             0         0               93826.63       0     \n",
              "5 125510.82 1             1         1               79084.10       0     \n",
              "6 113755.78 2             1         0              149756.71       1     \n",
              "  Complain Satisfaction.Score Card.Type Point.Earned Combinaciones_Productos\n",
              "1 1        2                  DIAMOND   464           4                     \n",
              "2 1        3                  DIAMOND   456           4                     \n",
              "3 1        3                  DIAMOND   377          24                     \n",
              "4 0        5                  GOLD      350          12                     \n",
              "5 0        5                  GOLD      425           4                     \n",
              "6 1        5                  DIAMOND   484          12                     "
            ]
          },
          "metadata": {}
        }
      ]
    },
    {
      "cell_type": "markdown",
      "source": [
        "## 2.b) Variables Aleatorias"
      ],
      "metadata": {
        "id": "rcRtoFTnme0M"
      }
    },
    {
      "cell_type": "code",
      "source": [
        "# unique() también sirve para encontrar mi espacio muestral\n",
        "\n",
        "unique(df$Tenure)"
      ],
      "metadata": {
        "colab": {
          "base_uri": "https://localhost:8080/",
          "height": 34
        },
        "id": "QUNBu_Gkmgdw",
        "outputId": "3b88f0de-24ab-4982-f4db-66fbec7b03ce"
      },
      "execution_count": 34,
      "outputs": [
        {
          "output_type": "display_data",
          "data": {
            "text/html": [
              "<style>\n",
              ".list-inline {list-style: none; margin:0; padding: 0}\n",
              ".list-inline>li {display: inline-block}\n",
              ".list-inline>li:not(:last-child)::after {content: \"\\00b7\"; padding: 0 .5ex}\n",
              "</style>\n",
              "<ol class=list-inline><li>2</li><li>1</li><li>8</li><li>7</li><li>4</li><li>6</li><li>3</li><li>10</li><li>5</li><li>9</li><li>0</li></ol>\n"
            ],
            "text/markdown": "1. 2\n2. 1\n3. 8\n4. 7\n5. 4\n6. 6\n7. 3\n8. 10\n9. 5\n10. 9\n11. 0\n\n\n",
            "text/latex": "\\begin{enumerate*}\n\\item 2\n\\item 1\n\\item 8\n\\item 7\n\\item 4\n\\item 6\n\\item 3\n\\item 10\n\\item 5\n\\item 9\n\\item 0\n\\end{enumerate*}\n",
            "text/plain": [
              " [1]  2  1  8  7  4  6  3 10  5  9  0"
            ]
          },
          "metadata": {}
        }
      ]
    },
    {
      "cell_type": "markdown",
      "source": [
        "Acá puedo ver que *Tenure* es una variable Discreta, con valores del 0 al 10.\n",
        "\n",
        "Pero, ¿tendrá una distribución Uniforme? Veamos el conteo de cada uno de los posibles valores."
      ],
      "metadata": {
        "id": "-c0OkSwknJhZ"
      }
    },
    {
      "cell_type": "code",
      "source": [
        "table(df$Tenure)"
      ],
      "metadata": {
        "colab": {
          "base_uri": "https://localhost:8080/",
          "height": 69
        },
        "id": "v4NlpQ0rnEUk",
        "outputId": "9874cd06-c519-4fe0-9c7c-00a46d4d4124"
      },
      "execution_count": 35,
      "outputs": [
        {
          "output_type": "display_data",
          "data": {
            "text/plain": [
              "\n",
              "   0    1    2    3    4    5    6    7    8    9   10 \n",
              " 413 1035 1048 1009  989 1012  967 1028 1025  984  490 "
            ]
          },
          "metadata": {}
        }
      ]
    },
    {
      "cell_type": "markdown",
      "source": [
        "¡Los valores varían mucho!\n",
        "Mi Dataset es, finalmente, una muestra del Universo total de clientes. Por lo tanto, es altamente probable que la Variable Aleatoria *Tenure* **no** de distribuya Uniformemente.\n",
        "\n",
        "Pero a ver: ¿puedo ir investigando cómo se distribuyen las variables en mi set de Datos? ¡Claro que sí!"
      ],
      "metadata": {
        "id": "juE0ltbEnhWt"
      }
    },
    {
      "cell_type": "code",
      "source": [
        "table(df$HasCrCard)"
      ],
      "metadata": {
        "colab": {
          "base_uri": "https://localhost:8080/",
          "height": 69
        },
        "id": "y2Kj58yinf-z",
        "outputId": "45780e2f-6026-470c-c6dd-0c769165c7b4"
      },
      "execution_count": 36,
      "outputs": [
        {
          "output_type": "display_data",
          "data": {
            "text/plain": [
              "\n",
              "   0    1 \n",
              "2945 7055 "
            ]
          },
          "metadata": {}
        }
      ]
    },
    {
      "cell_type": "code",
      "source": [
        "sum(df$HasCrCard) / dim(df)[1]"
      ],
      "metadata": {
        "colab": {
          "base_uri": "https://localhost:8080/",
          "height": 34
        },
        "id": "PVCalnvloJ8a",
        "outputId": "a949ac53-c54c-4f49-fde0-cac6cdd2b47e"
      },
      "execution_count": 38,
      "outputs": [
        {
          "output_type": "display_data",
          "data": {
            "text/html": [
              "0.7055"
            ],
            "text/markdown": "0.7055",
            "text/latex": "0.7055",
            "text/plain": [
              "[1] 0.7055"
            ]
          },
          "metadata": {}
        }
      ]
    },
    {
      "cell_type": "markdown",
      "source": [
        "Si tomo al azar un cliente, la probabilidad de que este tenga una tarjeta de Crédito se distribuirá **Bernoulli**, con p=0.7055\n",
        "\n",
        "Recordatorio: una variable aleatoria de Bernoulli representa casos experimentales donde sólo existe éxito o fracaso (sucede o no sucede).\n",
        "\n",
        "Si, en cambio, tomo $n$ clientes al azar, y puesto que cada uno de ellos son eventos independientes, la probabilidad de que $k$ de ellos tengan Tarjeta de Crédito se distribuye **Binomial**. Por ejemplo, si tomo una muestra de 5 elemenos, la probabilidad de que tres de ellos tenga tarjeta de crédito es:\n",
        "\n",
        "$p_x(k) = {n\\choose k} p^k (1-p) ^{n-k} $\n",
        "\n",
        "\n",
        "$p_x(3) = {5\\choose 3} 0.7055^3 (1-0.7055) ^{5-3} $"
      ],
      "metadata": {
        "id": "w2xlAckqoVHN"
      }
    },
    {
      "cell_type": "code",
      "source": [
        "# Puedo crear una función que me ayude con el número de combinaciones.\n",
        "n_comb <- function(n, r) {\n",
        "  return(factorial(n) / (factorial(r) * factorial(n - r)))\n",
        "}\n",
        "\n",
        "n_comb(5, 3)"
      ],
      "metadata": {
        "colab": {
          "base_uri": "https://localhost:8080/",
          "height": 34
        },
        "id": "jR5UVUEzoUDP",
        "outputId": "c2a7f242-73a2-4f49-c8bc-a7efcf8a3984"
      },
      "execution_count": 41,
      "outputs": [
        {
          "output_type": "display_data",
          "data": {
            "text/html": [
              "10"
            ],
            "text/markdown": "10",
            "text/latex": "10",
            "text/plain": [
              "[1] 10"
            ]
          },
          "metadata": {}
        }
      ]
    },
    {
      "cell_type": "code",
      "source": [
        "# Entonces, la probabilidad sería:\n",
        "\n",
        "p_3_en_5 <- n_comb(5, 3) * (0.7055)^3 * (1-0.7055)^2\n",
        "p_3_en_5"
      ],
      "metadata": {
        "colab": {
          "base_uri": "https://localhost:8080/",
          "height": 34
        },
        "id": "Lst_aA4OoHt3",
        "outputId": "ef0d2317-dd8d-4894-83f4-6bafc8eed40b"
      },
      "execution_count": 43,
      "outputs": [
        {
          "output_type": "display_data",
          "data": {
            "text/html": [
              "0.304552137901266"
            ],
            "text/markdown": "0.304552137901266",
            "text/latex": "0.304552137901266",
            "text/plain": [
              "[1] 0.3045521"
            ]
          },
          "metadata": {}
        }
      ]
    },
    {
      "cell_type": "markdown",
      "source": [
        "Y puedo hacer un experimento para ver si es cierto. Aplicando la _Ley de los Grandes números_, sé que si repito suficientes veces el experimento, sabré que el valor irá \"acercándose\" a 0.3 aproximadamente"
      ],
      "metadata": {
        "id": "h4ChklBsqyoY"
      }
    },
    {
      "cell_type": "code",
      "source": [
        "muestra <- sample(1:nrow(df), size=5,replace=FALSE)\n",
        "muestra"
      ],
      "metadata": {
        "colab": {
          "base_uri": "https://localhost:8080/",
          "height": 34
        },
        "id": "6OqAiOKEqvQH",
        "outputId": "b05bba2a-a52d-48b1-8b9b-17ca513fe2d8"
      },
      "execution_count": 45,
      "outputs": [
        {
          "output_type": "display_data",
          "data": {
            "text/html": [
              "<style>\n",
              ".list-inline {list-style: none; margin:0; padding: 0}\n",
              ".list-inline>li {display: inline-block}\n",
              ".list-inline>li:not(:last-child)::after {content: \"\\00b7\"; padding: 0 .5ex}\n",
              "</style>\n",
              "<ol class=list-inline><li>9466</li><li>1716</li><li>1339</li><li>5147</li><li>4657</li></ol>\n"
            ],
            "text/markdown": "1. 9466\n2. 1716\n3. 1339\n4. 5147\n5. 4657\n\n\n",
            "text/latex": "\\begin{enumerate*}\n\\item 9466\n\\item 1716\n\\item 1339\n\\item 5147\n\\item 4657\n\\end{enumerate*}\n",
            "text/plain": [
              "[1] 9466 1716 1339 5147 4657"
            ]
          },
          "metadata": {}
        }
      ]
    },
    {
      "cell_type": "markdown",
      "source": [
        "Obtengamos 1000 muestras de 5 elementos, y veamos en cuántas de ellas hay 3 con Tarjeta de Crédito"
      ],
      "metadata": {
        "id": "BgzO9kMfrnUb"
      }
    },
    {
      "cell_type": "code",
      "source": [
        "tarjetasCredito_muestras <- c()\n",
        "for (i in 1:1000) {\n",
        "muestra <- sample(1:nrow(df), size=5,replace=FALSE)\n",
        "tarjetas_esta_muestra <- sum(df$HasCrCard[muestra])\n",
        "tarjetasCredito_muestras <- c(tarjetasCredito_muestras, tarjetas_esta_muestra)\n",
        "}"
      ],
      "metadata": {
        "id": "DYsqrBCrrmFc"
      },
      "execution_count": 50,
      "outputs": []
    },
    {
      "cell_type": "code",
      "source": [
        "table(tarjetasCredito_muestras)"
      ],
      "metadata": {
        "colab": {
          "base_uri": "https://localhost:8080/",
          "height": 69
        },
        "id": "pq0_TOD0rciC",
        "outputId": "64f9843d-1a0d-4fe5-d3ea-f8b2dafe93f8"
      },
      "execution_count": 51,
      "outputs": [
        {
          "output_type": "display_data",
          "data": {
            "text/plain": [
              "tarjetasCredito_muestras\n",
              "  0   1   2   3   4   5 \n",
              "  2  23 113 299 379 184 "
            ]
          },
          "metadata": {}
        }
      ]
    },
    {
      "cell_type": "code",
      "source": [
        "table(tarjetasCredito_muestras)[4] / 1000"
      ],
      "metadata": {
        "colab": {
          "base_uri": "https://localhost:8080/",
          "height": 34
        },
        "id": "oONO1zzPsjp1",
        "outputId": "937fe3b5-7b17-430e-8e7a-d4e0353bd361"
      },
      "execution_count": 53,
      "outputs": [
        {
          "output_type": "display_data",
          "data": {
            "text/html": [
              "<strong>3:</strong> 0.299"
            ],
            "text/markdown": "**3:** 0.299",
            "text/latex": "\\textbf{3:} 0.299",
            "text/plain": [
              "    3 \n",
              "0.299 "
            ]
          },
          "metadata": {}
        }
      ]
    },
    {
      "cell_type": "markdown",
      "source": [
        "Valor que es, efectivamente, aproximado, al 30.45 % que había calculado.\n",
        "\n",
        "De la misma manera, sería interesante analizar de qué manera se distribuirían las demás variables. Por ejemplo, *Age* y *Tenure*, al hacer referencia al tiempo, quizá se distribuyan Poisson..."
      ],
      "metadata": {
        "id": "jzxkodnns3-x"
      }
    },
    {
      "cell_type": "markdown",
      "source": [
        "### Valor esperado de una Variable Discreta\n",
        "\n",
        "Lo definimos como el posible valor de la variable, por la probabilidad de que tome ese valor. Es decir, un promedio ponderado.\n",
        "\n",
        "$E(X) ) \\sum x p_x(X) $"
      ],
      "metadata": {
        "id": "cuXTyHmKudMY"
      }
    },
    {
      "cell_type": "code",
      "source": [
        "# ¿Cuál será el valor Esperado de Tenure?\n",
        "\n",
        "table(df$Tenure)"
      ],
      "metadata": {
        "colab": {
          "base_uri": "https://localhost:8080/",
          "height": 69
        },
        "id": "JtOBGN2xsriB",
        "outputId": "81a8dbe1-d428-4832-a8e7-4c9e13d845cf"
      },
      "execution_count": 56,
      "outputs": [
        {
          "output_type": "display_data",
          "data": {
            "text/plain": [
              "\n",
              "   0    1    2    3    4    5    6    7    8    9   10 \n",
              " 413 1035 1048 1009  989 1012  967 1028 1025  984  490 "
            ]
          },
          "metadata": {}
        }
      ]
    },
    {
      "cell_type": "code",
      "source": [
        "# Calculo las probabilidades individuales\n",
        "table(df$Tenure) / 10000"
      ],
      "metadata": {
        "colab": {
          "base_uri": "https://localhost:8080/",
          "height": 69
        },
        "id": "KMIjUq1BuHVK",
        "outputId": "9985b19d-ecfb-499d-beb6-0dda232c8dd8"
      },
      "execution_count": 57,
      "outputs": [
        {
          "output_type": "display_data",
          "data": {
            "text/plain": [
              "\n",
              "     0      1      2      3      4      5      6      7      8      9     10 \n",
              "0.0413 0.1035 0.1048 0.1009 0.0989 0.1012 0.0967 0.1028 0.1025 0.0984 0.0490 "
            ]
          },
          "metadata": {}
        }
      ]
    },
    {
      "cell_type": "code",
      "source": [
        "# Calculo el valor esperado\n",
        "esperado_Tenure <- sum( (table(df$Tenure) / 10000) * c(0, 1, 2, 3, 4, 5, 6, 7, 8, 9, 10) )\n",
        "esperado_Tenure"
      ],
      "metadata": {
        "colab": {
          "base_uri": "https://localhost:8080/",
          "height": 34
        },
        "id": "J7pXHVYzvCMY",
        "outputId": "ba8772ec-450e-4c91-88b0-d73bf6a5430c"
      },
      "execution_count": 67,
      "outputs": [
        {
          "output_type": "display_data",
          "data": {
            "text/html": [
              "5.0128"
            ],
            "text/markdown": "5.0128",
            "text/latex": "5.0128",
            "text/plain": [
              "[1] 5.0128"
            ]
          },
          "metadata": {}
        }
      ]
    },
    {
      "cell_type": "code",
      "source": [
        "# Lo cuál, como sabemos, sería igual al promedio:\n",
        "mean(df$Tenure)"
      ],
      "metadata": {
        "colab": {
          "base_uri": "https://localhost:8080/",
          "height": 34
        },
        "id": "bDMyH1JHvWu8",
        "outputId": "049bdee4-8a5e-4a27-9648-92057ad4cf4c"
      },
      "execution_count": 69,
      "outputs": [
        {
          "output_type": "display_data",
          "data": {
            "text/html": [
              "5.0128"
            ],
            "text/markdown": "5.0128",
            "text/latex": "5.0128",
            "text/plain": [
              "[1] 5.0128"
            ]
          },
          "metadata": {}
        }
      ]
    },
    {
      "cell_type": "markdown",
      "source": [
        "### Varianza y Desviación Estándar"
      ],
      "metadata": {
        "id": "FHTcVxBqwNW5"
      }
    },
    {
      "cell_type": "code",
      "source": [
        "# Puedo calcular la Varianza de una variable de la siguiente manera:\n",
        "var(df$Tenure)"
      ],
      "metadata": {
        "colab": {
          "base_uri": "https://localhost:8080/",
          "height": 34
        },
        "id": "ZAg2RsoYwGmU",
        "outputId": "b3b7c088-6b49-4212-943f-c01f8c7e1ba3"
      },
      "execution_count": 71,
      "outputs": [
        {
          "output_type": "display_data",
          "data": {
            "text/html": [
              "8.36467262726273"
            ],
            "text/markdown": "8.36467262726273",
            "text/latex": "8.36467262726273",
            "text/plain": [
              "[1] 8.364673"
            ]
          },
          "metadata": {}
        }
      ]
    },
    {
      "cell_type": "code",
      "source": [
        "# Y la desviación estándar de dicha variable, es la raíz cuadrada de la varianza:\n",
        "sqrt(var(df$Tenure))"
      ],
      "metadata": {
        "colab": {
          "base_uri": "https://localhost:8080/",
          "height": 34
        },
        "id": "ceKZ1VnSwg0n",
        "outputId": "fdfc1657-a0f3-44de-876c-aee8ce25eb00"
      },
      "execution_count": 72,
      "outputs": [
        {
          "output_type": "display_data",
          "data": {
            "text/html": [
              "2.89217437704968"
            ],
            "text/markdown": "2.89217437704968",
            "text/latex": "2.89217437704968",
            "text/plain": [
              "[1] 2.892174"
            ]
          },
          "metadata": {}
        }
      ]
    },
    {
      "cell_type": "code",
      "source": [
        "sd(df$Tenure)"
      ],
      "metadata": {
        "colab": {
          "base_uri": "https://localhost:8080/",
          "height": 34
        },
        "id": "1S7c4ozTwqpE",
        "outputId": "f43ccf3f-af55-4ce9-eed1-167e93f50b8d"
      },
      "execution_count": 73,
      "outputs": [
        {
          "output_type": "display_data",
          "data": {
            "text/html": [
              "2.89217437704968"
            ],
            "text/markdown": "2.89217437704968",
            "text/latex": "2.89217437704968",
            "text/plain": [
              "[1] 2.892174"
            ]
          },
          "metadata": {}
        }
      ]
    },
    {
      "cell_type": "code",
      "source": [],
      "metadata": {
        "id": "Za_QqAqDwtKt"
      },
      "execution_count": null,
      "outputs": []
    }
  ]
}