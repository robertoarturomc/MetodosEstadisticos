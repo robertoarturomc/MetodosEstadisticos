{
  "nbformat": 4,
  "nbformat_minor": 0,
  "metadata": {
    "colab": {
      "provenance": [],
      "authorship_tag": "ABX9TyOeriQxxhLjSRkJEmhhIONt",
      "include_colab_link": true
    },
    "kernelspec": {
      "name": "ir",
      "display_name": "R"
    },
    "language_info": {
      "name": "R"
    }
  },
  "cells": [
    {
      "cell_type": "markdown",
      "metadata": {
        "id": "view-in-github",
        "colab_type": "text"
      },
      "source": [
        "<a href=\"https://colab.research.google.com/github/robertoarturomc/MetodosEstadisticos/blob/main/2_Reto_Modelado_Estadistico.ipynb\" target=\"_parent\"><img src=\"https://colab.research.google.com/assets/colab-badge.svg\" alt=\"Open In Colab\"/></a>"
      ]
    },
    {
      "cell_type": "markdown",
      "source": [
        "### Reto Modelación Estadística\n",
        "## 2. Funciones Avanzadas de Probabilidad"
      ],
      "metadata": {
        "id": "5mpPthRQDicZ"
      }
    },
    {
      "cell_type": "code",
      "execution_count": null,
      "metadata": {
        "colab": {
          "base_uri": "https://localhost:8080/",
          "height": 306
        },
        "id": "hhtHaWt1CCeG",
        "outputId": "3e39fbe3-dfd8-4bca-f26d-c52229fe5d97"
      },
      "outputs": [
        {
          "output_type": "display_data",
          "data": {
            "text/html": [
              "<table class=\"dataframe\">\n",
              "<caption>A data.frame: 6 × 18</caption>\n",
              "<thead>\n",
              "\t<tr><th></th><th scope=col>RowNumber</th><th scope=col>CustomerId</th><th scope=col>Surname</th><th scope=col>CreditScore</th><th scope=col>Geography</th><th scope=col>Gender</th><th scope=col>Age</th><th scope=col>Tenure</th><th scope=col>Balance</th><th scope=col>NumOfProducts</th><th scope=col>HasCrCard</th><th scope=col>IsActiveMember</th><th scope=col>EstimatedSalary</th><th scope=col>Exited</th><th scope=col>Complain</th><th scope=col>Satisfaction.Score</th><th scope=col>Card.Type</th><th scope=col>Point.Earned</th></tr>\n",
              "\t<tr><th></th><th scope=col>&lt;int&gt;</th><th scope=col>&lt;int&gt;</th><th scope=col>&lt;chr&gt;</th><th scope=col>&lt;int&gt;</th><th scope=col>&lt;chr&gt;</th><th scope=col>&lt;chr&gt;</th><th scope=col>&lt;int&gt;</th><th scope=col>&lt;int&gt;</th><th scope=col>&lt;dbl&gt;</th><th scope=col>&lt;int&gt;</th><th scope=col>&lt;int&gt;</th><th scope=col>&lt;int&gt;</th><th scope=col>&lt;dbl&gt;</th><th scope=col>&lt;int&gt;</th><th scope=col>&lt;int&gt;</th><th scope=col>&lt;int&gt;</th><th scope=col>&lt;chr&gt;</th><th scope=col>&lt;int&gt;</th></tr>\n",
              "</thead>\n",
              "<tbody>\n",
              "\t<tr><th scope=row>9995</th><td> 9995</td><td>15719294</td><td>Wood     </td><td>800</td><td>France </td><td>Female</td><td>29</td><td> 2</td><td>     0.00</td><td>2</td><td>0</td><td>0</td><td>167773.55</td><td>0</td><td>0</td><td>4</td><td>PLATINUM</td><td>311</td></tr>\n",
              "\t<tr><th scope=row>9996</th><td> 9996</td><td>15606229</td><td>Obijiaku </td><td>771</td><td>France </td><td>Male  </td><td>39</td><td> 5</td><td>     0.00</td><td>2</td><td>1</td><td>0</td><td> 96270.64</td><td>0</td><td>0</td><td>1</td><td>DIAMOND </td><td>300</td></tr>\n",
              "\t<tr><th scope=row>9997</th><td> 9997</td><td>15569892</td><td>Johnstone</td><td>516</td><td>France </td><td>Male  </td><td>35</td><td>10</td><td> 57369.61</td><td>1</td><td>1</td><td>1</td><td>101699.77</td><td>0</td><td>0</td><td>5</td><td>PLATINUM</td><td>771</td></tr>\n",
              "\t<tr><th scope=row>9998</th><td> 9998</td><td>15584532</td><td>Liu      </td><td>709</td><td>France </td><td>Female</td><td>36</td><td> 7</td><td>     0.00</td><td>1</td><td>0</td><td>1</td><td> 42085.58</td><td>1</td><td>1</td><td>3</td><td>SILVER  </td><td>564</td></tr>\n",
              "\t<tr><th scope=row>9999</th><td> 9999</td><td>15682355</td><td>Sabbatini</td><td>772</td><td>Germany</td><td>Male  </td><td>42</td><td> 3</td><td> 75075.31</td><td>2</td><td>1</td><td>0</td><td> 92888.52</td><td>1</td><td>1</td><td>2</td><td>GOLD    </td><td>339</td></tr>\n",
              "\t<tr><th scope=row>10000</th><td>10000</td><td>15628319</td><td>Walker   </td><td>792</td><td>France </td><td>Female</td><td>28</td><td> 4</td><td>130142.79</td><td>1</td><td>1</td><td>0</td><td> 38190.78</td><td>0</td><td>0</td><td>3</td><td>DIAMOND </td><td>911</td></tr>\n",
              "</tbody>\n",
              "</table>\n"
            ],
            "text/markdown": "\nA data.frame: 6 × 18\n\n| <!--/--> | RowNumber &lt;int&gt; | CustomerId &lt;int&gt; | Surname &lt;chr&gt; | CreditScore &lt;int&gt; | Geography &lt;chr&gt; | Gender &lt;chr&gt; | Age &lt;int&gt; | Tenure &lt;int&gt; | Balance &lt;dbl&gt; | NumOfProducts &lt;int&gt; | HasCrCard &lt;int&gt; | IsActiveMember &lt;int&gt; | EstimatedSalary &lt;dbl&gt; | Exited &lt;int&gt; | Complain &lt;int&gt; | Satisfaction.Score &lt;int&gt; | Card.Type &lt;chr&gt; | Point.Earned &lt;int&gt; |\n|---|---|---|---|---|---|---|---|---|---|---|---|---|---|---|---|---|---|---|\n| 9995 |  9995 | 15719294 | Wood      | 800 | France  | Female | 29 |  2 |      0.00 | 2 | 0 | 0 | 167773.55 | 0 | 0 | 4 | PLATINUM | 311 |\n| 9996 |  9996 | 15606229 | Obijiaku  | 771 | France  | Male   | 39 |  5 |      0.00 | 2 | 1 | 0 |  96270.64 | 0 | 0 | 1 | DIAMOND  | 300 |\n| 9997 |  9997 | 15569892 | Johnstone | 516 | France  | Male   | 35 | 10 |  57369.61 | 1 | 1 | 1 | 101699.77 | 0 | 0 | 5 | PLATINUM | 771 |\n| 9998 |  9998 | 15584532 | Liu       | 709 | France  | Female | 36 |  7 |      0.00 | 1 | 0 | 1 |  42085.58 | 1 | 1 | 3 | SILVER   | 564 |\n| 9999 |  9999 | 15682355 | Sabbatini | 772 | Germany | Male   | 42 |  3 |  75075.31 | 2 | 1 | 0 |  92888.52 | 1 | 1 | 2 | GOLD     | 339 |\n| 10000 | 10000 | 15628319 | Walker    | 792 | France  | Female | 28 |  4 | 130142.79 | 1 | 1 | 0 |  38190.78 | 0 | 0 | 3 | DIAMOND  | 911 |\n\n",
            "text/latex": "A data.frame: 6 × 18\n\\begin{tabular}{r|llllllllllllllllll}\n  & RowNumber & CustomerId & Surname & CreditScore & Geography & Gender & Age & Tenure & Balance & NumOfProducts & HasCrCard & IsActiveMember & EstimatedSalary & Exited & Complain & Satisfaction.Score & Card.Type & Point.Earned\\\\\n  & <int> & <int> & <chr> & <int> & <chr> & <chr> & <int> & <int> & <dbl> & <int> & <int> & <int> & <dbl> & <int> & <int> & <int> & <chr> & <int>\\\\\n\\hline\n\t9995 &  9995 & 15719294 & Wood      & 800 & France  & Female & 29 &  2 &      0.00 & 2 & 0 & 0 & 167773.55 & 0 & 0 & 4 & PLATINUM & 311\\\\\n\t9996 &  9996 & 15606229 & Obijiaku  & 771 & France  & Male   & 39 &  5 &      0.00 & 2 & 1 & 0 &  96270.64 & 0 & 0 & 1 & DIAMOND  & 300\\\\\n\t9997 &  9997 & 15569892 & Johnstone & 516 & France  & Male   & 35 & 10 &  57369.61 & 1 & 1 & 1 & 101699.77 & 0 & 0 & 5 & PLATINUM & 771\\\\\n\t9998 &  9998 & 15584532 & Liu       & 709 & France  & Female & 36 &  7 &      0.00 & 1 & 0 & 1 &  42085.58 & 1 & 1 & 3 & SILVER   & 564\\\\\n\t9999 &  9999 & 15682355 & Sabbatini & 772 & Germany & Male   & 42 &  3 &  75075.31 & 2 & 1 & 0 &  92888.52 & 1 & 1 & 2 & GOLD     & 339\\\\\n\t10000 & 10000 & 15628319 & Walker    & 792 & France  & Female & 28 &  4 & 130142.79 & 1 & 1 & 0 &  38190.78 & 0 & 0 & 3 & DIAMOND  & 911\\\\\n\\end{tabular}\n",
            "text/plain": [
              "      RowNumber CustomerId Surname   CreditScore Geography Gender Age Tenure\n",
              "9995   9995     15719294   Wood      800         France    Female 29   2    \n",
              "9996   9996     15606229   Obijiaku  771         France    Male   39   5    \n",
              "9997   9997     15569892   Johnstone 516         France    Male   35  10    \n",
              "9998   9998     15584532   Liu       709         France    Female 36   7    \n",
              "9999   9999     15682355   Sabbatini 772         Germany   Male   42   3    \n",
              "10000 10000     15628319   Walker    792         France    Female 28   4    \n",
              "      Balance   NumOfProducts HasCrCard IsActiveMember EstimatedSalary Exited\n",
              "9995       0.00 2             0         0              167773.55       0     \n",
              "9996       0.00 2             1         0               96270.64       0     \n",
              "9997   57369.61 1             1         1              101699.77       0     \n",
              "9998       0.00 1             0         1               42085.58       1     \n",
              "9999   75075.31 2             1         0               92888.52       1     \n",
              "10000 130142.79 1             1         0               38190.78       0     \n",
              "      Complain Satisfaction.Score Card.Type Point.Earned\n",
              "9995  0        4                  PLATINUM  311         \n",
              "9996  0        1                  DIAMOND   300         \n",
              "9997  0        5                  PLATINUM  771         \n",
              "9998  1        3                  SILVER    564         \n",
              "9999  1        2                  GOLD      339         \n",
              "10000 0        3                  DIAMOND   911         "
            ]
          },
          "metadata": {}
        }
      ],
      "source": [
        "df <- read.csv(\"Customer-Churn-Records.csv\")\n",
        "tail(df)"
      ]
    },
    {
      "cell_type": "markdown",
      "source": [
        "### Conteos\n",
        "¿Cómo puedo saber cuántos y cuáles tipos distintos de *Card.Type* existen?\n",
        "\n",
        "¿Cómo puedo saber cuántos y cuáles tipos distintos de *Satisfaction.Score* existen?\n",
        "\n",
        "¿Cómo puedo saber cuántas y cuáles combinaciones de *Card.Type* con *Satisfaction.Score* existen?\n"
      ],
      "metadata": {
        "id": "ladmeqaxCRfH"
      }
    },
    {
      "cell_type": "code",
      "source": [
        "unique(df$Card.Type)"
      ],
      "metadata": {
        "colab": {
          "base_uri": "https://localhost:8080/",
          "height": 34
        },
        "id": "vjmnUIoGHjsB",
        "outputId": "e3ae0dc5-7717-41c5-c027-8553d764e882"
      },
      "execution_count": null,
      "outputs": [
        {
          "output_type": "display_data",
          "data": {
            "text/html": [
              "<style>\n",
              ".list-inline {list-style: none; margin:0; padding: 0}\n",
              ".list-inline>li {display: inline-block}\n",
              ".list-inline>li:not(:last-child)::after {content: \"\\00b7\"; padding: 0 .5ex}\n",
              "</style>\n",
              "<ol class=list-inline><li>'DIAMOND'</li><li>'GOLD'</li><li>'SILVER'</li><li>'PLATINUM'</li></ol>\n"
            ],
            "text/markdown": "1. 'DIAMOND'\n2. 'GOLD'\n3. 'SILVER'\n4. 'PLATINUM'\n\n\n",
            "text/latex": "\\begin{enumerate*}\n\\item 'DIAMOND'\n\\item 'GOLD'\n\\item 'SILVER'\n\\item 'PLATINUM'\n\\end{enumerate*}\n",
            "text/plain": [
              "[1] \"DIAMOND\"  \"GOLD\"     \"SILVER\"   \"PLATINUM\""
            ]
          },
          "metadata": {}
        }
      ]
    },
    {
      "cell_type": "code",
      "source": [
        "n_tarjetas <- length(unique(df$Card.Type))\n",
        "n_tarjetas"
      ],
      "metadata": {
        "colab": {
          "base_uri": "https://localhost:8080/",
          "height": 34
        },
        "id": "vscx096lMrIk",
        "outputId": "60b4abb6-bde3-42bc-c787-85897687d249"
      },
      "execution_count": null,
      "outputs": [
        {
          "output_type": "display_data",
          "data": {
            "text/html": [
              "4"
            ],
            "text/markdown": "4",
            "text/latex": "4",
            "text/plain": [
              "[1] 4"
            ]
          },
          "metadata": {}
        }
      ]
    },
    {
      "cell_type": "code",
      "source": [
        "unique(df$Satisfaction.Score)"
      ],
      "metadata": {
        "colab": {
          "base_uri": "https://localhost:8080/",
          "height": 34
        },
        "id": "VgkwgZ_MCR0N",
        "outputId": "2e90258d-4752-4aa0-b03a-1d56ae0b2a98"
      },
      "execution_count": null,
      "outputs": [
        {
          "output_type": "display_data",
          "data": {
            "text/html": [
              "<style>\n",
              ".list-inline {list-style: none; margin:0; padding: 0}\n",
              ".list-inline>li {display: inline-block}\n",
              ".list-inline>li:not(:last-child)::after {content: \"\\00b7\"; padding: 0 .5ex}\n",
              "</style>\n",
              "<ol class=list-inline><li>2</li><li>3</li><li>5</li><li>4</li><li>1</li></ol>\n"
            ],
            "text/markdown": "1. 2\n2. 3\n3. 5\n4. 4\n5. 1\n\n\n",
            "text/latex": "\\begin{enumerate*}\n\\item 2\n\\item 3\n\\item 5\n\\item 4\n\\item 1\n\\end{enumerate*}\n",
            "text/plain": [
              "[1] 2 3 5 4 1"
            ]
          },
          "metadata": {}
        }
      ]
    },
    {
      "cell_type": "code",
      "source": [
        "n_scores <- length(unique(df$Satisfaction.Score))\n",
        "n_scores"
      ],
      "metadata": {
        "colab": {
          "base_uri": "https://localhost:8080/",
          "height": 34
        },
        "id": "hssinvPvOCld",
        "outputId": "eb0a36ae-a570-4e8d-ee62-541a05aca9e4"
      },
      "execution_count": null,
      "outputs": [
        {
          "output_type": "display_data",
          "data": {
            "text/html": [
              "5"
            ],
            "text/markdown": "5",
            "text/latex": "5",
            "text/plain": [
              "[1] 5"
            ]
          },
          "metadata": {}
        }
      ]
    },
    {
      "cell_type": "code",
      "source": [
        "n_tarjetas * n_scores"
      ],
      "metadata": {
        "colab": {
          "base_uri": "https://localhost:8080/",
          "height": 34
        },
        "id": "h983o8O_OFnc",
        "outputId": "7f8ba853-c97a-40f7-cf2d-4dde090d00a5"
      },
      "execution_count": null,
      "outputs": [
        {
          "output_type": "display_data",
          "data": {
            "text/html": [
              "20"
            ],
            "text/markdown": "20",
            "text/latex": "20",
            "text/plain": [
              "[1] 20"
            ]
          },
          "metadata": {}
        }
      ]
    },
    {
      "cell_type": "markdown",
      "source": [
        "### Permutaciones\n",
        "\n",
        "Para sacar las distintas permutaciones de *k* elementos en *n* elementos, teníamos la siguiente fórmula:\n",
        "\n",
        "$permutaciones = \\dfrac {n!}{(n-k)!}$\n",
        "\n",
        "Podemos calcularlo directamente. Por ejemplo, para tener las permutaciones de 2 elementos en 5:"
      ],
      "metadata": {
        "id": "YQU-j3-RSf76"
      }
    },
    {
      "cell_type": "code",
      "source": [
        "factorial(5)/factorial(5-2)"
      ],
      "metadata": {
        "colab": {
          "base_uri": "https://localhost:8080/",
          "height": 34
        },
        "id": "Z2tNF9vdTl7M",
        "outputId": "74189224-9112-41bb-bd60-f3a660c38b94"
      },
      "execution_count": null,
      "outputs": [
        {
          "output_type": "display_data",
          "data": {
            "text/html": [
              "20"
            ],
            "text/markdown": "20",
            "text/latex": "20",
            "text/plain": [
              "[1] 20"
            ]
          },
          "metadata": {}
        }
      ]
    },
    {
      "cell_type": "markdown",
      "source": [
        "Aunque también podemos imprimir las distintas permutaciones usando el paquete *gtools*."
      ],
      "metadata": {
        "id": "X-T2CjNFT5ED"
      }
    },
    {
      "cell_type": "code",
      "source": [
        "install.packages(\"gtools\")"
      ],
      "metadata": {
        "colab": {
          "base_uri": "https://localhost:8080/"
        },
        "id": "iBn11BZhSGKt",
        "outputId": "2da31032-bdb9-444d-cca6-c273075962ee"
      },
      "execution_count": null,
      "outputs": [
        {
          "output_type": "stream",
          "name": "stderr",
          "text": [
            "Installing package into ‘/usr/local/lib/R/site-library’\n",
            "(as ‘lib’ is unspecified)\n",
            "\n"
          ]
        }
      ]
    },
    {
      "cell_type": "code",
      "source": [
        "library(gtools)"
      ],
      "metadata": {
        "id": "nkjvPJu_SEAi"
      },
      "execution_count": null,
      "outputs": []
    },
    {
      "cell_type": "code",
      "source": [
        "permutations(5, 2)"
      ],
      "metadata": {
        "colab": {
          "base_uri": "https://localhost:8080/",
          "height": 731
        },
        "id": "N5Lwl3JgRao_",
        "outputId": "f9b77449-b7f3-49ca-f2d6-e28ee518c38e"
      },
      "execution_count": null,
      "outputs": [
        {
          "output_type": "display_data",
          "data": {
            "text/html": [
              "<table class=\"dataframe\">\n",
              "<caption>A matrix: 20 × 2 of type int</caption>\n",
              "<tbody>\n",
              "\t<tr><td>1</td><td>2</td></tr>\n",
              "\t<tr><td>1</td><td>3</td></tr>\n",
              "\t<tr><td>1</td><td>4</td></tr>\n",
              "\t<tr><td>1</td><td>5</td></tr>\n",
              "\t<tr><td>2</td><td>1</td></tr>\n",
              "\t<tr><td>2</td><td>3</td></tr>\n",
              "\t<tr><td>2</td><td>4</td></tr>\n",
              "\t<tr><td>2</td><td>5</td></tr>\n",
              "\t<tr><td>3</td><td>1</td></tr>\n",
              "\t<tr><td>3</td><td>2</td></tr>\n",
              "\t<tr><td>3</td><td>4</td></tr>\n",
              "\t<tr><td>3</td><td>5</td></tr>\n",
              "\t<tr><td>4</td><td>1</td></tr>\n",
              "\t<tr><td>4</td><td>2</td></tr>\n",
              "\t<tr><td>4</td><td>3</td></tr>\n",
              "\t<tr><td>4</td><td>5</td></tr>\n",
              "\t<tr><td>5</td><td>1</td></tr>\n",
              "\t<tr><td>5</td><td>2</td></tr>\n",
              "\t<tr><td>5</td><td>3</td></tr>\n",
              "\t<tr><td>5</td><td>4</td></tr>\n",
              "</tbody>\n",
              "</table>\n"
            ],
            "text/markdown": "\nA matrix: 20 × 2 of type int\n\n| 1 | 2 |\n| 1 | 3 |\n| 1 | 4 |\n| 1 | 5 |\n| 2 | 1 |\n| 2 | 3 |\n| 2 | 4 |\n| 2 | 5 |\n| 3 | 1 |\n| 3 | 2 |\n| 3 | 4 |\n| 3 | 5 |\n| 4 | 1 |\n| 4 | 2 |\n| 4 | 3 |\n| 4 | 5 |\n| 5 | 1 |\n| 5 | 2 |\n| 5 | 3 |\n| 5 | 4 |\n\n",
            "text/latex": "A matrix: 20 × 2 of type int\n\\begin{tabular}{ll}\n\t 1 & 2\\\\\n\t 1 & 3\\\\\n\t 1 & 4\\\\\n\t 1 & 5\\\\\n\t 2 & 1\\\\\n\t 2 & 3\\\\\n\t 2 & 4\\\\\n\t 2 & 5\\\\\n\t 3 & 1\\\\\n\t 3 & 2\\\\\n\t 3 & 4\\\\\n\t 3 & 5\\\\\n\t 4 & 1\\\\\n\t 4 & 2\\\\\n\t 4 & 3\\\\\n\t 4 & 5\\\\\n\t 5 & 1\\\\\n\t 5 & 2\\\\\n\t 5 & 3\\\\\n\t 5 & 4\\\\\n\\end{tabular}\n",
            "text/plain": [
              "      [,1] [,2]\n",
              " [1,] 1    2   \n",
              " [2,] 1    3   \n",
              " [3,] 1    4   \n",
              " [4,] 1    5   \n",
              " [5,] 2    1   \n",
              " [6,] 2    3   \n",
              " [7,] 2    4   \n",
              " [8,] 2    5   \n",
              " [9,] 3    1   \n",
              "[10,] 3    2   \n",
              "[11,] 3    4   \n",
              "[12,] 3    5   \n",
              "[13,] 4    1   \n",
              "[14,] 4    2   \n",
              "[15,] 4    3   \n",
              "[16,] 4    5   \n",
              "[17,] 5    1   \n",
              "[18,] 5    2   \n",
              "[19,] 5    3   \n",
              "[20,] 5    4   "
            ]
          },
          "metadata": {}
        }
      ]
    },
    {
      "cell_type": "markdown",
      "source": [
        "### Combinaciones\n",
        "\n",
        "Para sacar las distintas combinaciones de *k* elementos en *n* elementos, teníamos la siguiente fórmula:\n",
        "\n",
        "$combinaciones = \\dfrac {n!}{k!(n-k)!} =  {n \\choose k}$\n",
        "\n",
        "Para tener las combinaciones de 2 elementos en 5:"
      ],
      "metadata": {
        "id": "ZL98G_08VXgs"
      }
    },
    {
      "cell_type": "code",
      "source": [
        "factorial(5)/(factorial(2) * factorial(5-2) )"
      ],
      "metadata": {
        "colab": {
          "base_uri": "https://localhost:8080/",
          "height": 34
        },
        "outputId": "71f957ba-0247-42d2-f06b-48aefa425874",
        "id": "Z6g9ARTbVXgt"
      },
      "execution_count": null,
      "outputs": [
        {
          "output_type": "display_data",
          "data": {
            "text/html": [
              "10"
            ],
            "text/markdown": "10",
            "text/latex": "10",
            "text/plain": [
              "[1] 10"
            ]
          },
          "metadata": {}
        }
      ]
    },
    {
      "cell_type": "markdown",
      "source": [
        "Aunque también podemos imprimir las distintas combinaciones usando el paquete *gtools*."
      ],
      "metadata": {
        "id": "WC6K6_1uVXgu"
      }
    },
    {
      "cell_type": "code",
      "source": [
        "combinations(5, 2)"
      ],
      "metadata": {
        "colab": {
          "base_uri": "https://localhost:8080/",
          "height": 417
        },
        "outputId": "927ea279-cefc-480b-c522-702a3f6280a4",
        "id": "LOGleSaCVXgv"
      },
      "execution_count": null,
      "outputs": [
        {
          "output_type": "display_data",
          "data": {
            "text/html": [
              "<table class=\"dataframe\">\n",
              "<caption>A matrix: 10 × 2 of type int</caption>\n",
              "<tbody>\n",
              "\t<tr><td>1</td><td>2</td></tr>\n",
              "\t<tr><td>1</td><td>3</td></tr>\n",
              "\t<tr><td>1</td><td>4</td></tr>\n",
              "\t<tr><td>1</td><td>5</td></tr>\n",
              "\t<tr><td>2</td><td>3</td></tr>\n",
              "\t<tr><td>2</td><td>4</td></tr>\n",
              "\t<tr><td>2</td><td>5</td></tr>\n",
              "\t<tr><td>3</td><td>4</td></tr>\n",
              "\t<tr><td>3</td><td>5</td></tr>\n",
              "\t<tr><td>4</td><td>5</td></tr>\n",
              "</tbody>\n",
              "</table>\n"
            ],
            "text/markdown": "\nA matrix: 10 × 2 of type int\n\n| 1 | 2 |\n| 1 | 3 |\n| 1 | 4 |\n| 1 | 5 |\n| 2 | 3 |\n| 2 | 4 |\n| 2 | 5 |\n| 3 | 4 |\n| 3 | 5 |\n| 4 | 5 |\n\n",
            "text/latex": "A matrix: 10 × 2 of type int\n\\begin{tabular}{ll}\n\t 1 & 2\\\\\n\t 1 & 3\\\\\n\t 1 & 4\\\\\n\t 1 & 5\\\\\n\t 2 & 3\\\\\n\t 2 & 4\\\\\n\t 2 & 5\\\\\n\t 3 & 4\\\\\n\t 3 & 5\\\\\n\t 4 & 5\\\\\n\\end{tabular}\n",
            "text/plain": [
              "      [,1] [,2]\n",
              " [1,] 1    2   \n",
              " [2,] 1    3   \n",
              " [3,] 1    4   \n",
              " [4,] 1    5   \n",
              " [5,] 2    3   \n",
              " [6,] 2    4   \n",
              " [7,] 2    5   \n",
              " [8,] 3    4   \n",
              " [9,] 3    5   \n",
              "[10,] 4    5   "
            ]
          },
          "metadata": {}
        }
      ]
    },
    {
      "cell_type": "markdown",
      "source": [
        "Tanto *combinations* como *permutations* permiten ser más explícito, con algún vector en particular. Para el mismo ejemplo, si quisiéramos sacar todas las combinaciones y permutaciones tomando 2 elementos de las cinco vocales, podríamos realizarlo de la siguiente manera:"
      ],
      "metadata": {
        "id": "Z1-QYXFVWI-A"
      }
    },
    {
      "cell_type": "code",
      "source": [
        "permutations(5, 2, c(\"a\", \"e\", \"i\", \"o\", \"u\"))"
      ],
      "metadata": {
        "colab": {
          "base_uri": "https://localhost:8080/",
          "height": 731
        },
        "id": "VGnps32oWDoc",
        "outputId": "0a241a2f-f350-4e38-b648-eda62da05b17"
      },
      "execution_count": null,
      "outputs": [
        {
          "output_type": "display_data",
          "data": {
            "text/html": [
              "<table class=\"dataframe\">\n",
              "<caption>A matrix: 20 × 2 of type chr</caption>\n",
              "<tbody>\n",
              "\t<tr><td>a</td><td>e</td></tr>\n",
              "\t<tr><td>a</td><td>i</td></tr>\n",
              "\t<tr><td>a</td><td>o</td></tr>\n",
              "\t<tr><td>a</td><td>u</td></tr>\n",
              "\t<tr><td>e</td><td>a</td></tr>\n",
              "\t<tr><td>e</td><td>i</td></tr>\n",
              "\t<tr><td>e</td><td>o</td></tr>\n",
              "\t<tr><td>e</td><td>u</td></tr>\n",
              "\t<tr><td>i</td><td>a</td></tr>\n",
              "\t<tr><td>i</td><td>e</td></tr>\n",
              "\t<tr><td>i</td><td>o</td></tr>\n",
              "\t<tr><td>i</td><td>u</td></tr>\n",
              "\t<tr><td>o</td><td>a</td></tr>\n",
              "\t<tr><td>o</td><td>e</td></tr>\n",
              "\t<tr><td>o</td><td>i</td></tr>\n",
              "\t<tr><td>o</td><td>u</td></tr>\n",
              "\t<tr><td>u</td><td>a</td></tr>\n",
              "\t<tr><td>u</td><td>e</td></tr>\n",
              "\t<tr><td>u</td><td>i</td></tr>\n",
              "\t<tr><td>u</td><td>o</td></tr>\n",
              "</tbody>\n",
              "</table>\n"
            ],
            "text/markdown": "\nA matrix: 20 × 2 of type chr\n\n| a | e |\n| a | i |\n| a | o |\n| a | u |\n| e | a |\n| e | i |\n| e | o |\n| e | u |\n| i | a |\n| i | e |\n| i | o |\n| i | u |\n| o | a |\n| o | e |\n| o | i |\n| o | u |\n| u | a |\n| u | e |\n| u | i |\n| u | o |\n\n",
            "text/latex": "A matrix: 20 × 2 of type chr\n\\begin{tabular}{ll}\n\t a & e\\\\\n\t a & i\\\\\n\t a & o\\\\\n\t a & u\\\\\n\t e & a\\\\\n\t e & i\\\\\n\t e & o\\\\\n\t e & u\\\\\n\t i & a\\\\\n\t i & e\\\\\n\t i & o\\\\\n\t i & u\\\\\n\t o & a\\\\\n\t o & e\\\\\n\t o & i\\\\\n\t o & u\\\\\n\t u & a\\\\\n\t u & e\\\\\n\t u & i\\\\\n\t u & o\\\\\n\\end{tabular}\n",
            "text/plain": [
              "      [,1] [,2]\n",
              " [1,] a    e   \n",
              " [2,] a    i   \n",
              " [3,] a    o   \n",
              " [4,] a    u   \n",
              " [5,] e    a   \n",
              " [6,] e    i   \n",
              " [7,] e    o   \n",
              " [8,] e    u   \n",
              " [9,] i    a   \n",
              "[10,] i    e   \n",
              "[11,] i    o   \n",
              "[12,] i    u   \n",
              "[13,] o    a   \n",
              "[14,] o    e   \n",
              "[15,] o    i   \n",
              "[16,] o    u   \n",
              "[17,] u    a   \n",
              "[18,] u    e   \n",
              "[19,] u    i   \n",
              "[20,] u    o   "
            ]
          },
          "metadata": {}
        }
      ]
    },
    {
      "cell_type": "code",
      "source": [
        "combinations(5, 2, c(\"a\", \"e\", \"i\", \"o\", \"u\"))"
      ],
      "metadata": {
        "colab": {
          "base_uri": "https://localhost:8080/",
          "height": 417
        },
        "id": "wAv0vXjqWbmU",
        "outputId": "60c5d2f5-ae3b-4967-f1b1-0ecf3e7e901e"
      },
      "execution_count": null,
      "outputs": [
        {
          "output_type": "display_data",
          "data": {
            "text/html": [
              "<table class=\"dataframe\">\n",
              "<caption>A matrix: 10 × 2 of type chr</caption>\n",
              "<tbody>\n",
              "\t<tr><td>a</td><td>e</td></tr>\n",
              "\t<tr><td>a</td><td>i</td></tr>\n",
              "\t<tr><td>a</td><td>o</td></tr>\n",
              "\t<tr><td>a</td><td>u</td></tr>\n",
              "\t<tr><td>e</td><td>i</td></tr>\n",
              "\t<tr><td>e</td><td>o</td></tr>\n",
              "\t<tr><td>e</td><td>u</td></tr>\n",
              "\t<tr><td>i</td><td>o</td></tr>\n",
              "\t<tr><td>i</td><td>u</td></tr>\n",
              "\t<tr><td>o</td><td>u</td></tr>\n",
              "</tbody>\n",
              "</table>\n"
            ],
            "text/markdown": "\nA matrix: 10 × 2 of type chr\n\n| a | e |\n| a | i |\n| a | o |\n| a | u |\n| e | i |\n| e | o |\n| e | u |\n| i | o |\n| i | u |\n| o | u |\n\n",
            "text/latex": "A matrix: 10 × 2 of type chr\n\\begin{tabular}{ll}\n\t a & e\\\\\n\t a & i\\\\\n\t a & o\\\\\n\t a & u\\\\\n\t e & i\\\\\n\t e & o\\\\\n\t e & u\\\\\n\t i & o\\\\\n\t i & u\\\\\n\t o & u\\\\\n\\end{tabular}\n",
            "text/plain": [
              "      [,1] [,2]\n",
              " [1,] a    e   \n",
              " [2,] a    i   \n",
              " [3,] a    o   \n",
              " [4,] a    u   \n",
              " [5,] e    i   \n",
              " [6,] e    o   \n",
              " [7,] e    u   \n",
              " [8,] i    o   \n",
              " [9,] i    u   \n",
              "[10,] o    u   "
            ]
          },
          "metadata": {}
        }
      ]
    },
    {
      "cell_type": "markdown",
      "source": [
        "### Particiones\n",
        "\n",
        "El número de particiones posibles de un conjunto de 𝑛 elementos\n",
        "con 𝑟 particiones es:\n",
        "\n",
        "$particiones = \\dfrac {n!}{n_1!n_2! ... n_r!} =  {n!\\choose n_1,n_2, ... n_r} $\n",
        "\n",
        "Donde $𝑛_1$, $𝑛_2$, $𝑛_3$, ... , $𝑛_r$ son el número de elementos en cada una de las particiones\n",
        "\n",
        "Por ejemplo, para dividir un grupo de 10 personas en parejas.\n"
      ],
      "metadata": {
        "id": "x_wxbXWNXCZy"
      }
    },
    {
      "cell_type": "markdown",
      "source": [
        "### Subconjuntos\n",
        "\n",
        "El número de todos los subconjuntos posibles de un conjunto de 𝑛 objetos es igual a $2^n$\n",
        "\n",
        "Por ejemplo, todos los subconjuntos posibles para un conjunto de 10 elementos es:\n"
      ],
      "metadata": {
        "id": "iIkdgPSWa_oy"
      }
    },
    {
      "cell_type": "code",
      "source": [
        "factorial(10)/(5 * factorial(2))"
      ],
      "metadata": {
        "colab": {
          "base_uri": "https://localhost:8080/",
          "height": 34
        },
        "id": "1nBXRTVQagXt",
        "outputId": "14c8017f-ddec-4971-8584-a9cffb72ae73"
      },
      "execution_count": null,
      "outputs": [
        {
          "output_type": "display_data",
          "data": {
            "text/html": [
              "362880"
            ],
            "text/markdown": "362880",
            "text/latex": "362880",
            "text/plain": [
              "[1] 362880"
            ]
          },
          "metadata": {}
        }
      ]
    },
    {
      "cell_type": "markdown",
      "source": [
        "Ejemplos:\n",
        "\n",
        "En una caja de pernos se encuentran 8 gruesos, 5\n",
        "medianos y 3 angostos.\n",
        "Una caja de tuercas contiene 6 que ajustan a\n",
        "los pernos gruesos, 4 que ajustan a los pernos\n",
        "medianos y 2 que ajustan a los pernos angostos.\n",
        "\n",
        "Se elige aleatoriamente un perno y una tuerca\n",
        "¿ Cuál es la probabilidad de que la tuerca ajuste\n",
        "con el perno? R: 0.3854\n"
      ],
      "metadata": {
        "id": "50z031JjdZOV"
      }
    },
    {
      "cell_type": "code",
      "source": [
        "(8/16 * 6/12) + (5/16 * 4/12) + (3/16 * 2/12)"
      ],
      "metadata": {
        "colab": {
          "base_uri": "https://localhost:8080/",
          "height": 34
        },
        "id": "LwKLVIheXBw1",
        "outputId": "a37ae8db-3d5b-4326-e413-6138cad23426"
      },
      "execution_count": null,
      "outputs": [
        {
          "output_type": "display_data",
          "data": {
            "text/html": [
              "0.385416666666667"
            ],
            "text/markdown": "0.385416666666667",
            "text/latex": "0.385416666666667",
            "text/plain": [
              "[1] 0.3854167"
            ]
          },
          "metadata": {}
        }
      ]
    },
    {
      "cell_type": "code",
      "source": [
        "df$NumOfProducts"
      ],
      "metadata": {
        "colab": {
          "base_uri": "https://localhost:8080/",
          "height": 156
        },
        "id": "4Q0xy5SC4reY",
        "outputId": "7525ebe1-b025-4163-de45-41d228ad5d16"
      },
      "execution_count": null,
      "outputs": [
        {
          "output_type": "display_data",
          "data": {
            "text/html": [
              "<style>\n",
              ".list-inline {list-style: none; margin:0; padding: 0}\n",
              ".list-inline>li {display: inline-block}\n",
              ".list-inline>li:not(:last-child)::after {content: \"\\00b7\"; padding: 0 .5ex}\n",
              "</style>\n",
              "<ol class=list-inline><li>1</li><li>1</li><li>3</li><li>2</li><li>1</li><li>2</li><li>2</li><li>4</li><li>2</li><li>1</li><li>2</li><li>2</li><li>2</li><li>2</li><li>2</li><li>2</li><li>1</li><li>2</li><li>1</li><li>2</li><li>2</li><li>2</li><li>1</li><li>2</li><li>1</li><li>2</li><li>1</li><li>2</li><li>1</li><li>2</li><li>3</li><li>1</li><li>2</li><li>2</li><li>2</li><li>1</li><li>1</li><li>1</li><li>1</li><li>2</li><li>1</li><li>1</li><li>1</li><li>1</li><li>1</li><li>2</li><li>1</li><li>1</li><li>1</li><li>2</li><li>2</li><li>2</li><li>2</li><li>1</li><li>1</li><li>1</li><li>1</li><li>1</li><li>1</li><li>1</li><li>1</li><li>2</li><li>2</li><li>1</li><li>1</li><li>2</li><li>1</li><li>2</li><li>2</li><li>1</li><li>4</li><li>1</li><li>1</li><li>2</li><li>2</li><li>2</li><li>2</li><li>1</li><li>1</li><li>2</li><li>2</li><li>1</li><li>2</li><li>1</li><li>2</li><li>2</li><li>1</li><li>2</li><li>3</li><li>2</li><li>3</li><li>2</li><li>2</li><li>2</li><li>2</li><li>1</li><li>1</li><li>2</li><li>2</li><li>2</li><li>1</li><li>2</li><li>1</li><li>2</li><li>1</li><li>2</li><li>1</li><li>1</li><li>1</li><li>1</li><li>1</li><li>2</li><li>1</li><li>1</li><li>2</li><li>2</li><li>1</li><li>2</li><li>1</li><li>2</li><li>2</li><li>1</li><li>2</li><li>1</li><li>1</li><li>1</li><li>1</li><li>1</li><li>2</li><li>1</li><li>2</li><li>1</li><li>1</li><li>2</li><li>2</li><li>2</li><li>1</li><li>1</li><li>1</li><li>2</li><li>1</li><li>2</li><li>1</li><li>1</li><li>1</li><li>1</li><li>2</li><li>1</li><li>1</li><li>2</li><li>2</li><li>1</li><li>2</li><li>1</li><li>2</li><li>1</li><li>2</li><li>2</li><li>1</li><li>1</li><li>1</li><li>2</li><li>1</li><li>2</li><li>1</li><li>2</li><li>1</li><li>1</li><li>2</li><li>2</li><li>1</li><li>2</li><li>1</li><li>1</li><li>2</li><li>1</li><li>2</li><li>2</li><li>1</li><li>1</li><li>1</li><li>2</li><li>2</li><li>2</li><li>1</li><li>2</li><li>1</li><li>1</li><li>2</li><li>2</li><li>2</li><li>2</li><li>2</li><li>1</li><li>2</li><li>1</li><li>2</li><li>1</li><li>2</li><li>1</li><li>⋯</li><li>3</li><li>1</li><li>1</li><li>1</li><li>1</li><li>1</li><li>1</li><li>2</li><li>1</li><li>1</li><li>1</li><li>1</li><li>2</li><li>1</li><li>2</li><li>2</li><li>2</li><li>2</li><li>1</li><li>1</li><li>1</li><li>2</li><li>1</li><li>1</li><li>1</li><li>1</li><li>2</li><li>2</li><li>2</li><li>1</li><li>1</li><li>2</li><li>1</li><li>2</li><li>1</li><li>2</li><li>2</li><li>1</li><li>1</li><li>1</li><li>2</li><li>2</li><li>2</li><li>1</li><li>1</li><li>2</li><li>2</li><li>2</li><li>1</li><li>2</li><li>1</li><li>2</li><li>1</li><li>1</li><li>1</li><li>1</li><li>2</li><li>2</li><li>1</li><li>1</li><li>2</li><li>1</li><li>2</li><li>2</li><li>1</li><li>2</li><li>2</li><li>2</li><li>1</li><li>2</li><li>1</li><li>2</li><li>2</li><li>1</li><li>2</li><li>2</li><li>1</li><li>3</li><li>1</li><li>2</li><li>1</li><li>2</li><li>1</li><li>1</li><li>1</li><li>1</li><li>2</li><li>1</li><li>1</li><li>1</li><li>1</li><li>2</li><li>1</li><li>1</li><li>2</li><li>3</li><li>1</li><li>2</li><li>1</li><li>1</li><li>2</li><li>1</li><li>2</li><li>2</li><li>1</li><li>1</li><li>1</li><li>2</li><li>2</li><li>1</li><li>1</li><li>1</li><li>1</li><li>1</li><li>2</li><li>2</li><li>2</li><li>1</li><li>1</li><li>2</li><li>1</li><li>1</li><li>1</li><li>2</li><li>1</li><li>1</li><li>2</li><li>1</li><li>2</li><li>1</li><li>2</li><li>1</li><li>2</li><li>1</li><li>1</li><li>2</li><li>1</li><li>2</li><li>1</li><li>2</li><li>2</li><li>2</li><li>1</li><li>1</li><li>2</li><li>2</li><li>2</li><li>2</li><li>2</li><li>1</li><li>1</li><li>2</li><li>1</li><li>2</li><li>1</li><li>2</li><li>1</li><li>1</li><li>1</li><li>1</li><li>1</li><li>2</li><li>1</li><li>1</li><li>2</li><li>1</li><li>1</li><li>1</li><li>2</li><li>1</li><li>2</li><li>1</li><li>1</li><li>2</li><li>1</li><li>2</li><li>1</li><li>2</li><li>2</li><li>1</li><li>1</li><li>1</li><li>1</li><li>1</li><li>2</li><li>2</li><li>2</li><li>2</li><li>2</li><li>2</li><li>1</li><li>1</li><li>1</li><li>1</li><li>2</li><li>2</li><li>1</li><li>1</li><li>2</li><li>1</li></ol>\n"
            ],
            "text/markdown": "1. 1\n2. 1\n3. 3\n4. 2\n5. 1\n6. 2\n7. 2\n8. 4\n9. 2\n10. 1\n11. 2\n12. 2\n13. 2\n14. 2\n15. 2\n16. 2\n17. 1\n18. 2\n19. 1\n20. 2\n21. 2\n22. 2\n23. 1\n24. 2\n25. 1\n26. 2\n27. 1\n28. 2\n29. 1\n30. 2\n31. 3\n32. 1\n33. 2\n34. 2\n35. 2\n36. 1\n37. 1\n38. 1\n39. 1\n40. 2\n41. 1\n42. 1\n43. 1\n44. 1\n45. 1\n46. 2\n47. 1\n48. 1\n49. 1\n50. 2\n51. 2\n52. 2\n53. 2\n54. 1\n55. 1\n56. 1\n57. 1\n58. 1\n59. 1\n60. 1\n61. 1\n62. 2\n63. 2\n64. 1\n65. 1\n66. 2\n67. 1\n68. 2\n69. 2\n70. 1\n71. 4\n72. 1\n73. 1\n74. 2\n75. 2\n76. 2\n77. 2\n78. 1\n79. 1\n80. 2\n81. 2\n82. 1\n83. 2\n84. 1\n85. 2\n86. 2\n87. 1\n88. 2\n89. 3\n90. 2\n91. 3\n92. 2\n93. 2\n94. 2\n95. 2\n96. 1\n97. 1\n98. 2\n99. 2\n100. 2\n101. 1\n102. 2\n103. 1\n104. 2\n105. 1\n106. 2\n107. 1\n108. 1\n109. 1\n110. 1\n111. 1\n112. 2\n113. 1\n114. 1\n115. 2\n116. 2\n117. 1\n118. 2\n119. 1\n120. 2\n121. 2\n122. 1\n123. 2\n124. 1\n125. 1\n126. 1\n127. 1\n128. 1\n129. 2\n130. 1\n131. 2\n132. 1\n133. 1\n134. 2\n135. 2\n136. 2\n137. 1\n138. 1\n139. 1\n140. 2\n141. 1\n142. 2\n143. 1\n144. 1\n145. 1\n146. 1\n147. 2\n148. 1\n149. 1\n150. 2\n151. 2\n152. 1\n153. 2\n154. 1\n155. 2\n156. 1\n157. 2\n158. 2\n159. 1\n160. 1\n161. 1\n162. 2\n163. 1\n164. 2\n165. 1\n166. 2\n167. 1\n168. 1\n169. 2\n170. 2\n171. 1\n172. 2\n173. 1\n174. 1\n175. 2\n176. 1\n177. 2\n178. 2\n179. 1\n180. 1\n181. 1\n182. 2\n183. 2\n184. 2\n185. 1\n186. 2\n187. 1\n188. 1\n189. 2\n190. 2\n191. 2\n192. 2\n193. 2\n194. 1\n195. 2\n196. 1\n197. 2\n198. 1\n199. 2\n200. 1\n201. ⋯\n202. 3\n203. 1\n204. 1\n205. 1\n206. 1\n207. 1\n208. 1\n209. 2\n210. 1\n211. 1\n212. 1\n213. 1\n214. 2\n215. 1\n216. 2\n217. 2\n218. 2\n219. 2\n220. 1\n221. 1\n222. 1\n223. 2\n224. 1\n225. 1\n226. 1\n227. 1\n228. 2\n229. 2\n230. 2\n231. 1\n232. 1\n233. 2\n234. 1\n235. 2\n236. 1\n237. 2\n238. 2\n239. 1\n240. 1\n241. 1\n242. 2\n243. 2\n244. 2\n245. 1\n246. 1\n247. 2\n248. 2\n249. 2\n250. 1\n251. 2\n252. 1\n253. 2\n254. 1\n255. 1\n256. 1\n257. 1\n258. 2\n259. 2\n260. 1\n261. 1\n262. 2\n263. 1\n264. 2\n265. 2\n266. 1\n267. 2\n268. 2\n269. 2\n270. 1\n271. 2\n272. 1\n273. 2\n274. 2\n275. 1\n276. 2\n277. 2\n278. 1\n279. 3\n280. 1\n281. 2\n282. 1\n283. 2\n284. 1\n285. 1\n286. 1\n287. 1\n288. 2\n289. 1\n290. 1\n291. 1\n292. 1\n293. 2\n294. 1\n295. 1\n296. 2\n297. 3\n298. 1\n299. 2\n300. 1\n301. 1\n302. 2\n303. 1\n304. 2\n305. 2\n306. 1\n307. 1\n308. 1\n309. 2\n310. 2\n311. 1\n312. 1\n313. 1\n314. 1\n315. 1\n316. 2\n317. 2\n318. 2\n319. 1\n320. 1\n321. 2\n322. 1\n323. 1\n324. 1\n325. 2\n326. 1\n327. 1\n328. 2\n329. 1\n330. 2\n331. 1\n332. 2\n333. 1\n334. 2\n335. 1\n336. 1\n337. 2\n338. 1\n339. 2\n340. 1\n341. 2\n342. 2\n343. 2\n344. 1\n345. 1\n346. 2\n347. 2\n348. 2\n349. 2\n350. 2\n351. 1\n352. 1\n353. 2\n354. 1\n355. 2\n356. 1\n357. 2\n358. 1\n359. 1\n360. 1\n361. 1\n362. 1\n363. 2\n364. 1\n365. 1\n366. 2\n367. 1\n368. 1\n369. 1\n370. 2\n371. 1\n372. 2\n373. 1\n374. 1\n375. 2\n376. 1\n377. 2\n378. 1\n379. 2\n380. 2\n381. 1\n382. 1\n383. 1\n384. 1\n385. 1\n386. 2\n387. 2\n388. 2\n389. 2\n390. 2\n391. 2\n392. 1\n393. 1\n394. 1\n395. 1\n396. 2\n397. 2\n398. 1\n399. 1\n400. 2\n401. 1\n\n\n",
            "text/latex": "\\begin{enumerate*}\n\\item 1\n\\item 1\n\\item 3\n\\item 2\n\\item 1\n\\item 2\n\\item 2\n\\item 4\n\\item 2\n\\item 1\n\\item 2\n\\item 2\n\\item 2\n\\item 2\n\\item 2\n\\item 2\n\\item 1\n\\item 2\n\\item 1\n\\item 2\n\\item 2\n\\item 2\n\\item 1\n\\item 2\n\\item 1\n\\item 2\n\\item 1\n\\item 2\n\\item 1\n\\item 2\n\\item 3\n\\item 1\n\\item 2\n\\item 2\n\\item 2\n\\item 1\n\\item 1\n\\item 1\n\\item 1\n\\item 2\n\\item 1\n\\item 1\n\\item 1\n\\item 1\n\\item 1\n\\item 2\n\\item 1\n\\item 1\n\\item 1\n\\item 2\n\\item 2\n\\item 2\n\\item 2\n\\item 1\n\\item 1\n\\item 1\n\\item 1\n\\item 1\n\\item 1\n\\item 1\n\\item 1\n\\item 2\n\\item 2\n\\item 1\n\\item 1\n\\item 2\n\\item 1\n\\item 2\n\\item 2\n\\item 1\n\\item 4\n\\item 1\n\\item 1\n\\item 2\n\\item 2\n\\item 2\n\\item 2\n\\item 1\n\\item 1\n\\item 2\n\\item 2\n\\item 1\n\\item 2\n\\item 1\n\\item 2\n\\item 2\n\\item 1\n\\item 2\n\\item 3\n\\item 2\n\\item 3\n\\item 2\n\\item 2\n\\item 2\n\\item 2\n\\item 1\n\\item 1\n\\item 2\n\\item 2\n\\item 2\n\\item 1\n\\item 2\n\\item 1\n\\item 2\n\\item 1\n\\item 2\n\\item 1\n\\item 1\n\\item 1\n\\item 1\n\\item 1\n\\item 2\n\\item 1\n\\item 1\n\\item 2\n\\item 2\n\\item 1\n\\item 2\n\\item 1\n\\item 2\n\\item 2\n\\item 1\n\\item 2\n\\item 1\n\\item 1\n\\item 1\n\\item 1\n\\item 1\n\\item 2\n\\item 1\n\\item 2\n\\item 1\n\\item 1\n\\item 2\n\\item 2\n\\item 2\n\\item 1\n\\item 1\n\\item 1\n\\item 2\n\\item 1\n\\item 2\n\\item 1\n\\item 1\n\\item 1\n\\item 1\n\\item 2\n\\item 1\n\\item 1\n\\item 2\n\\item 2\n\\item 1\n\\item 2\n\\item 1\n\\item 2\n\\item 1\n\\item 2\n\\item 2\n\\item 1\n\\item 1\n\\item 1\n\\item 2\n\\item 1\n\\item 2\n\\item 1\n\\item 2\n\\item 1\n\\item 1\n\\item 2\n\\item 2\n\\item 1\n\\item 2\n\\item 1\n\\item 1\n\\item 2\n\\item 1\n\\item 2\n\\item 2\n\\item 1\n\\item 1\n\\item 1\n\\item 2\n\\item 2\n\\item 2\n\\item 1\n\\item 2\n\\item 1\n\\item 1\n\\item 2\n\\item 2\n\\item 2\n\\item 2\n\\item 2\n\\item 1\n\\item 2\n\\item 1\n\\item 2\n\\item 1\n\\item 2\n\\item 1\n\\item ⋯\n\\item 3\n\\item 1\n\\item 1\n\\item 1\n\\item 1\n\\item 1\n\\item 1\n\\item 2\n\\item 1\n\\item 1\n\\item 1\n\\item 1\n\\item 2\n\\item 1\n\\item 2\n\\item 2\n\\item 2\n\\item 2\n\\item 1\n\\item 1\n\\item 1\n\\item 2\n\\item 1\n\\item 1\n\\item 1\n\\item 1\n\\item 2\n\\item 2\n\\item 2\n\\item 1\n\\item 1\n\\item 2\n\\item 1\n\\item 2\n\\item 1\n\\item 2\n\\item 2\n\\item 1\n\\item 1\n\\item 1\n\\item 2\n\\item 2\n\\item 2\n\\item 1\n\\item 1\n\\item 2\n\\item 2\n\\item 2\n\\item 1\n\\item 2\n\\item 1\n\\item 2\n\\item 1\n\\item 1\n\\item 1\n\\item 1\n\\item 2\n\\item 2\n\\item 1\n\\item 1\n\\item 2\n\\item 1\n\\item 2\n\\item 2\n\\item 1\n\\item 2\n\\item 2\n\\item 2\n\\item 1\n\\item 2\n\\item 1\n\\item 2\n\\item 2\n\\item 1\n\\item 2\n\\item 2\n\\item 1\n\\item 3\n\\item 1\n\\item 2\n\\item 1\n\\item 2\n\\item 1\n\\item 1\n\\item 1\n\\item 1\n\\item 2\n\\item 1\n\\item 1\n\\item 1\n\\item 1\n\\item 2\n\\item 1\n\\item 1\n\\item 2\n\\item 3\n\\item 1\n\\item 2\n\\item 1\n\\item 1\n\\item 2\n\\item 1\n\\item 2\n\\item 2\n\\item 1\n\\item 1\n\\item 1\n\\item 2\n\\item 2\n\\item 1\n\\item 1\n\\item 1\n\\item 1\n\\item 1\n\\item 2\n\\item 2\n\\item 2\n\\item 1\n\\item 1\n\\item 2\n\\item 1\n\\item 1\n\\item 1\n\\item 2\n\\item 1\n\\item 1\n\\item 2\n\\item 1\n\\item 2\n\\item 1\n\\item 2\n\\item 1\n\\item 2\n\\item 1\n\\item 1\n\\item 2\n\\item 1\n\\item 2\n\\item 1\n\\item 2\n\\item 2\n\\item 2\n\\item 1\n\\item 1\n\\item 2\n\\item 2\n\\item 2\n\\item 2\n\\item 2\n\\item 1\n\\item 1\n\\item 2\n\\item 1\n\\item 2\n\\item 1\n\\item 2\n\\item 1\n\\item 1\n\\item 1\n\\item 1\n\\item 1\n\\item 2\n\\item 1\n\\item 1\n\\item 2\n\\item 1\n\\item 1\n\\item 1\n\\item 2\n\\item 1\n\\item 2\n\\item 1\n\\item 1\n\\item 2\n\\item 1\n\\item 2\n\\item 1\n\\item 2\n\\item 2\n\\item 1\n\\item 1\n\\item 1\n\\item 1\n\\item 1\n\\item 2\n\\item 2\n\\item 2\n\\item 2\n\\item 2\n\\item 2\n\\item 1\n\\item 1\n\\item 1\n\\item 1\n\\item 2\n\\item 2\n\\item 1\n\\item 1\n\\item 2\n\\item 1\n\\end{enumerate*}\n",
            "text/plain": [
              "    [1] 1 1 3 2 1 2 2 4 2 1 2 2 2 2 2 2 1 2 1 2 2 2 1 2 1 2 1 2 1 2 3 1 2 2 2 1\n",
              "   [37] 1 1 1 2 1 1 1 1 1 2 1 1 1 2 2 2 2 1 1 1 1 1 1 1 1 2 2 1 1 2 1 2 2 1 4 1\n",
              "   [73] 1 2 2 2 2 1 1 2 2 1 2 1 2 2 1 2 3 2 3 2 2 2 2 1 1 2 2 2 1 2 1 2 1 2 1 1\n",
              "  [109] 1 1 1 2 1 1 2 2 1 2 1 2 2 1 2 1 1 1 1 1 2 1 2 1 1 2 2 2 1 1 1 2 1 2 1 1\n",
              "  [145] 1 1 2 1 1 2 2 1 2 1 2 1 2 2 1 1 1 2 1 2 1 2 1 1 2 2 1 2 1 1 2 1 2 2 1 1\n",
              "  [181] 1 2 2 2 1 2 1 1 2 2 2 2 2 1 2 1 2 1 2 1 1 1 1 2 1 1 1 1 1 1 2 2 2 1 2 1\n",
              "  [217] 1 2 2 1 2 1 2 1 1 2 2 3 1 1 2 2 2 2 2 1 1 3 3 2 2 1 2 1 2 1 2 2 1 1 1 2\n",
              "  [253] 2 1 1 2 2 2 1 1 2 1 2 1 1 1 2 2 1 1 2 3 2 2 1 2 1 2 1 1 2 2 1 1 2 2 1 1\n",
              "  [289] 1 2 1 2 2 1 2 1 1 3 1 2 2 1 2 2 1 1 1 2 1 1 2 1 2 1 1 2 1 2 1 1 1 1 1 2\n",
              "  [325] 2 1 2 1 1 2 2 1 2 1 1 1 2 2 1 1 2 1 2 2 2 2 2 1 1 2 2 1 1 2 2 2 2 1 1 2\n",
              "  [361] 2 1 1 2 2 1 2 2 2 1 1 2 2 1 2 1 3 1 1 3 2 2 2 2 1 1 2 2 2 2 1 1 2 2 1 2\n",
              "  [397] 1 1 2 1 1 1 2 2 2 1 1 2 2 1 2 2 1 3 2 2 1 1 2 2 1 2 1 1 1 1 2 1 1 1 1 2\n",
              "  [433] 1 1 1 1 2 2 2 1 1 2 2 1 1 1 1 1 1 2 1 2 1 1 1 2 1 2 1 1 2 2 2 1 2 1 2 3\n",
              "  [469] 2 2 1 1 1 2 2 1 1 2 1 1 1 2 3 2 2 1 2 1 2 1 1 1 2 1 2 2 2 1 2 1 2 2 1 2\n",
              "  [505] 1 2 1 1 2 2 2 2 2 1 1 2 3 2 2 1 1 1 2 1 1 2 2 2 1 1 2 1 1 1 1 1 2 2 3 1\n",
              "  [541] 2 2 1 1 3 2 2 2 2 3 2 1 1 2 1 3 2 1 2 1 1 1 1 1 1 2 1 1 2 3 2 1 2 2 1 2\n",
              "  [577] 1 2 1 2 2 2 2 1 2 1 1 1 1 2 1 1 1 1 2 1 2 1 1 1 3 2 1 1 1 1 2 2 2 1 1 2\n",
              "  [613] 1 1 1 1 2 1 1 2 1 1 2 2 1 1 1 1 2 1 1 1 1 2 2 2 2 1 1 1 1 1 1 1 1 1 2 1\n",
              "  [649] 2 2 2 1 1 1 2 1 1 2 1 2 1 1 2 2 2 2 1 2 1 1 2 2 1 2 2 2 2 1 2 2 1 1 1 2\n",
              "  [685] 1 1 2 1 1 1 2 2 1 2 1 2 1 2 2 1 2 1 2 2 2 3 1 2 2 2 1 1 1 1 3 2 1 2 2 1\n",
              "  [721] 2 2 2 1 1 2 2 3 1 1 1 2 1 2 1 1 1 1 2 2 1 1 1 3 2 2 1 1 1 2 2 1 1 2 2 2\n",
              "  [757] 2 2 1 1 1 1 1 1 3 1 2 2 2 1 2 1 2 1 2 1 1 1 2 1 2 2 2 2 1 1 2 1 2 1 2 2\n",
              "  [793] 1 1 1 2 1 1 2 1 2 2 2 2 2 1 1 2 1 1 2 2 2 3 2 2 2 1 1 2 2 1 1 1 2 2 2 2\n",
              "  [829] 2 2 2 1 1 2 2 2 2 1 1 1 1 1 1 1 1 1 2 2 1 1 2 2 1 2 2 2 1 2 1 2 1 1 1 2\n",
              "  [865] 2 2 2 1 2 1 1 3 2 2 2 1 1 2 1 2 1 3 1 1 1 2 1 2 1 1 1 2 1 3 2 1 2 1 1 1\n",
              "  [901] 2 2 1 2 1 1 1 1 1 2 2 1 1 1 1 1 1 1 2 2 2 1 3 1 1 2 1 1 2 1 1 2 2 1 3 2\n",
              "  [937] 1 1 1 1 1 2 1 1 1 2 1 1 1 1 2 1 1 1 2 1 2 2 1 1 1 1 1 3 1 1 1 2 1 2 1 2\n",
              "  [973] 2 2 2 1 1 2 1 2 1 2 2 1 2 2 1 1 2 1 2 2 2 1 2 3 2 1 2 1 2 2 2 2 2 3 2 1\n",
              " [1009] 1 1 1 1 2 2 2 1 2 1 1 1 1 2 2 2 1 2 2 1 2 1 1 2 2 2 2 1 1 2 1 1 1 2 1 2\n",
              " [1045] 2 2 1 1 1 1 1 1 1 1 1 2 2 1 2 1 1 2 1 1 2 2 1 2 1 1 1 1 2 2 2 2 2 1 2 1\n",
              " [1081] 1 1 1 2 2 1 3 2 2 2 1 1 1 2 2 1 3 2 2 2 1 2 2 2 2 1 2 1 2 2 1 1 2 1 1 1\n",
              " [1117] 2 3 1 2 2 2 2 1 1 1 1 2 1 1 1 1 2 2 1 2 2 2 2 1 1 2 2 2 1 1 2 3 1 2 1 1\n",
              " [1153] 1 1 2 1 2 1 2 2 1 1 1 2 1 2 2 1 2 1 1 1 2 2 1 2 2 2 1 2 2 1 1 2 1 1 2 1\n",
              " [1189] 2 1 2 1 2 3 2 1 1 2 1 1 2 1 1 1 2 1 2 1 1 2 3 2 2 2 1 1 1 2 1 2 2 2 1 2\n",
              " [1225] 1 1 2 2 2 2 2 1 1 2 1 1 1 2 2 2 1 2 1 1 2 1 2 2 2 2 1 1 1 2 4 2 1 2 2 2\n",
              " [1261] 1 2 1 1 1 3 1 1 1 2 1 1 2 2 1 1 1 2 2 2 2 1 2 1 1 1 2 1 1 1 1 1 2 2 1 1\n",
              " [1297] 1 2 1 2 1 1 2 2 2 1 1 2 2 2 1 1 1 2 1 1 2 1 3 2 2 2 1 2 1 1 2 1 1 1 2 2\n",
              " [1333] 2 1 2 1 1 2 1 1 1 3 1 1 2 2 1 2 1 1 1 1 1 2 1 1 2 2 2 1 2 2 2 2 2 1 2 1\n",
              " [1369] 2 1 2 1 2 1 1 2 3 1 2 1 1 3 2 1 1 1 2 1 1 1 2 2 2 1 1 2 1 2 2 2 2 2 1 1\n",
              " [1405] 1 1 1 1 2 1 2 2 1 2 1 2 2 2 1 1 1 1 1 2 1 1 1 1 1 1 1 1 1 2 1 2 2 1 1 1\n",
              " [1441] 1 1 1 3 2 1 1 1 1 2 1 2 1 1 1 2 2 2 2 1 1 2 1 1 2 1 1 2 1 4 2 1 1 2 2 1\n",
              " [1477] 2 1 1 2 1 2 1 2 2 2 1 1 4 1 2 1 1 1 2 1 2 2 2 1 1 2 2 1 2 1 2 1 2 1 1 2\n",
              " [1513] 2 2 2 1 1 2 2 1 1 2 1 2 2 1 2 1 1 2 2 2 1 1 1 1 2 1 1 1 2 1 1 1 2 1 1 2\n",
              " [1549] 2 1 2 2 1 2 2 1 2 1 2 2 1 2 2 1 2 2 2 1 1 1 2 1 1 1 1 2 2 2 1 1 1 2 2 2\n",
              " [1585] 2 1 2 2 1 1 2 2 1 1 2 2 1 1 1 2 1 2 3 1 1 2 2 2 2 1 2 1 1 2 3 1 2 2 2 1\n",
              " [1621] 2 1 2 1 2 2 2 1 2 1 1 1 1 1 2 1 2 2 1 2 1 2 1 1 1 1 1 2 1 2 2 1 1 1 2 1\n",
              " [1657] 1 3 1 2 2 2 1 1 1 2 1 2 1 2 1 2 2 1 1 2 3 2 1 1 1 2 1 1 1 1 2 1 2 1 2 1\n",
              " [1693] 2 1 1 2 2 2 2 2 2 4 2 1 1 1 1 2 1 2 1 2 1 1 1 2 1 1 1 2 2 2 1 2 2 2 1 2\n",
              " [1729] 2 2 2 2 1 2 2 1 1 1 1 2 1 2 1 1 1 1 1 1 1 2 2 1 1 2 2 1 2 1 1 2 1 2 1 1\n",
              " [1765] 2 2 2 2 2 2 1 1 2 1 2 1 2 1 1 2 2 1 2 2 1 2 2 1 1 2 2 2 1 2 2 1 1 1 3 2\n",
              " [1801] 2 1 1 1 1 2 2 1 2 2 2 2 1 2 2 1 1 1 2 2 1 2 1 1 1 1 2 2 2 1 2 2 1 1 2 1\n",
              " [1837] 2 2 2 1 1 1 2 2 2 1 1 1 1 2 2 1 1 1 1 1 1 1 2 2 1 2 1 1 1 2 1 1 2 1 2 1\n",
              " [1873] 2 1 1 1 4 2 2 1 2 2 2 1 2 2 1 1 2 1 2 2 1 2 1 2 2 2 1 1 1 2 1 2 1 1 2 2\n",
              " [1909] 2 2 1 2 1 2 1 1 1 2 2 1 2 1 3 1 1 2 2 2 1 1 2 1 2 1 2 2 2 2 1 1 1 1 1 1\n",
              " [1945] 2 1 2 2 2 2 1 1 2 2 2 3 2 1 1 1 1 2 3 2 1 1 1 2 1 2 1 2 1 2 2 2 2 3 2 2\n",
              " [1981] 2 1 1 2 2 1 2 1 1 1 2 2 2 3 1 2 2 2 1 1 1 2 2 1 1 2 2 1 2 1 1 2 1 2 1 1\n",
              " [2017] 1 1 2 1 1 1 2 1 1 2 2 1 2 2 2 1 3 2 2 2 1 1 1 1 1 1 2 2 2 2 2 2 2 2 1 2\n",
              " [2053] 1 1 2 1 1 2 2 2 2 2 1 1 2 2 1 1 1 1 1 2 2 2 1 1 1 1 2 1 1 1 2 1 1 1 2 2\n",
              " [2089] 2 2 2 1 3 1 2 2 2 2 1 1 2 2 2 1 3 2 1 1 2 2 1 2 2 1 1 1 2 2 2 2 1 1 1 2\n",
              " [2125] 4 2 2 2 2 1 1 1 2 1 1 1 1 2 2 1 1 2 1 2 2 2 1 1 2 1 1 1 1 1 3 1 2 2 1 1\n",
              " [2161] 2 1 1 2 1 2 1 2 1 2 1 2 1 2 1 2 2 2 1 1 2 1 1 2 2 1 2 1 1 1 1 1 1 1 2 2\n",
              " [2197] 4 1 2 1 1 2 1 1 2 1 1 1 1 2 3 1 2 2 2 2 1 1 1 2 1 1 2 2 1 2 2 1 2 2 2 1\n",
              " [2233] 2 1 2 2 1 3 2 1 1 2 2 1 2 1 2 1 2 2 2 1 1 1 1 2 1 2 1 2 2 1 1 2 1 2 2 2\n",
              " [2269] 1 2 2 2 1 1 3 2 2 2 1 2 2 1 1 1 1 4 2 1 1 2 2 2 2 1 1 1 1 1 2 1 1 2 2 1\n",
              " [2305] 1 1 1 2 1 1 1 1 1 2 2 2 1 1 2 1 1 2 2 2 1 2 2 1 2 1 2 2 1 2 2 2 1 2 2 1\n",
              " [2341] 1 2 1 2 1 1 1 1 1 3 2 3 1 2 2 1 1 2 1 1 1 2 1 2 2 1 2 1 2 1 1 1 1 2 2 1\n",
              " [2377] 2 2 1 2 2 1 1 2 2 1 2 2 2 2 2 2 1 1 2 1 2 1 1 2 2 2 1 2 2 1 1 1 2 2 1 2\n",
              " [2413] 2 1 1 1 1 1 1 1 1 3 1 2 2 1 1 1 1 2 1 3 1 1 1 2 2 2 1 1 2 2 2 2 2 1 1 1\n",
              " [2449] 1 1 2 2 1 1 1 1 1 2 2 1 1 1 4 2 1 1 2 2 1 1 1 2 1 1 2 2 1 1 1 2 2 2 1 2\n",
              " [2485] 1 1 2 1 2 1 1 2 1 1 1 3 2 2 2 4 2 1 1 1 2 1 2 2 1 4 1 1 1 2 2 1 2 2 3 2\n",
              " [2521] 1 2 2 2 1 1 2 2 2 1 1 1 2 2 1 2 1 1 2 2 1 4 3 2 2 1 3 1 2 2 2 1 2 1 1 1\n",
              " [2557] 2 2 2 2 1 1 1 2 1 2 1 2 1 1 1 1 2 2 2 1 2 1 1 1 1 2 2 2 1 2 1 2 1 1 1 1\n",
              " [2593] 2 2 1 1 2 1 2 1 3 2 2 1 1 2 2 1 1 1 1 1 2 2 4 1 2 4 2 1 2 1 2 2 1 1 2 2\n",
              " [2629] 1 1 2 1 2 1 1 2 2 2 2 2 2 1 1 1 1 2 2 1 1 2 1 2 2 1 1 2 2 1 3 1 1 1 1 1\n",
              " [2665] 2 1 2 1 1 2 1 2 2 1 1 2 1 1 2 1 2 2 2 1 2 2 1 2 1 1 2 2 2 2 2 3 1 2 3 1\n",
              " [2701] 2 2 1 1 2 2 1 1 1 1 2 2 1 1 1 1 2 2 1 1 3 3 1 1 1 1 1 2 2 2 1 2 1 1 2 1\n",
              " [2737] 2 2 3 1 1 2 1 1 1 1 2 2 1 1 3 2 1 2 1 2 1 2 2 1 1 2 2 1 2 2 1 1 2 1 2 1\n",
              " [2773] 2 2 1 2 2 1 2 2 2 2 2 2 2 1 1 3 1 1 1 1 2 1 1 1 1 2 1 1 2 1 1 1 2 1 1 2\n",
              " [2809] 1 2 2 2 3 1 2 2 2 2 1 2 1 2 1 1 2 1 1 2 1 2 2 2 1 1 1 2 2 1 2 1 2 2 1 2\n",
              " [2845] 1 1 2 2 2 1 1 1 2 1 1 2 1 2 2 2 1 2 1 2 1 1 1 1 2 2 2 2 4 1 1 1 1 2 1 1\n",
              " [2881] 2 1 2 1 2 2 2 1 2 1 1 2 2 2 1 1 1 2 1 2 3 2 1 2 1 1 2 2 1 2 1 1 3 2 2 1\n",
              " [2917] 1 2 2 1 2 1 1 2 1 1 2 1 1 1 1 2 1 1 1 2 1 2 2 1 2 2 1 1 2 1 2 1 2 1 1 2\n",
              " [2953] 1 2 2 1 2 1 2 1 1 2 3 2 2 2 1 3 2 2 1 1 1 1 1 2 1 3 1 1 2 2 2 1 2 1 2 1\n",
              " [2989] 3 1 1 1 2 1 1 1 2 1 2 1 2 2 2 1 2 2 1 1 1 2 1 1 1 2 1 2 1 2 1 2 2 1 2 1\n",
              " [3025] 1 2 2 1 2 2 1 1 3 2 1 1 2 2 2 2 2 2 2 1 1 1 1 2 1 2 2 1 2 2 1 2 1 1 2 2\n",
              " [3061] 2 2 3 1 2 1 2 1 1 2 2 2 1 2 1 2 2 1 2 2 2 1 1 1 2 1 2 2 1 1 2 2 1 1 2 1\n",
              " [3097] 1 1 2 1 2 1 2 2 1 2 2 1 2 1 2 2 3 2 1 1 1 1 2 1 2 1 1 2 1 1 1 1 2 2 1 2\n",
              " [3133] 1 1 1 1 2 1 1 1 2 2 2 2 1 1 2 1 2 1 2 1 4 1 2 2 1 2 1 1 2 2 1 1 2 1 1 2\n",
              " [3169] 1 2 1 3 1 2 2 3 2 2 2 2 1 1 1 2 1 1 2 1 1 2 1 2 2 1 1 1 2 2 1 1 1 2 1 2\n",
              " [3205] 3 1 1 1 1 1 1 2 1 1 1 2 1 1 2 2 2 2 2 1 1 1 2 1 2 1 2 1 2 1 1 2 1 2 1 2\n",
              " [3241] 1 1 1 1 2 1 1 1 1 1 2 3 1 1 1 2 2 1 1 2 1 2 1 2 2 2 1 1 1 2 1 1 1 2 1 2\n",
              " [3277] 1 1 1 2 1 2 1 2 1 1 2 2 1 2 2 2 2 2 1 1 2 1 2 2 2 1 1 1 1 1 2 2 2 1 2 1\n",
              " [3313] 1 2 2 2 1 2 2 1 1 2 1 2 1 2 1 2 1 2 2 1 1 1 2 2 2 1 2 2 1 1 2 1 2 1 1 1\n",
              " [3349] 1 2 2 1 2 2 2 1 2 2 1 1 1 2 2 1 2 4 1 1 2 1 1 1 1 2 1 1 2 1 1 2 2 1 2 2\n",
              " [3385] 2 1 2 1 1 1 1 2 1 2 2 1 2 2 2 1 1 1 1 2 1 1 1 2 2 1 2 1 1 2 2 1 2 1 2 2\n",
              " [3421] 2 1 2 1 2 2 2 1 2 1 2 1 1 1 1 1 1 1 2 1 1 2 1 2 2 2 2 1 1 1 1 2 1 2 1 2\n",
              " [3457] 1 2 2 2 2 1 1 1 1 2 1 2 2 1 2 1 2 1 1 2 1 1 1 1 1 2 2 2 2 1 1 1 1 2 1 1\n",
              " [3493] 1 2 1 1 2 2 2 2 1 2 1 1 1 1 2 1 2 1 2 1 2 1 1 2 2 2 2 1 2 1 2 1 2 2 2 1\n",
              " [3529] 1 2 3 1 2 1 2 1 1 2 1 1 1 1 1 1 1 1 1 2 2 3 1 1 2 1 2 1 1 2 1 1 1 2 1 2\n",
              " [3565] 1 2 1 2 2 1 1 2 2 2 1 1 2 2 1 2 1 2 1 1 1 2 1 2 1 1 1 2 1 1 1 1 1 1 1 2\n",
              " [3601] 2 1 1 2 1 1 2 2 1 1 1 2 2 2 2 3 1 1 1 2 2 1 2 1 1 2 1 1 1 2 2 1 1 2 1 2\n",
              " [3637] 2 1 2 1 2 1 2 1 2 1 1 1 1 1 2 1 1 1 2 2 1 2 1 1 2 2 1 1 1 1 2 2 1 2 2 2\n",
              " [3673] 1 1 2 1 2 2 1 2 1 1 2 2 1 2 2 2 1 2 1 1 2 1 1 1 1 1 2 2 2 2 1 3 2 1 2 2\n",
              " [3709] 1 1 1 1 1 1 1 1 1 1 2 1 2 1 1 2 1 2 3 1 2 2 1 1 1 1 2 1 2 1 2 1 2 1 2 1\n",
              " [3745] 1 2 1 2 1 1 2 2 1 2 1 1 2 1 1 1 1 1 2 2 1 1 2 1 1 2 1 2 1 3 1 2 1 1 1 2\n",
              " [3781] 2 1 1 1 1 2 2 1 2 1 1 1 2 1 1 2 1 1 2 1 2 1 2 1 2 1 2 1 1 1 1 2 1 1 2 1\n",
              " [3817] 2 1 1 1 1 2 1 1 1 1 1 1 1 1 2 2 2 2 2 2 3 2 1 2 1 4 2 3 1 1 2 2 1 2 1 1\n",
              " [3853] 1 2 2 2 1 1 1 1 1 2 2 1 2 2 1 2 1 2 2 1 1 2 1 1 2 1 2 2 2 1 2 1 2 2 2 2\n",
              " [3889] 2 2 2 1 1 2 1 2 2 2 1 1 2 2 1 2 2 2 2 2 1 1 2 1 2 1 1 1 3 2 2 2 1 2 2 2\n",
              " [3925] 2 2 1 2 1 2 1 1 1 2 2 2 1 2 1 2 1 1 2 2 1 2 1 1 2 1 2 1 1 1 1 2 1 1 2 3\n",
              " [3961] 1 1 1 2 1 1 2 2 1 1 2 1 1 1 2 1 2 2 2 1 1 2 1 1 2 2 2 1 1 1 2 2 2 1 2 1\n",
              " [3997] 2 1 1 1 2 1 2 2 2 2 1 1 1 1 2 1 2 4 4 1 1 1 2 2 1 1 2 1 1 1 3 2 2 2 1 2\n",
              " [4033] 2 1 1 2 1 1 1 1 1 2 1 2 1 1 2 1 2 2 2 1 2 2 3 1 2 1 1 1 2 1 1 2 3 2 2 2\n",
              " [4069] 2 1 2 1 1 1 1 1 1 2 2 1 1 2 1 2 2 1 1 2 2 2 2 2 2 1 2 1 1 2 1 1 1 2 2 1\n",
              " [4105] 1 2 1 1 1 1 2 2 1 2 1 2 2 2 2 2 2 2 2 1 1 2 2 1 1 1 1 1 1 2 1 2 3 1 1 1\n",
              " [4141] 2 1 1 1 1 1 2 2 2 1 2 1 2 1 2 1 2 2 1 1 1 1 2 2 1 2 4 1 1 2 2 1 2 1 3 2\n",
              " [4177] 1 2 2 2 2 1 1 2 2 2 2 1 2 1 1 1 2 2 1 1 1 1 1 1 2 1 2 1 1 1 3 1 1 1 1 1\n",
              " [4213] 1 2 2 1 1 1 1 1 1 2 1 2 1 2 2 1 2 2 3 2 2 2 2 1 2 1 2 1 1 2 1 1 1 2 1 1\n",
              " [4249] 2 2 1 2 1 1 2 2 1 1 2 3 4 1 2 1 1 1 1 1 3 1 2 2 1 1 1 2 2 1 1 1 1 1 1 1\n",
              " [4285] 2 1 1 1 1 1 1 1 2 1 2 1 1 2 2 2 2 2 1 1 2 2 2 1 1 1 1 1 1 1 1 1 1 2 2 2\n",
              " [4321] 2 1 1 1 1 1 3 2 1 2 2 1 1 2 2 3 2 2 1 2 1 2 1 1 2 1 1 2 2 3 2 1 2 2 1 1\n",
              " [4357] 2 2 2 1 2 1 1 1 2 2 2 1 1 2 2 1 1 1 2 1 2 1 2 2 1 2 2 1 2 1 1 2 2 1 1 2\n",
              " [4393] 1 2 2 1 1 2 1 1 1 1 1 4 1 2 1 1 1 1 1 1 2 2 2 2 1 1 1 2 2 2 1 2 1 1 2 1\n",
              " [4429] 2 1 2 2 2 1 2 1 1 2 2 1 1 2 2 2 1 2 2 1 2 2 1 1 2 1 1 2 2 1 2 1 1 1 2 3\n",
              " [4465] 2 2 2 2 1 1 1 2 2 1 1 1 2 2 2 2 2 1 2 1 2 2 1 1 1 2 1 1 1 2 2 1 1 1 1 1\n",
              " [4501] 1 1 1 2 1 2 1 1 2 1 2 4 1 2 2 1 4 1 2 1 3 1 2 1 2 1 1 1 1 1 2 2 2 2 2 1\n",
              " [4537] 2 2 2 2 1 1 2 2 1 1 2 1 1 2 2 1 2 2 2 1 1 2 1 1 2 2 2 3 2 1 2 2 1 1 2 2\n",
              " [4573] 1 1 2 2 2 1 2 3 1 2 2 2 1 2 2 1 1 2 1 2 1 2 2 1 2 1 1 2 2 1 1 2 1 2 4 1\n",
              " [4609] 1 2 1 2 1 2 2 2 1 2 1 2 1 2 1 1 1 2 1 1 2 1 2 1 2 2 1 2 2 1 2 1 2 1 1 1\n",
              " [4645] 2 2 2 2 2 2 2 1 2 2 4 2 1 2 1 2 2 1 2 1 2 2 1 1 1 1 2 3 1 1 2 1 1 3 1 2\n",
              " [4681] 1 2 1 1 2 1 1 2 2 1 2 2 2 1 1 1 1 1 2 1 2 2 1 1 2 1 1 2 2 2 2 1 1 1 1 2\n",
              " [4717] 2 2 1 1 2 1 1 1 1 2 1 2 1 1 1 2 1 2 2 2 2 1 1 2 1 2 2 1 1 1 2 2 4 2 1 2\n",
              " [4753] 1 1 1 2 1 1 2 1 1 2 1 2 3 2 2 2 1 1 2 1 1 2 1 2 2 2 2 3 2 2 1 2 1 1 2 1\n",
              " [4789] 2 1 1 2 1 1 2 1 1 1 2 1 2 1 1 2 2 1 1 2 1 1 2 2 1 2 2 1 2 2 1 1 2 2 4 1\n",
              " [4825] 1 1 1 1 2 1 2 2 1 1 1 2 1 2 1 1 2 2 3 1 2 1 2 1 2 2 1 1 2 2 2 2 1 2 1 1\n",
              " [4861] 1 1 1 2 1 2 1 1 1 3 1 2 1 2 2 2 2 2 2 1 1 2 1 1 1 2 1 1 2 3 2 2 1 2 2 2\n",
              " [4897] 1 1 1 1 1 2 2 2 2 2 2 1 1 2 2 1 1 1 2 2 1 1 2 1 2 2 2 2 2 2 1 1 2 1 1 1\n",
              " [4933] 1 2 1 1 1 2 1 2 2 1 1 2 1 2 1 2 2 2 1 2 1 1 1 2 1 1 2 1 2 2 2 1 2 2 2 3\n",
              " [4969] 1 1 1 1 1 2 1 2 1 1 1 1 1 2 2 1 2 1 1 2 2 1 1 1 3 1 1 2 2 1 1 2 2 2 2 1\n",
              " [5005] 1 1 2 3 1 2 4 1 2 1 2 2 2 2 1 1 1 1 2 1 1 2 2 2 1 2 2 1 2 1 2 1 1 1 1 2\n",
              " [5041] 2 2 2 2 2 3 1 2 1 1 1 1 1 1 1 2 1 3 2 2 1 2 1 2 2 1 2 1 1 2 2 2 1 2 1 1\n",
              " [5077] 2 2 1 2 2 1 3 1 1 2 2 1 3 1 2 2 2 3 1 1 1 2 2 1 2 2 2 1 1 1 1 1 1 1 1 2\n",
              " [5113] 1 1 1 3 1 2 1 2 1 2 1 1 1 1 2 2 2 1 2 1 1 1 1 2 2 4 1 1 2 2 2 1 1 1 2 1\n",
              " [5149] 2 1 1 1 2 2 2 2 1 1 1 1 2 1 2 2 2 1 1 2 1 2 2 2 2 1 2 2 1 1 2 2 2 1 1 2\n",
              " [5185] 2 1 2 2 3 2 2 1 2 1 2 1 1 2 1 2 2 1 1 1 1 1 1 2 2 1 2 2 1 1 2 1 1 1 2 1\n",
              " [5221] 3 2 1 1 1 2 1 2 1 2 2 3 1 1 1 4 2 1 1 1 1 2 1 1 2 2 2 1 1 1 2 2 2 2 1 2\n",
              " [5257] 1 3 1 1 2 1 1 2 3 2 1 2 2 1 2 1 1 1 2 2 2 2 1 1 1 2 1 1 1 1 1 2 2 1 1 1\n",
              " [5293] 2 2 1 1 1 3 2 1 2 2 1 2 2 2 1 1 1 1 1 2 2 2 3 1 1 1 1 2 1 1 2 1 2 1 2 2\n",
              " [5329] 1 2 1 1 1 1 2 1 1 3 1 1 1 1 1 2 2 2 1 1 1 2 2 1 2 1 1 1 1 2 2 1 2 2 2 3\n",
              " [5365] 2 2 3 1 1 1 2 1 2 2 1 1 1 2 2 1 2 2 1 2 1 1 4 2 1 2 3 2 2 2 1 1 2 2 1 1\n",
              " [5401] 2 2 2 1 1 2 1 2 2 1 2 2 1 2 2 1 2 2 1 1 2 2 1 2 1 2 1 2 2 2 2 1 1 1 2 1\n",
              " [5437] 2 1 1 2 1 1 1 1 2 2 2 1 1 1 2 2 2 2 1 1 2 1 1 2 2 2 1 1 1 3 1 1 2 2 2 2\n",
              " [5473] 1 1 2 1 2 2 2 1 2 1 2 1 1 2 2 1 1 1 2 2 1 2 1 2 2 1 1 2 1 1 1 1 2 2 2 1\n",
              " [5509] 2 2 2 1 1 2 1 2 1 2 2 1 1 1 2 1 2 2 1 1 2 2 1 1 2 1 2 3 2 1 2 1 1 1 1 1\n",
              " [5545] 2 1 2 1 2 2 1 2 2 2 2 2 2 2 1 1 1 1 1 1 2 1 1 2 2 2 3 3 1 1 2 2 1 1 2 2\n",
              " [5581] 2 2 1 2 2 2 2 2 2 1 2 2 2 1 1 1 3 1 1 1 2 1 1 2 1 1 1 3 1 3 2 1 1 1 2 1\n",
              " [5617] 2 1 1 2 2 2 1 2 1 1 2 1 2 2 2 1 1 2 2 1 2 2 2 1 2 2 1 1 1 1 1 1 1 2 1 1\n",
              " [5653] 2 1 2 1 2 1 1 1 1 2 2 2 1 2 1 2 1 2 2 2 2 2 2 1 2 1 2 2 1 1 2 1 1 1 1 2\n",
              " [5689] 2 1 2 1 2 1 1 2 2 2 2 1 4 1 2 1 1 2 1 2 2 1 2 1 1 2 2 2 2 1 2 1 1 2 2 2\n",
              " [5725] 1 1 1 1 2 1 2 1 2 1 1 2 2 2 1 1 1 1 1 1 1 2 1 1 1 2 3 1 2 2 2 1 2 2 2 2\n",
              " [5761] 1 2 1 2 1 2 1 2 1 1 1 1 1 1 2 1 1 1 2 1 1 1 2 2 2 2 2 2 2 1 2 3 1 2 2 2\n",
              " [5797] 2 2 1 1 1 1 2 2 2 1 1 2 1 1 2 1 1 2 2 2 1 1 2 1 1 2 2 1 3 1 2 2 3 1 2 1\n",
              " [5833] 1 1 2 1 2 1 1 2 2 1 1 2 2 1 2 1 2 1 1 2 1 3 2 1 2 1 1 1 2 1 2 1 2 1 2 2\n",
              " [5869] 1 1 1 1 2 1 2 2 1 2 1 2 2 2 1 1 2 2 1 1 1 2 1 2 1 1 2 2 1 1 1 2 3 1 2 1\n",
              " [5905] 4 2 1 2 1 2 1 2 1 1 2 2 2 1 1 2 2 1 3 1 2 1 2 1 1 2 2 1 1 1 1 2 1 2 1 2\n",
              " [5941] 2 2 1 2 1 2 2 1 1 1 3 2 1 1 1 1 1 1 1 2 1 2 1 1 1 1 1 2 1 2 1 2 1 1 1 2\n",
              " [5977] 1 1 1 2 2 2 1 2 2 1 1 1 2 1 2 1 1 2 2 1 2 2 2 1 3 1 1 1 1 2 2 1 2 2 2 1\n",
              " [6013] 2 1 1 1 2 1 2 2 1 1 1 1 2 1 1 2 2 1 1 2 2 2 2 2 1 2 1 2 1 1 1 2 2 2 2 2\n",
              " [6049] 1 2 1 2 2 2 1 1 2 1 1 2 2 1 2 1 2 1 1 2 1 2 2 1 2 2 2 2 1 1 1 1 1 1 1 1\n",
              " [6085] 1 1 2 1 2 2 2 1 2 2 1 1 1 2 1 1 2 1 2 2 1 2 2 2 2 1 2 1 2 2 2 2 1 2 1 2\n",
              " [6121] 1 2 1 2 1 1 2 2 2 2 2 3 1 2 2 2 1 1 1 2 1 2 2 2 1 2 2 2 1 2 4 2 1 2 1 2\n",
              " [6157] 2 2 1 1 2 2 1 2 2 3 1 1 1 1 1 1 4 1 1 2 2 1 2 1 2 2 2 1 2 1 1 1 2 2 1 2\n",
              " [6193] 2 2 1 2 1 1 1 2 1 3 1 2 1 1 1 1 2 1 2 1 2 2 2 1 1 2 2 1 2 3 2 1 2 2 3 1\n",
              " [6229] 1 1 2 1 1 1 2 2 1 2 1 1 1 2 1 2 2 2 1 2 2 2 1 1 2 1 1 3 1 1 1 2 2 1 2 2\n",
              " [6265] 2 2 1 1 1 2 1 1 1 2 1 2 1 2 2 4 1 2 2 2 1 1 2 1 1 1 1 2 1 2 1 3 2 1 1 1\n",
              " [6301] 1 1 2 1 2 2 2 2 2 2 2 2 1 1 1 1 2 1 1 1 1 1 2 1 2 1 1 2 1 1 1 1 1 1 2 2\n",
              " [6337] 1 1 1 1 2 1 1 1 2 2 1 2 2 2 1 2 2 1 3 1 2 1 2 3 2 2 2 1 2 2 1 1 1 2 3 2\n",
              " [6373] 2 2 2 1 1 1 1 1 1 2 2 1 2 2 2 2 1 1 2 1 2 2 2 2 2 1 1 1 2 2 1 1 1 1 1 1\n",
              " [6409] 2 2 2 1 1 1 1 2 1 2 2 2 2 1 1 1 2 1 1 2 1 2 1 1 2 1 2 1 1 1 2 1 1 1 1 1\n",
              " [6445] 1 1 1 1 2 2 1 2 2 2 1 2 2 1 1 1 2 1 2 2 1 2 1 1 1 2 1 2 1 2 2 1 2 2 1 1\n",
              " [6481] 2 2 2 2 2 1 2 2 2 2 2 2 2 1 2 3 2 1 1 1 1 2 1 1 2 1 1 1 3 2 1 1 2 2 2 2\n",
              " [6517] 3 2 2 1 1 2 2 2 3 1 1 1 1 2 1 2 3 2 1 2 1 1 2 2 1 1 1 2 1 2 2 1 2 2 1 2\n",
              " [6553] 1 1 1 2 1 2 1 2 2 1 1 1 2 2 2 1 1 1 2 1 2 1 1 1 1 1 2 2 1 1 2 1 1 1 2 1\n",
              " [6589] 2 2 2 1 2 2 1 2 2 1 1 1 1 1 2 2 1 2 2 1 1 1 1 2 1 2 1 2 2 2 1 1 2 2 1 1\n",
              " [6625] 1 1 1 1 2 2 2 2 1 2 2 2 2 2 1 2 1 2 1 2 2 1 2 1 1 1 1 1 2 2 1 1 2 1 1 1\n",
              " [6661] 2 2 2 1 2 2 1 2 1 1 2 2 2 1 1 2 2 1 1 1 1 1 2 1 3 2 1 2 1 1 1 1 1 1 1 2\n",
              " [6697] 1 1 1 2 1 1 2 1 2 2 1 1 2 1 2 2 1 3 1 1 2 1 1 2 2 2 1 2 2 1 1 1 1 1 1 2\n",
              " [6733] 2 1 3 2 1 2 2 2 1 1 2 1 2 1 1 1 1 1 4 1 1 1 1 2 2 2 1 2 1 2 1 3 1 2 1 1\n",
              " [6769] 2 1 1 1 2 1 2 1 1 2 2 1 2 2 3 2 2 1 2 1 1 2 1 2 1 1 1 1 2 1 2 1 1 1 2 2\n",
              " [6805] 2 2 1 2 2 1 2 2 1 1 2 1 1 2 1 2 1 2 2 1 2 2 2 1 2 1 2 3 2 1 2 2 2 2 2 2\n",
              " [6841] 1 2 1 1 1 1 1 2 2 1 1 2 3 1 2 1 1 1 1 1 2 1 1 1 2 1 1 1 2 3 2 1 2 2 2 4\n",
              " [6877] 2 2 2 1 1 2 2 1 2 1 2 1 2 2 3 1 1 2 1 1 2 1 1 1 1 1 2 1 2 2 2 1 2 2 1 3\n",
              " [6913] 3 1 1 2 1 1 2 1 2 1 2 1 1 1 2 1 1 1 1 1 2 1 2 2 2 2 1 2 2 1 2 1 1 1 1 1\n",
              " [6949] 1 2 2 1 1 1 1 1 1 1 1 1 2 2 1 1 3 2 2 1 1 2 2 2 1 2 2 1 2 1 2 1 2 1 2 2\n",
              " [6985] 1 2 1 2 2 2 2 2 1 2 1 1 1 2 1 1 1 2 2 1 1 1 2 2 1 1 1 2 2 2 2 1 1 2 1 1\n",
              " [7021] 2 1 2 2 1 3 2 1 1 1 1 2 1 2 1 2 1 1 2 1 2 2 2 2 2 2 2 2 2 2 2 2 2 3 2 1\n",
              " [7057] 2 2 3 2 2 1 2 2 2 1 2 1 1 1 1 1 1 1 2 1 2 1 2 2 2 2 2 1 1 2 1 1 1 2 2 1\n",
              " [7093] 2 1 1 1 1 2 1 1 1 1 2 1 1 1 2 2 2 1 2 2 1 1 2 2 3 1 1 1 2 1 1 2 2 2 2 2\n",
              " [7129] 2 2 2 1 1 1 1 1 1 1 2 2 1 1 2 2 1 1 1 2 2 2 1 2 1 2 1 3 1 1 2 1 1 1 1 2\n",
              " [7165] 2 1 2 1 2 2 1 2 2 1 2 1 2 1 2 1 2 3 2 1 2 2 2 1 1 2 2 1 1 2 1 2 2 2 1 1\n",
              " [7201] 1 1 1 2 1 2 1 2 2 1 1 2 1 3 2 1 3 2 1 1 2 2 1 1 2 2 1 1 2 2 2 1 1 1 1 1\n",
              " [7237] 1 2 1 1 1 2 3 2 2 2 2 1 3 2 2 1 1 1 1 1 1 4 1 1 1 1 1 2 1 2 1 1 1 1 1 2\n",
              " [7273] 1 1 2 2 1 2 2 1 2 1 2 1 2 2 2 1 1 1 2 1 2 1 2 1 1 1 1 1 1 1 1 2 2 1 2 2\n",
              " [7309] 1 1 3 2 2 1 2 2 1 1 2 2 2 1 1 2 3 2 1 1 1 1 1 1 2 2 2 1 2 1 1 1 2 2 2 2\n",
              " [7345] 2 1 2 2 2 2 2 2 2 2 1 2 2 2 1 2 1 1 1 2 1 1 3 2 1 2 2 2 2 2 1 2 1 1 2 1\n",
              " [7381] 1 1 2 2 2 2 1 1 1 2 1 1 2 1 1 1 2 1 1 1 1 2 2 1 2 1 2 2 1 2 2 1 2 1 2 2\n",
              " [7417] 2 1 2 2 1 1 1 2 1 1 1 1 2 1 2 2 2 1 2 3 1 1 2 2 1 2 2 1 2 1 1 2 1 2 2 2\n",
              " [7453] 2 3 2 1 2 4 1 2 2 2 1 1 1 1 1 2 2 1 2 1 2 1 1 1 2 1 2 1 1 2 2 1 1 2 2 1\n",
              " [7489] 1 1 1 2 1 2 1 2 1 2 2 1 2 1 1 2 1 2 1 1 2 2 2 1 2 1 1 1 1 1 2 2 1 1 3 2\n",
              " [7525] 1 1 2 2 1 1 1 1 2 3 2 1 1 1 2 1 1 2 2 2 1 2 2 1 2 1 1 2 1 1 2 2 3 2 2 2\n",
              " [7561] 1 2 1 2 1 1 1 4 2 1 3 3 2 2 1 1 1 1 2 1 1 2 1 2 2 1 1 1 2 2 3 1 1 1 2 1\n",
              " [7597] 2 2 1 1 1 1 1 2 1 2 3 2 2 1 1 2 1 2 2 1 2 2 2 2 2 2 2 2 2 1 2 1 1 1 2 1\n",
              " [7633] 1 1 2 1 2 1 2 2 1 2 1 2 1 2 1 1 2 1 2 2 2 1 1 1 2 1 3 1 2 1 1 2 1 1 2 1\n",
              " [7669] 2 2 1 1 2 1 1 1 1 1 2 1 2 2 2 1 1 1 2 1 1 1 1 1 1 2 1 2 1 2 4 2 2 1 2 2\n",
              " [7705] 2 1 2 2 1 1 1 1 2 2 2 3 2 2 2 2 2 1 1 2 4 2 1 2 1 4 2 1 1 1 2 1 1 1 2 1\n",
              " [7741] 1 1 1 1 2 2 2 2 1 1 2 2 1 1 2 2 1 1 2 2 2 2 2 1 1 2 2 1 2 2 1 1 1 1 2 2\n",
              " [7777] 2 2 2 2 1 1 1 1 1 2 2 2 2 1 1 1 2 2 1 1 2 2 2 2 1 1 1 1 1 2 1 1 2 1 1 1\n",
              " [7813] 1 1 2 1 2 1 1 2 2 1 2 2 1 2 1 2 1 2 2 2 1 1 1 1 2 1 1 2 2 1 1 1 2 1 1 1\n",
              " [7849] 1 1 2 1 1 1 2 2 2 2 1 2 1 2 3 1 2 2 1 1 2 1 2 1 2 2 1 1 1 2 2 1 2 2 1 2\n",
              " [7885] 1 2 1 2 1 2 2 2 2 1 2 1 2 2 1 2 2 2 2 2 1 2 1 2 2 1 1 2 1 2 2 3 2 2 1 1\n",
              " [7921] 1 2 2 1 2 2 2 1 1 2 2 1 1 1 1 2 2 1 1 2 1 1 1 1 1 2 1 2 1 1 1 2 2 2 1 1\n",
              " [7957] 2 2 2 2 2 2 1 2 2 2 2 1 1 1 1 1 1 1 1 2 1 1 2 2 1 1 2 1 1 2 2 2 2 2 1 2\n",
              " [7993] 2 1 3 2 1 1 3 1 2 2 2 2 2 1 2 1 1 1 2 2 2 1 1 2 2 1 1 2 1 1 1 2 1 1 1 2\n",
              " [8029] 2 1 1 2 2 2 2 2 2 2 2 2 2 4 1 1 1 2 2 1 1 3 2 2 1 1 1 1 1 2 2 2 1 2 1 2\n",
              " [8065] 2 1 2 2 1 2 1 3 1 1 1 1 1 1 2 2 1 1 1 1 1 2 1 2 1 1 2 2 1 2 2 1 1 2 1 2\n",
              " [8101] 1 3 2 3 2 1 2 2 2 2 1 1 2 1 2 2 1 1 1 3 2 2 1 1 2 1 1 1 1 2 2 2 2 2 1 2\n",
              " [8137] 2 1 1 1 1 1 1 1 2 1 1 1 1 2 2 1 2 3 1 2 1 1 2 2 1 2 1 1 2 2 1 1 2 1 1 2\n",
              " [8173] 2 3 1 2 1 1 2 1 1 2 1 2 1 2 2 2 1 2 2 1 1 1 1 1 1 1 1 2 1 1 2 2 1 1 2 2\n",
              " [8209] 2 2 2 2 1 1 2 1 2 1 2 2 1 1 1 1 2 2 1 2 1 2 2 1 2 1 1 1 2 1 2 2 1 2 1 2\n",
              " [8245] 1 1 2 2 1 2 2 2 2 3 1 1 1 2 1 1 1 2 2 2 2 1 2 2 2 2 1 2 1 3 1 1 2 2 2 1\n",
              " [8281] 2 1 2 2 1 1 1 1 2 1 1 1 1 1 2 2 2 2 1 3 1 1 2 1 2 3 1 1 2 2 1 1 1 1 2 2\n",
              " [8317] 2 2 1 1 1 2 2 2 1 2 1 2 1 2 1 1 1 1 2 1 1 2 1 2 2 2 2 1 3 2 3 3 3 1 1 2\n",
              " [8353] 2 1 2 1 2 2 1 3 2 2 2 1 1 2 2 2 1 2 1 1 2 2 3 2 1 2 2 1 2 2 2 2 2 2 1 1\n",
              " [8389] 1 2 2 1 1 1 1 1 3 1 2 2 2 2 1 2 2 2 1 1 2 1 1 2 1 2 2 1 1 2 2 1 1 1 1 1\n",
              " [8425] 1 1 2 2 2 2 1 1 1 1 1 1 2 2 1 1 1 2 2 1 2 2 2 1 2 1 2 1 3 1 2 2 1 2 2 2\n",
              " [8461] 3 1 1 1 2 1 1 2 2 2 2 3 2 2 1 2 2 2 2 2 1 2 2 1 1 2 2 2 2 2 1 2 2 3 1 1\n",
              " [8497] 2 2 2 2 1 2 2 2 1 1 2 2 2 1 1 2 1 1 1 2 2 2 1 2 2 1 2 1 2 1 1 1 2 1 1 3\n",
              " [8533] 2 2 2 1 1 2 2 1 2 2 2 2 2 1 2 2 1 2 1 2 1 1 1 1 1 1 1 2 1 1 1 1 1 1 1 1\n",
              " [8569] 2 2 1 1 2 1 2 2 2 1 1 1 1 2 1 1 2 1 2 2 1 2 4 1 2 1 2 1 2 2 2 2 1 1 2 1\n",
              " [8605] 2 2 2 2 2 2 2 2 2 1 1 1 2 2 2 2 2 2 2 1 1 1 1 2 2 2 2 2 2 2 1 1 1 2 2 2\n",
              " [8641] 1 1 2 1 2 1 2 2 1 2 2 2 1 2 2 2 1 2 1 1 2 1 1 1 2 2 2 2 2 2 2 2 2 1 2 1\n",
              " [8677] 1 2 1 1 1 2 1 4 1 2 2 2 1 1 1 2 2 2 2 2 1 2 2 1 2 1 1 2 2 1 1 1 2 2 1 1\n",
              " [8713] 2 2 1 1 2 1 2 2 2 1 1 1 2 2 1 1 1 2 2 2 2 1 1 1 2 1 1 1 1 2 2 2 2 2 2 2\n",
              " [8749] 1 2 1 2 1 1 2 1 1 2 1 1 1 2 1 2 2 2 1 2 1 1 2 2 2 2 2 2 2 2 1 1 1 1 2 1\n",
              " [8785] 1 2 2 1 1 2 1 2 2 2 1 3 2 1 2 2 1 1 1 1 2 2 2 2 1 2 2 1 2 1 2 2 2 1 2 1\n",
              " [8821] 1 1 2 1 2 2 2 2 2 2 1 1 2 1 1 1 2 1 1 2 2 1 2 1 2 1 2 2 1 2 4 1 1 1 2 1\n",
              " [8857] 2 2 2 2 1 1 1 2 2 2 1 1 1 2 1 1 2 1 2 2 1 1 1 2 1 1 2 2 3 2 1 1 1 1 2 1\n",
              " [8893] 1 2 1 1 2 1 1 2 2 1 2 1 1 1 2 1 1 2 1 2 2 2 1 1 2 2 1 1 2 2 2 4 2 2 2 2\n",
              " [8929] 2 1 1 1 2 2 1 1 1 1 1 2 2 2 2 1 2 1 1 1 1 2 1 1 1 3 1 1 2 1 2 2 1 1 1 2\n",
              " [8965] 1 1 1 2 1 2 2 2 1 1 2 1 2 2 1 1 2 2 1 2 1 1 1 1 2 1 2 1 1 1 2 2 1 2 1 2\n",
              " [9001] 1 1 1 1 2 2 1 2 1 2 2 2 2 1 1 2 1 1 3 2 2 2 2 2 2 1 1 1 1 1 1 2 2 2 1 2\n",
              " [9037] 1 1 1 2 1 1 1 2 1 1 1 1 2 2 2 2 1 2 2 1 2 2 1 2 3 2 2 1 1 2 2 2 2 2 1 1\n",
              " [9073] 2 2 2 2 1 2 1 1 2 2 2 2 1 2 2 2 1 1 1 1 1 1 1 2 1 2 2 2 2 2 1 2 1 1 3 1\n",
              " [9109] 1 1 2 2 1 1 2 2 2 2 2 1 1 1 2 1 2 1 2 1 1 1 2 1 2 1 1 1 1 1 1 2 2 2 2 1\n",
              " [9145] 1 1 2 1 2 2 1 2 1 3 2 2 1 2 1 1 2 1 1 1 2 1 1 1 1 2 3 1 1 1 2 1 2 1 1 2\n",
              " [9181] 2 1 1 1 2 2 2 1 2 2 2 1 2 1 1 1 2 1 1 1 1 2 1 2 2 1 1 1 2 1 1 2 2 1 2 4\n",
              " [9217] 2 2 1 1 1 1 1 1 1 2 2 2 1 1 2 1 3 1 1 1 1 2 2 2 2 2 2 1 1 2 1 2 2 1 1 1\n",
              " [9253] 1 2 2 4 1 2 1 2 2 2 2 2 2 1 1 2 2 1 1 1 2 2 1 1 1 1 1 2 1 1 1 2 1 1 1 2\n",
              " [9289] 2 2 1 2 2 2 1 1 2 1 2 1 1 2 2 1 2 2 2 2 2 1 2 1 2 1 1 1 3 1 1 2 2 1 2 4\n",
              " [9325] 2 2 1 1 2 2 2 1 1 1 2 2 1 1 1 2 2 2 2 2 1 1 1 1 1 2 3 1 2 1 2 1 1 1 2 1\n",
              " [9361] 1 2 1 2 2 1 1 1 2 1 4 1 1 2 1 2 1 1 2 2 1 1 1 2 1 2 2 1 2 1 2 2 2 1 1 2\n",
              " [9397] 2 2 2 1 1 1 1 1 2 1 2 1 1 2 2 4 1 2 1 2 1 2 1 1 2 1 1 1 2 2 2 2 2 1 2 1\n",
              " [9433] 2 2 2 2 3 1 3 1 3 1 2 1 2 1 1 2 2 2 1 1 2 1 2 2 1 1 2 1 2 2 2 1 2 2 1 1\n",
              " [9469] 2 1 2 1 1 2 2 2 1 1 1 2 1 1 2 1 1 1 1 1 2 1 1 1 1 1 2 1 2 2 1 2 1 1 2 1\n",
              " [9505] 1 1 2 1 2 2 2 1 1 1 2 1 1 2 1 2 2 2 2 1 1 1 2 1 1 2 2 1 2 1 2 1 1 2 2 1\n",
              " [9541] 4 1 2 1 2 1 2 2 2 2 1 2 1 2 3 1 1 1 1 1 3 2 2 2 2 4 2 1 2 2 1 1 1 2 2 2\n",
              " [9577] 1 1 2 2 1 2 1 1 1 2 1 1 1 1 1 1 1 1 2 2 1 2 1 1 1 1 1 2 2 2 2 1 2 2 3 1\n",
              " [9613] 2 3 2 2 1 2 1 1 1 1 1 1 1 2 1 1 2 1 2 1 1 1 2 1 1 1 2 2 1 2 1 2 2 1 1 2\n",
              " [9649] 1 2 2 1 1 1 2 2 1 1 2 2 2 2 2 2 1 2 2 1 2 1 2 2 2 2 2 1 1 1 2 2 2 1 2 2\n",
              " [9685] 1 1 2 1 1 2 2 2 1 1 2 1 1 2 1 2 2 1 1 2 2 2 2 1 2 1 2 1 2 1 1 2 3 1 2 1\n",
              " [9721] 1 1 2 1 2 2 1 1 1 2 1 1 2 2 2 2 1 3 1 2 2 2 2 2 1 2 1 3 2 2 1 1 2 1 1 2\n",
              " [9757] 1 1 1 2 1 2 2 1 2 1 1 1 2 1 1 1 2 2 2 1 2 1 2 1 1 1 1 2 2 2 2 1 1 2 2 1\n",
              " [9793] 1 1 1 2 2 2 1 1 3 1 1 1 1 1 1 2 1 1 1 1 2 1 2 2 2 2 1 1 1 2 1 1 1 1 2 2\n",
              " [9829] 2 1 1 2 1 2 1 2 2 1 1 1 2 2 2 1 1 2 2 2 1 2 1 2 1 1 1 1 2 2 1 1 2 1 2 2\n",
              " [9865] 1 2 2 2 1 2 1 2 2 1 2 2 1 3 1 2 1 2 1 1 1 1 2 1 1 1 1 2 1 1 2 3 1 2 1 1\n",
              " [9901] 2 1 2 2 1 1 1 2 2 1 1 1 1 1 2 2 2 1 1 2 1 1 1 2 1 1 2 1 2 1 2 1 2 1 1 2\n",
              " [9937] 1 2 1 2 2 2 1 1 2 2 2 2 2 1 1 2 1 2 1 2 1 1 1 1 1 2 1 1 2 1 1 1 2 1 2 1\n",
              " [9973] 1 2 1 2 1 2 2 1 1 1 1 1 2 2 2 2 2 2 1 1 1 1 2 2 1 1 2 1"
            ]
          },
          "metadata": {}
        }
      ]
    },
    {
      "cell_type": "markdown",
      "source": [
        "En mi tabla de clientes, tengo una variable, llamada *NumOfProducts*. Por privacidad, no puedo saber _qué_ productos tiene cada quién, pero sé que mis productos son:"
      ],
      "metadata": {
        "id": "mpR3UdaTiGQy"
      }
    },
    {
      "cell_type": "code",
      "source": [
        "productos <- c(\"Crédito\", \"Seguro\", \"Hipoteca\", \"Inversion\")"
      ],
      "metadata": {
        "id": "zMK8TiYbWd6J"
      },
      "execution_count": null,
      "outputs": []
    },
    {
      "cell_type": "markdown",
      "source": [
        "Para un cliente que tiene NumOfProducts=2, ¿en cuántas combinaciones posibles uno de sus productos es un Seguro?"
      ],
      "metadata": {
        "id": "_7R7jE4jjLh4"
      }
    },
    {
      "cell_type": "code",
      "source": [
        "combinations(4,2, productos)"
      ],
      "metadata": {
        "colab": {
          "base_uri": "https://localhost:8080/",
          "height": 240
        },
        "id": "khYYRzkXjK5J",
        "outputId": "c4cf7906-368a-462b-a24a-12e3c75c990f"
      },
      "execution_count": null,
      "outputs": [
        {
          "output_type": "display_data",
          "data": {
            "text/html": [
              "<table class=\"dataframe\">\n",
              "<caption>A matrix: 6 × 2 of type chr</caption>\n",
              "<tbody>\n",
              "\t<tr><td>Crédito  </td><td>Hipoteca </td></tr>\n",
              "\t<tr><td>Crédito  </td><td>Inversion</td></tr>\n",
              "\t<tr><td>Crédito  </td><td>Seguro   </td></tr>\n",
              "\t<tr><td>Hipoteca </td><td>Inversion</td></tr>\n",
              "\t<tr><td>Hipoteca </td><td>Seguro   </td></tr>\n",
              "\t<tr><td>Inversion</td><td>Seguro   </td></tr>\n",
              "</tbody>\n",
              "</table>\n"
            ],
            "text/markdown": "\nA matrix: 6 × 2 of type chr\n\n| Crédito   | Hipoteca  |\n| Crédito   | Inversion |\n| Crédito   | Seguro    |\n| Hipoteca  | Inversion |\n| Hipoteca  | Seguro    |\n| Inversion | Seguro    |\n\n",
            "text/latex": "A matrix: 6 × 2 of type chr\n\\begin{tabular}{ll}\n\t Crédito   & Hipoteca \\\\\n\t Crédito   & Inversion\\\\\n\t Crédito   & Seguro   \\\\\n\t Hipoteca  & Inversion\\\\\n\t Hipoteca  & Seguro   \\\\\n\t Inversion & Seguro   \\\\\n\\end{tabular}\n",
            "text/plain": [
              "     [,1]      [,2]     \n",
              "[1,] Crédito   Hipoteca \n",
              "[2,] Crédito   Inversion\n",
              "[3,] Crédito   Seguro   \n",
              "[4,] Hipoteca  Inversion\n",
              "[5,] Hipoteca  Seguro   \n",
              "[6,] Inversion Seguro   "
            ]
          },
          "metadata": {}
        }
      ]
    },
    {
      "cell_type": "markdown",
      "source": [
        "Agrega una nueva columna que agregue todas el número combinaciones posibles de productos, sabiendo que hay 4 productos en total.\n"
      ],
      "metadata": {
        "id": "GtyfRxdKkMdl"
      }
    },
    {
      "cell_type": "code",
      "source": [
        "df[\"Combinaciones_Productos\"] <- factorial(4) / factorial(4 - df$NumOfProducts)\n",
        "\n",
        "head(df)"
      ],
      "metadata": {
        "colab": {
          "base_uri": "https://localhost:8080/",
          "height": 306
        },
        "id": "GYC1RZSfjro7",
        "outputId": "58aeabd2-677f-4212-bb06-733e2237a4d2"
      },
      "execution_count": null,
      "outputs": [
        {
          "output_type": "display_data",
          "data": {
            "text/html": [
              "<table class=\"dataframe\">\n",
              "<caption>A data.frame: 6 × 19</caption>\n",
              "<thead>\n",
              "\t<tr><th></th><th scope=col>RowNumber</th><th scope=col>CustomerId</th><th scope=col>Surname</th><th scope=col>CreditScore</th><th scope=col>Geography</th><th scope=col>Gender</th><th scope=col>Age</th><th scope=col>Tenure</th><th scope=col>Balance</th><th scope=col>NumOfProducts</th><th scope=col>HasCrCard</th><th scope=col>IsActiveMember</th><th scope=col>EstimatedSalary</th><th scope=col>Exited</th><th scope=col>Complain</th><th scope=col>Satisfaction.Score</th><th scope=col>Card.Type</th><th scope=col>Point.Earned</th><th scope=col>Combinaciones_Productos</th></tr>\n",
              "\t<tr><th></th><th scope=col>&lt;int&gt;</th><th scope=col>&lt;int&gt;</th><th scope=col>&lt;chr&gt;</th><th scope=col>&lt;int&gt;</th><th scope=col>&lt;chr&gt;</th><th scope=col>&lt;chr&gt;</th><th scope=col>&lt;int&gt;</th><th scope=col>&lt;int&gt;</th><th scope=col>&lt;dbl&gt;</th><th scope=col>&lt;int&gt;</th><th scope=col>&lt;int&gt;</th><th scope=col>&lt;int&gt;</th><th scope=col>&lt;dbl&gt;</th><th scope=col>&lt;int&gt;</th><th scope=col>&lt;int&gt;</th><th scope=col>&lt;int&gt;</th><th scope=col>&lt;chr&gt;</th><th scope=col>&lt;int&gt;</th><th scope=col>&lt;dbl&gt;</th></tr>\n",
              "</thead>\n",
              "<tbody>\n",
              "\t<tr><th scope=row>1</th><td>1</td><td>15634602</td><td>Hargrave</td><td>619</td><td>France</td><td>Female</td><td>42</td><td>2</td><td>     0.00</td><td>1</td><td>1</td><td>1</td><td>101348.88</td><td>1</td><td>1</td><td>2</td><td>DIAMOND</td><td>464</td><td> 4</td></tr>\n",
              "\t<tr><th scope=row>2</th><td>2</td><td>15647311</td><td>Hill    </td><td>608</td><td>Spain </td><td>Female</td><td>41</td><td>1</td><td> 83807.86</td><td>1</td><td>0</td><td>1</td><td>112542.58</td><td>0</td><td>1</td><td>3</td><td>DIAMOND</td><td>456</td><td> 4</td></tr>\n",
              "\t<tr><th scope=row>3</th><td>3</td><td>15619304</td><td>Onio    </td><td>502</td><td>France</td><td>Female</td><td>42</td><td>8</td><td>159660.80</td><td>3</td><td>1</td><td>0</td><td>113931.57</td><td>1</td><td>1</td><td>3</td><td>DIAMOND</td><td>377</td><td>24</td></tr>\n",
              "\t<tr><th scope=row>4</th><td>4</td><td>15701354</td><td>Boni    </td><td>699</td><td>France</td><td>Female</td><td>39</td><td>1</td><td>     0.00</td><td>2</td><td>0</td><td>0</td><td> 93826.63</td><td>0</td><td>0</td><td>5</td><td>GOLD   </td><td>350</td><td>12</td></tr>\n",
              "\t<tr><th scope=row>5</th><td>5</td><td>15737888</td><td>Mitchell</td><td>850</td><td>Spain </td><td>Female</td><td>43</td><td>2</td><td>125510.82</td><td>1</td><td>1</td><td>1</td><td> 79084.10</td><td>0</td><td>0</td><td>5</td><td>GOLD   </td><td>425</td><td> 4</td></tr>\n",
              "\t<tr><th scope=row>6</th><td>6</td><td>15574012</td><td>Chu     </td><td>645</td><td>Spain </td><td>Male  </td><td>44</td><td>8</td><td>113755.78</td><td>2</td><td>1</td><td>0</td><td>149756.71</td><td>1</td><td>1</td><td>5</td><td>DIAMOND</td><td>484</td><td>12</td></tr>\n",
              "</tbody>\n",
              "</table>\n"
            ],
            "text/markdown": "\nA data.frame: 6 × 19\n\n| <!--/--> | RowNumber &lt;int&gt; | CustomerId &lt;int&gt; | Surname &lt;chr&gt; | CreditScore &lt;int&gt; | Geography &lt;chr&gt; | Gender &lt;chr&gt; | Age &lt;int&gt; | Tenure &lt;int&gt; | Balance &lt;dbl&gt; | NumOfProducts &lt;int&gt; | HasCrCard &lt;int&gt; | IsActiveMember &lt;int&gt; | EstimatedSalary &lt;dbl&gt; | Exited &lt;int&gt; | Complain &lt;int&gt; | Satisfaction.Score &lt;int&gt; | Card.Type &lt;chr&gt; | Point.Earned &lt;int&gt; | Combinaciones_Productos &lt;dbl&gt; |\n|---|---|---|---|---|---|---|---|---|---|---|---|---|---|---|---|---|---|---|---|\n| 1 | 1 | 15634602 | Hargrave | 619 | France | Female | 42 | 2 |      0.00 | 1 | 1 | 1 | 101348.88 | 1 | 1 | 2 | DIAMOND | 464 |  4 |\n| 2 | 2 | 15647311 | Hill     | 608 | Spain  | Female | 41 | 1 |  83807.86 | 1 | 0 | 1 | 112542.58 | 0 | 1 | 3 | DIAMOND | 456 |  4 |\n| 3 | 3 | 15619304 | Onio     | 502 | France | Female | 42 | 8 | 159660.80 | 3 | 1 | 0 | 113931.57 | 1 | 1 | 3 | DIAMOND | 377 | 24 |\n| 4 | 4 | 15701354 | Boni     | 699 | France | Female | 39 | 1 |      0.00 | 2 | 0 | 0 |  93826.63 | 0 | 0 | 5 | GOLD    | 350 | 12 |\n| 5 | 5 | 15737888 | Mitchell | 850 | Spain  | Female | 43 | 2 | 125510.82 | 1 | 1 | 1 |  79084.10 | 0 | 0 | 5 | GOLD    | 425 |  4 |\n| 6 | 6 | 15574012 | Chu      | 645 | Spain  | Male   | 44 | 8 | 113755.78 | 2 | 1 | 0 | 149756.71 | 1 | 1 | 5 | DIAMOND | 484 | 12 |\n\n",
            "text/latex": "A data.frame: 6 × 19\n\\begin{tabular}{r|lllllllllllllllllll}\n  & RowNumber & CustomerId & Surname & CreditScore & Geography & Gender & Age & Tenure & Balance & NumOfProducts & HasCrCard & IsActiveMember & EstimatedSalary & Exited & Complain & Satisfaction.Score & Card.Type & Point.Earned & Combinaciones\\_Productos\\\\\n  & <int> & <int> & <chr> & <int> & <chr> & <chr> & <int> & <int> & <dbl> & <int> & <int> & <int> & <dbl> & <int> & <int> & <int> & <chr> & <int> & <dbl>\\\\\n\\hline\n\t1 & 1 & 15634602 & Hargrave & 619 & France & Female & 42 & 2 &      0.00 & 1 & 1 & 1 & 101348.88 & 1 & 1 & 2 & DIAMOND & 464 &  4\\\\\n\t2 & 2 & 15647311 & Hill     & 608 & Spain  & Female & 41 & 1 &  83807.86 & 1 & 0 & 1 & 112542.58 & 0 & 1 & 3 & DIAMOND & 456 &  4\\\\\n\t3 & 3 & 15619304 & Onio     & 502 & France & Female & 42 & 8 & 159660.80 & 3 & 1 & 0 & 113931.57 & 1 & 1 & 3 & DIAMOND & 377 & 24\\\\\n\t4 & 4 & 15701354 & Boni     & 699 & France & Female & 39 & 1 &      0.00 & 2 & 0 & 0 &  93826.63 & 0 & 0 & 5 & GOLD    & 350 & 12\\\\\n\t5 & 5 & 15737888 & Mitchell & 850 & Spain  & Female & 43 & 2 & 125510.82 & 1 & 1 & 1 &  79084.10 & 0 & 0 & 5 & GOLD    & 425 &  4\\\\\n\t6 & 6 & 15574012 & Chu      & 645 & Spain  & Male   & 44 & 8 & 113755.78 & 2 & 1 & 0 & 149756.71 & 1 & 1 & 5 & DIAMOND & 484 & 12\\\\\n\\end{tabular}\n",
            "text/plain": [
              "  RowNumber CustomerId Surname  CreditScore Geography Gender Age Tenure\n",
              "1 1         15634602   Hargrave 619         France    Female 42  2     \n",
              "2 2         15647311   Hill     608         Spain     Female 41  1     \n",
              "3 3         15619304   Onio     502         France    Female 42  8     \n",
              "4 4         15701354   Boni     699         France    Female 39  1     \n",
              "5 5         15737888   Mitchell 850         Spain     Female 43  2     \n",
              "6 6         15574012   Chu      645         Spain     Male   44  8     \n",
              "  Balance   NumOfProducts HasCrCard IsActiveMember EstimatedSalary Exited\n",
              "1      0.00 1             1         1              101348.88       1     \n",
              "2  83807.86 1             0         1              112542.58       0     \n",
              "3 159660.80 3             1         0              113931.57       1     \n",
              "4      0.00 2             0         0               93826.63       0     \n",
              "5 125510.82 1             1         1               79084.10       0     \n",
              "6 113755.78 2             1         0              149756.71       1     \n",
              "  Complain Satisfaction.Score Card.Type Point.Earned Combinaciones_Productos\n",
              "1 1        2                  DIAMOND   464           4                     \n",
              "2 1        3                  DIAMOND   456           4                     \n",
              "3 1        3                  DIAMOND   377          24                     \n",
              "4 0        5                  GOLD      350          12                     \n",
              "5 0        5                  GOLD      425           4                     \n",
              "6 1        5                  DIAMOND   484          12                     "
            ]
          },
          "metadata": {}
        }
      ]
    },
    {
      "cell_type": "markdown",
      "source": [
        "## 2.b) Variables Aleatorias"
      ],
      "metadata": {
        "id": "rcRtoFTnme0M"
      }
    },
    {
      "cell_type": "code",
      "source": [
        "# unique() también sirve para encontrar mi espacio muestral\n",
        "\n",
        "unique(df$Tenure)"
      ],
      "metadata": {
        "colab": {
          "base_uri": "https://localhost:8080/",
          "height": 34
        },
        "id": "QUNBu_Gkmgdw",
        "outputId": "b5613a60-6a3b-43fe-dd10-514473bb7808"
      },
      "execution_count": null,
      "outputs": [
        {
          "output_type": "display_data",
          "data": {
            "text/html": [
              "<style>\n",
              ".list-inline {list-style: none; margin:0; padding: 0}\n",
              ".list-inline>li {display: inline-block}\n",
              ".list-inline>li:not(:last-child)::after {content: \"\\00b7\"; padding: 0 .5ex}\n",
              "</style>\n",
              "<ol class=list-inline><li>2</li><li>1</li><li>8</li><li>7</li><li>4</li><li>6</li><li>3</li><li>10</li><li>5</li><li>9</li><li>0</li></ol>\n"
            ],
            "text/markdown": "1. 2\n2. 1\n3. 8\n4. 7\n5. 4\n6. 6\n7. 3\n8. 10\n9. 5\n10. 9\n11. 0\n\n\n",
            "text/latex": "\\begin{enumerate*}\n\\item 2\n\\item 1\n\\item 8\n\\item 7\n\\item 4\n\\item 6\n\\item 3\n\\item 10\n\\item 5\n\\item 9\n\\item 0\n\\end{enumerate*}\n",
            "text/plain": [
              " [1]  2  1  8  7  4  6  3 10  5  9  0"
            ]
          },
          "metadata": {}
        }
      ]
    },
    {
      "cell_type": "markdown",
      "source": [
        "Acá puedo ver que *Tenure* es una variable Discreta, con valores del 0 al 10.\n",
        "\n",
        "Pero, ¿tendrá una distribución Uniforme? Veamos el conteo de cada uno de los posibles valores."
      ],
      "metadata": {
        "id": "-c0OkSwknJhZ"
      }
    },
    {
      "cell_type": "code",
      "source": [
        "table(df$Tenure)"
      ],
      "metadata": {
        "colab": {
          "base_uri": "https://localhost:8080/",
          "height": 69
        },
        "id": "v4NlpQ0rnEUk",
        "outputId": "2f39c4eb-34bb-4382-f948-49b1bef5e0cc"
      },
      "execution_count": null,
      "outputs": [
        {
          "output_type": "display_data",
          "data": {
            "text/plain": [
              "\n",
              "   0    1    2    3    4    5    6    7    8    9   10 \n",
              " 413 1035 1048 1009  989 1012  967 1028 1025  984  490 "
            ]
          },
          "metadata": {}
        }
      ]
    },
    {
      "cell_type": "markdown",
      "source": [
        "¡Los valores varían mucho!\n",
        "Mi Dataset es, finalmente, una muestra del Universo total de clientes. Por lo tanto, es altamente probable que la Variable Aleatoria *Tenure* **no** de distribuya Uniformemente.\n",
        "\n",
        "Pero a ver: ¿puedo ir investigando cómo se distribuyen las variables en mi set de Datos? ¡Claro que sí!"
      ],
      "metadata": {
        "id": "juE0ltbEnhWt"
      }
    },
    {
      "cell_type": "code",
      "source": [
        "table(df$HasCrCard)"
      ],
      "metadata": {
        "colab": {
          "base_uri": "https://localhost:8080/",
          "height": 69
        },
        "id": "y2Kj58yinf-z",
        "outputId": "a1a96e2a-5db8-4212-da03-e07536ae4453"
      },
      "execution_count": null,
      "outputs": [
        {
          "output_type": "display_data",
          "data": {
            "text/plain": [
              "\n",
              "   0    1 \n",
              "2945 7055 "
            ]
          },
          "metadata": {}
        }
      ]
    },
    {
      "cell_type": "code",
      "source": [
        "sum(df$HasCrCard) / dim(df)[1]"
      ],
      "metadata": {
        "colab": {
          "base_uri": "https://localhost:8080/",
          "height": 34
        },
        "id": "PVCalnvloJ8a",
        "outputId": "976e66ec-c43d-4e66-fcc6-8858080a1943"
      },
      "execution_count": null,
      "outputs": [
        {
          "output_type": "display_data",
          "data": {
            "text/html": [
              "0.7055"
            ],
            "text/markdown": "0.7055",
            "text/latex": "0.7055",
            "text/plain": [
              "[1] 0.7055"
            ]
          },
          "metadata": {}
        }
      ]
    },
    {
      "cell_type": "markdown",
      "source": [
        "Si tomo al azar un cliente, la probabilidad de que este tenga una tarjeta de Crédito se distribuirá **Bernoulli**, con p=0.7055\n",
        "\n",
        "Recordatorio: una variable aleatoria de Bernoulli representa casos experimentales donde sólo existe éxito o fracaso (sucede o no sucede).\n",
        "\n",
        "Si, en cambio, tomo $n$ clientes al azar, y puesto que cada uno de ellos son eventos independientes, la probabilidad de que $k$ de ellos tengan Tarjeta de Crédito se distribuye **Binomial**. Por ejemplo, si tomo una muestra de 5 elementos, la probabilidad de que tres de ellos tenga tarjeta de crédito es:\n",
        "\n",
        "$p_x(k) = {n\\choose k} p^k (1-p) ^{n-k} $\n",
        "\n",
        "\n",
        "$p_x(3) = {5\\choose 3} 0.7055^3 (1-0.7055) ^{5-3} $"
      ],
      "metadata": {
        "id": "w2xlAckqoVHN"
      }
    },
    {
      "cell_type": "code",
      "source": [
        "# Puedo crear una función que me ayude con el número de combinaciones.\n",
        "n_comb <- function(n, k) {\n",
        "  return(factorial(n) / (factorial(k) * factorial(n - k)))\n",
        "}\n",
        "\n",
        "n_comb(5, 3)"
      ],
      "metadata": {
        "colab": {
          "base_uri": "https://localhost:8080/",
          "height": 34
        },
        "id": "jR5UVUEzoUDP",
        "outputId": "1d8cbbfe-209d-4ec7-8bd9-f8786f63645d"
      },
      "execution_count": null,
      "outputs": [
        {
          "output_type": "display_data",
          "data": {
            "text/html": [
              "10"
            ],
            "text/markdown": "10",
            "text/latex": "10",
            "text/plain": [
              "[1] 10"
            ]
          },
          "metadata": {}
        }
      ]
    },
    {
      "cell_type": "code",
      "source": [
        "# Entonces, la probabilidad sería:\n",
        "\n",
        "p_3_en_5 <- n_comb(5, 3) * (0.7055)^3 * (1-0.7055)^2\n",
        "p_3_en_5"
      ],
      "metadata": {
        "colab": {
          "base_uri": "https://localhost:8080/",
          "height": 34
        },
        "id": "Lst_aA4OoHt3",
        "outputId": "ff248952-599a-45b6-b31e-501b5e357331"
      },
      "execution_count": null,
      "outputs": [
        {
          "output_type": "display_data",
          "data": {
            "text/html": [
              "0.304552137901266"
            ],
            "text/markdown": "0.304552137901266",
            "text/latex": "0.304552137901266",
            "text/plain": [
              "[1] 0.3045521"
            ]
          },
          "metadata": {}
        }
      ]
    },
    {
      "cell_type": "markdown",
      "source": [
        "Y puedo hacer un experimento para ver si es cierto. Aplicando la _Ley de los Grandes números_, sé que si repito suficientes veces el experimento, sabré que el valor irá \"acercándose\" a 0.30455 aproximadamente"
      ],
      "metadata": {
        "id": "h4ChklBsqyoY"
      }
    },
    {
      "cell_type": "code",
      "source": [
        "muestra <- sample(1:nrow(df), size=5,replace=FALSE)\n",
        "muestra"
      ],
      "metadata": {
        "colab": {
          "base_uri": "https://localhost:8080/",
          "height": 34
        },
        "id": "6OqAiOKEqvQH",
        "outputId": "84d0f50b-9724-4498-ac50-3701179f5a17"
      },
      "execution_count": null,
      "outputs": [
        {
          "output_type": "display_data",
          "data": {
            "text/html": [
              "<style>\n",
              ".list-inline {list-style: none; margin:0; padding: 0}\n",
              ".list-inline>li {display: inline-block}\n",
              ".list-inline>li:not(:last-child)::after {content: \"\\00b7\"; padding: 0 .5ex}\n",
              "</style>\n",
              "<ol class=list-inline><li>7115</li><li>4445</li><li>769</li><li>6531</li><li>7429</li></ol>\n"
            ],
            "text/markdown": "1. 7115\n2. 4445\n3. 769\n4. 6531\n5. 7429\n\n\n",
            "text/latex": "\\begin{enumerate*}\n\\item 7115\n\\item 4445\n\\item 769\n\\item 6531\n\\item 7429\n\\end{enumerate*}\n",
            "text/plain": [
              "[1] 7115 4445  769 6531 7429"
            ]
          },
          "metadata": {}
        }
      ]
    },
    {
      "cell_type": "markdown",
      "source": [
        "Obtengamos 1000 muestras de 5 elementos, y veamos en cuántas de ellas hay 3 con Tarjeta de Crédito"
      ],
      "metadata": {
        "id": "BgzO9kMfrnUb"
      }
    },
    {
      "cell_type": "code",
      "source": [
        "tarjetasCredito_muestras <- c()\n",
        "for (i in 1:1000) {\n",
        "muestra <- sample(1:nrow(df), size=5,replace=FALSE)\n",
        "tarjetas_esta_muestra <- sum(df$HasCrCard[muestra])\n",
        "tarjetasCredito_muestras <- c(tarjetasCredito_muestras, tarjetas_esta_muestra)\n",
        "}"
      ],
      "metadata": {
        "id": "DYsqrBCrrmFc"
      },
      "execution_count": null,
      "outputs": []
    },
    {
      "cell_type": "code",
      "source": [
        "tarjetasCredito_muestras"
      ],
      "metadata": {
        "colab": {
          "base_uri": "https://localhost:8080/",
          "height": 156
        },
        "id": "yHsJh_kVB3G5",
        "outputId": "4acd197e-65b8-48f7-9f19-78f67aeaacba"
      },
      "execution_count": null,
      "outputs": [
        {
          "output_type": "display_data",
          "data": {
            "text/html": [
              "<style>\n",
              ".list-inline {list-style: none; margin:0; padding: 0}\n",
              ".list-inline>li {display: inline-block}\n",
              ".list-inline>li:not(:last-child)::after {content: \"\\00b7\"; padding: 0 .5ex}\n",
              "</style>\n",
              "<ol class=list-inline><li>3</li><li>3</li><li>4</li><li>4</li><li>5</li><li>4</li><li>4</li><li>4</li><li>4</li><li>4</li><li>5</li><li>2</li><li>4</li><li>4</li><li>5</li><li>3</li><li>3</li><li>2</li><li>2</li><li>3</li><li>4</li><li>4</li><li>4</li><li>5</li><li>4</li><li>4</li><li>4</li><li>4</li><li>4</li><li>3</li><li>4</li><li>5</li><li>5</li><li>4</li><li>5</li><li>4</li><li>3</li><li>4</li><li>5</li><li>4</li><li>3</li><li>4</li><li>5</li><li>4</li><li>4</li><li>4</li><li>5</li><li>4</li><li>4</li><li>2</li><li>1</li><li>5</li><li>4</li><li>3</li><li>4</li><li>5</li><li>4</li><li>4</li><li>3</li><li>4</li><li>3</li><li>5</li><li>3</li><li>3</li><li>3</li><li>4</li><li>4</li><li>4</li><li>4</li><li>4</li><li>4</li><li>2</li><li>3</li><li>3</li><li>1</li><li>3</li><li>5</li><li>5</li><li>5</li><li>4</li><li>2</li><li>2</li><li>2</li><li>3</li><li>4</li><li>4</li><li>3</li><li>5</li><li>3</li><li>2</li><li>3</li><li>4</li><li>2</li><li>3</li><li>4</li><li>5</li><li>4</li><li>3</li><li>4</li><li>4</li><li>4</li><li>4</li><li>2</li><li>4</li><li>4</li><li>2</li><li>4</li><li>3</li><li>4</li><li>2</li><li>4</li><li>5</li><li>3</li><li>3</li><li>5</li><li>5</li><li>4</li><li>2</li><li>3</li><li>3</li><li>4</li><li>2</li><li>4</li><li>4</li><li>3</li><li>4</li><li>4</li><li>5</li><li>3</li><li>4</li><li>5</li><li>4</li><li>3</li><li>4</li><li>4</li><li>3</li><li>5</li><li>4</li><li>3</li><li>3</li><li>3</li><li>1</li><li>4</li><li>4</li><li>3</li><li>5</li><li>3</li><li>4</li><li>5</li><li>3</li><li>3</li><li>3</li><li>4</li><li>3</li><li>2</li><li>2</li><li>4</li><li>5</li><li>3</li><li>3</li><li>3</li><li>1</li><li>3</li><li>5</li><li>3</li><li>3</li><li>4</li><li>4</li><li>3</li><li>4</li><li>4</li><li>3</li><li>5</li><li>3</li><li>4</li><li>4</li><li>3</li><li>3</li><li>4</li><li>4</li><li>4</li><li>4</li><li>5</li><li>3</li><li>4</li><li>4</li><li>5</li><li>3</li><li>4</li><li>4</li><li>3</li><li>2</li><li>3</li><li>3</li><li>3</li><li>4</li><li>2</li><li>4</li><li>3</li><li>3</li><li>⋯</li><li>3</li><li>3</li><li>4</li><li>4</li><li>4</li><li>4</li><li>5</li><li>5</li><li>5</li><li>4</li><li>4</li><li>3</li><li>4</li><li>3</li><li>4</li><li>2</li><li>2</li><li>4</li><li>5</li><li>3</li><li>4</li><li>2</li><li>4</li><li>3</li><li>5</li><li>4</li><li>2</li><li>4</li><li>5</li><li>4</li><li>5</li><li>3</li><li>4</li><li>5</li><li>3</li><li>5</li><li>4</li><li>4</li><li>2</li><li>2</li><li>5</li><li>4</li><li>3</li><li>4</li><li>4</li><li>3</li><li>4</li><li>4</li><li>2</li><li>4</li><li>3</li><li>5</li><li>2</li><li>5</li><li>3</li><li>4</li><li>3</li><li>2</li><li>4</li><li>3</li><li>3</li><li>3</li><li>2</li><li>3</li><li>2</li><li>4</li><li>3</li><li>1</li><li>4</li><li>1</li><li>2</li><li>5</li><li>4</li><li>4</li><li>5</li><li>3</li><li>5</li><li>3</li><li>3</li><li>4</li><li>5</li><li>5</li><li>5</li><li>5</li><li>2</li><li>5</li><li>5</li><li>3</li><li>4</li><li>5</li><li>3</li><li>4</li><li>4</li><li>5</li><li>1</li><li>4</li><li>4</li><li>3</li><li>3</li><li>4</li><li>1</li><li>4</li><li>3</li><li>3</li><li>2</li><li>4</li><li>2</li><li>5</li><li>2</li><li>3</li><li>1</li><li>4</li><li>4</li><li>3</li><li>4</li><li>1</li><li>4</li><li>4</li><li>3</li><li>4</li><li>3</li><li>3</li><li>4</li><li>2</li><li>2</li><li>3</li><li>2</li><li>5</li><li>4</li><li>5</li><li>5</li><li>4</li><li>4</li><li>5</li><li>3</li><li>4</li><li>5</li><li>4</li><li>4</li><li>5</li><li>5</li><li>1</li><li>2</li><li>2</li><li>4</li><li>3</li><li>3</li><li>4</li><li>4</li><li>5</li><li>5</li><li>5</li><li>2</li><li>4</li><li>4</li><li>3</li><li>4</li><li>1</li><li>3</li><li>3</li><li>5</li><li>4</li><li>4</li><li>4</li><li>5</li><li>3</li><li>3</li><li>3</li><li>4</li><li>3</li><li>5</li><li>2</li><li>5</li><li>4</li><li>3</li><li>5</li><li>4</li><li>2</li><li>3</li><li>4</li><li>3</li><li>5</li><li>2</li><li>2</li><li>4</li><li>2</li><li>5</li><li>4</li><li>4</li><li>4</li><li>4</li><li>3</li><li>3</li><li>3</li><li>3</li><li>5</li><li>4</li><li>5</li><li>5</li><li>3</li></ol>\n"
            ],
            "text/markdown": "1. 3\n2. 3\n3. 4\n4. 4\n5. 5\n6. 4\n7. 4\n8. 4\n9. 4\n10. 4\n11. 5\n12. 2\n13. 4\n14. 4\n15. 5\n16. 3\n17. 3\n18. 2\n19. 2\n20. 3\n21. 4\n22. 4\n23. 4\n24. 5\n25. 4\n26. 4\n27. 4\n28. 4\n29. 4\n30. 3\n31. 4\n32. 5\n33. 5\n34. 4\n35. 5\n36. 4\n37. 3\n38. 4\n39. 5\n40. 4\n41. 3\n42. 4\n43. 5\n44. 4\n45. 4\n46. 4\n47. 5\n48. 4\n49. 4\n50. 2\n51. 1\n52. 5\n53. 4\n54. 3\n55. 4\n56. 5\n57. 4\n58. 4\n59. 3\n60. 4\n61. 3\n62. 5\n63. 3\n64. 3\n65. 3\n66. 4\n67. 4\n68. 4\n69. 4\n70. 4\n71. 4\n72. 2\n73. 3\n74. 3\n75. 1\n76. 3\n77. 5\n78. 5\n79. 5\n80. 4\n81. 2\n82. 2\n83. 2\n84. 3\n85. 4\n86. 4\n87. 3\n88. 5\n89. 3\n90. 2\n91. 3\n92. 4\n93. 2\n94. 3\n95. 4\n96. 5\n97. 4\n98. 3\n99. 4\n100. 4\n101. 4\n102. 4\n103. 2\n104. 4\n105. 4\n106. 2\n107. 4\n108. 3\n109. 4\n110. 2\n111. 4\n112. 5\n113. 3\n114. 3\n115. 5\n116. 5\n117. 4\n118. 2\n119. 3\n120. 3\n121. 4\n122. 2\n123. 4\n124. 4\n125. 3\n126. 4\n127. 4\n128. 5\n129. 3\n130. 4\n131. 5\n132. 4\n133. 3\n134. 4\n135. 4\n136. 3\n137. 5\n138. 4\n139. 3\n140. 3\n141. 3\n142. 1\n143. 4\n144. 4\n145. 3\n146. 5\n147. 3\n148. 4\n149. 5\n150. 3\n151. 3\n152. 3\n153. 4\n154. 3\n155. 2\n156. 2\n157. 4\n158. 5\n159. 3\n160. 3\n161. 3\n162. 1\n163. 3\n164. 5\n165. 3\n166. 3\n167. 4\n168. 4\n169. 3\n170. 4\n171. 4\n172. 3\n173. 5\n174. 3\n175. 4\n176. 4\n177. 3\n178. 3\n179. 4\n180. 4\n181. 4\n182. 4\n183. 5\n184. 3\n185. 4\n186. 4\n187. 5\n188. 3\n189. 4\n190. 4\n191. 3\n192. 2\n193. 3\n194. 3\n195. 3\n196. 4\n197. 2\n198. 4\n199. 3\n200. 3\n201. ⋯\n202. 3\n203. 3\n204. 4\n205. 4\n206. 4\n207. 4\n208. 5\n209. 5\n210. 5\n211. 4\n212. 4\n213. 3\n214. 4\n215. 3\n216. 4\n217. 2\n218. 2\n219. 4\n220. 5\n221. 3\n222. 4\n223. 2\n224. 4\n225. 3\n226. 5\n227. 4\n228. 2\n229. 4\n230. 5\n231. 4\n232. 5\n233. 3\n234. 4\n235. 5\n236. 3\n237. 5\n238. 4\n239. 4\n240. 2\n241. 2\n242. 5\n243. 4\n244. 3\n245. 4\n246. 4\n247. 3\n248. 4\n249. 4\n250. 2\n251. 4\n252. 3\n253. 5\n254. 2\n255. 5\n256. 3\n257. 4\n258. 3\n259. 2\n260. 4\n261. 3\n262. 3\n263. 3\n264. 2\n265. 3\n266. 2\n267. 4\n268. 3\n269. 1\n270. 4\n271. 1\n272. 2\n273. 5\n274. 4\n275. 4\n276. 5\n277. 3\n278. 5\n279. 3\n280. 3\n281. 4\n282. 5\n283. 5\n284. 5\n285. 5\n286. 2\n287. 5\n288. 5\n289. 3\n290. 4\n291. 5\n292. 3\n293. 4\n294. 4\n295. 5\n296. 1\n297. 4\n298. 4\n299. 3\n300. 3\n301. 4\n302. 1\n303. 4\n304. 3\n305. 3\n306. 2\n307. 4\n308. 2\n309. 5\n310. 2\n311. 3\n312. 1\n313. 4\n314. 4\n315. 3\n316. 4\n317. 1\n318. 4\n319. 4\n320. 3\n321. 4\n322. 3\n323. 3\n324. 4\n325. 2\n326. 2\n327. 3\n328. 2\n329. 5\n330. 4\n331. 5\n332. 5\n333. 4\n334. 4\n335. 5\n336. 3\n337. 4\n338. 5\n339. 4\n340. 4\n341. 5\n342. 5\n343. 1\n344. 2\n345. 2\n346. 4\n347. 3\n348. 3\n349. 4\n350. 4\n351. 5\n352. 5\n353. 5\n354. 2\n355. 4\n356. 4\n357. 3\n358. 4\n359. 1\n360. 3\n361. 3\n362. 5\n363. 4\n364. 4\n365. 4\n366. 5\n367. 3\n368. 3\n369. 3\n370. 4\n371. 3\n372. 5\n373. 2\n374. 5\n375. 4\n376. 3\n377. 5\n378. 4\n379. 2\n380. 3\n381. 4\n382. 3\n383. 5\n384. 2\n385. 2\n386. 4\n387. 2\n388. 5\n389. 4\n390. 4\n391. 4\n392. 4\n393. 3\n394. 3\n395. 3\n396. 3\n397. 5\n398. 4\n399. 5\n400. 5\n401. 3\n\n\n",
            "text/latex": "\\begin{enumerate*}\n\\item 3\n\\item 3\n\\item 4\n\\item 4\n\\item 5\n\\item 4\n\\item 4\n\\item 4\n\\item 4\n\\item 4\n\\item 5\n\\item 2\n\\item 4\n\\item 4\n\\item 5\n\\item 3\n\\item 3\n\\item 2\n\\item 2\n\\item 3\n\\item 4\n\\item 4\n\\item 4\n\\item 5\n\\item 4\n\\item 4\n\\item 4\n\\item 4\n\\item 4\n\\item 3\n\\item 4\n\\item 5\n\\item 5\n\\item 4\n\\item 5\n\\item 4\n\\item 3\n\\item 4\n\\item 5\n\\item 4\n\\item 3\n\\item 4\n\\item 5\n\\item 4\n\\item 4\n\\item 4\n\\item 5\n\\item 4\n\\item 4\n\\item 2\n\\item 1\n\\item 5\n\\item 4\n\\item 3\n\\item 4\n\\item 5\n\\item 4\n\\item 4\n\\item 3\n\\item 4\n\\item 3\n\\item 5\n\\item 3\n\\item 3\n\\item 3\n\\item 4\n\\item 4\n\\item 4\n\\item 4\n\\item 4\n\\item 4\n\\item 2\n\\item 3\n\\item 3\n\\item 1\n\\item 3\n\\item 5\n\\item 5\n\\item 5\n\\item 4\n\\item 2\n\\item 2\n\\item 2\n\\item 3\n\\item 4\n\\item 4\n\\item 3\n\\item 5\n\\item 3\n\\item 2\n\\item 3\n\\item 4\n\\item 2\n\\item 3\n\\item 4\n\\item 5\n\\item 4\n\\item 3\n\\item 4\n\\item 4\n\\item 4\n\\item 4\n\\item 2\n\\item 4\n\\item 4\n\\item 2\n\\item 4\n\\item 3\n\\item 4\n\\item 2\n\\item 4\n\\item 5\n\\item 3\n\\item 3\n\\item 5\n\\item 5\n\\item 4\n\\item 2\n\\item 3\n\\item 3\n\\item 4\n\\item 2\n\\item 4\n\\item 4\n\\item 3\n\\item 4\n\\item 4\n\\item 5\n\\item 3\n\\item 4\n\\item 5\n\\item 4\n\\item 3\n\\item 4\n\\item 4\n\\item 3\n\\item 5\n\\item 4\n\\item 3\n\\item 3\n\\item 3\n\\item 1\n\\item 4\n\\item 4\n\\item 3\n\\item 5\n\\item 3\n\\item 4\n\\item 5\n\\item 3\n\\item 3\n\\item 3\n\\item 4\n\\item 3\n\\item 2\n\\item 2\n\\item 4\n\\item 5\n\\item 3\n\\item 3\n\\item 3\n\\item 1\n\\item 3\n\\item 5\n\\item 3\n\\item 3\n\\item 4\n\\item 4\n\\item 3\n\\item 4\n\\item 4\n\\item 3\n\\item 5\n\\item 3\n\\item 4\n\\item 4\n\\item 3\n\\item 3\n\\item 4\n\\item 4\n\\item 4\n\\item 4\n\\item 5\n\\item 3\n\\item 4\n\\item 4\n\\item 5\n\\item 3\n\\item 4\n\\item 4\n\\item 3\n\\item 2\n\\item 3\n\\item 3\n\\item 3\n\\item 4\n\\item 2\n\\item 4\n\\item 3\n\\item 3\n\\item ⋯\n\\item 3\n\\item 3\n\\item 4\n\\item 4\n\\item 4\n\\item 4\n\\item 5\n\\item 5\n\\item 5\n\\item 4\n\\item 4\n\\item 3\n\\item 4\n\\item 3\n\\item 4\n\\item 2\n\\item 2\n\\item 4\n\\item 5\n\\item 3\n\\item 4\n\\item 2\n\\item 4\n\\item 3\n\\item 5\n\\item 4\n\\item 2\n\\item 4\n\\item 5\n\\item 4\n\\item 5\n\\item 3\n\\item 4\n\\item 5\n\\item 3\n\\item 5\n\\item 4\n\\item 4\n\\item 2\n\\item 2\n\\item 5\n\\item 4\n\\item 3\n\\item 4\n\\item 4\n\\item 3\n\\item 4\n\\item 4\n\\item 2\n\\item 4\n\\item 3\n\\item 5\n\\item 2\n\\item 5\n\\item 3\n\\item 4\n\\item 3\n\\item 2\n\\item 4\n\\item 3\n\\item 3\n\\item 3\n\\item 2\n\\item 3\n\\item 2\n\\item 4\n\\item 3\n\\item 1\n\\item 4\n\\item 1\n\\item 2\n\\item 5\n\\item 4\n\\item 4\n\\item 5\n\\item 3\n\\item 5\n\\item 3\n\\item 3\n\\item 4\n\\item 5\n\\item 5\n\\item 5\n\\item 5\n\\item 2\n\\item 5\n\\item 5\n\\item 3\n\\item 4\n\\item 5\n\\item 3\n\\item 4\n\\item 4\n\\item 5\n\\item 1\n\\item 4\n\\item 4\n\\item 3\n\\item 3\n\\item 4\n\\item 1\n\\item 4\n\\item 3\n\\item 3\n\\item 2\n\\item 4\n\\item 2\n\\item 5\n\\item 2\n\\item 3\n\\item 1\n\\item 4\n\\item 4\n\\item 3\n\\item 4\n\\item 1\n\\item 4\n\\item 4\n\\item 3\n\\item 4\n\\item 3\n\\item 3\n\\item 4\n\\item 2\n\\item 2\n\\item 3\n\\item 2\n\\item 5\n\\item 4\n\\item 5\n\\item 5\n\\item 4\n\\item 4\n\\item 5\n\\item 3\n\\item 4\n\\item 5\n\\item 4\n\\item 4\n\\item 5\n\\item 5\n\\item 1\n\\item 2\n\\item 2\n\\item 4\n\\item 3\n\\item 3\n\\item 4\n\\item 4\n\\item 5\n\\item 5\n\\item 5\n\\item 2\n\\item 4\n\\item 4\n\\item 3\n\\item 4\n\\item 1\n\\item 3\n\\item 3\n\\item 5\n\\item 4\n\\item 4\n\\item 4\n\\item 5\n\\item 3\n\\item 3\n\\item 3\n\\item 4\n\\item 3\n\\item 5\n\\item 2\n\\item 5\n\\item 4\n\\item 3\n\\item 5\n\\item 4\n\\item 2\n\\item 3\n\\item 4\n\\item 3\n\\item 5\n\\item 2\n\\item 2\n\\item 4\n\\item 2\n\\item 5\n\\item 4\n\\item 4\n\\item 4\n\\item 4\n\\item 3\n\\item 3\n\\item 3\n\\item 3\n\\item 5\n\\item 4\n\\item 5\n\\item 5\n\\item 3\n\\end{enumerate*}\n",
            "text/plain": [
              "   [1] 3 3 4 4 5 4 4 4 4 4 5 2 4 4 5 3 3 2 2 3 4 4 4 5 4 4 4 4 4 3 4 5 5 4 5 4 3\n",
              "  [38] 4 5 4 3 4 5 4 4 4 5 4 4 2 1 5 4 3 4 5 4 4 3 4 3 5 3 3 3 4 4 4 4 4 4 2 3 3\n",
              "  [75] 1 3 5 5 5 4 2 2 2 3 4 4 3 5 3 2 3 4 2 3 4 5 4 3 4 4 4 4 2 4 4 2 4 3 4 2 4\n",
              " [112] 5 3 3 5 5 4 2 3 3 4 2 4 4 3 4 4 5 3 4 5 4 3 4 4 3 5 4 3 3 3 1 4 4 3 5 3 4\n",
              " [149] 5 3 3 3 4 3 2 2 4 5 3 3 3 1 3 5 3 3 4 4 3 4 4 3 5 3 4 4 3 3 4 4 4 4 5 3 4\n",
              " [186] 4 5 3 4 4 3 2 3 3 3 4 2 4 3 3 3 4 3 4 1 5 4 4 5 4 4 3 1 3 4 4 4 4 3 4 4 4\n",
              " [223] 4 3 5 4 3 5 3 4 4 5 3 5 3 4 4 3 3 3 2 2 2 4 3 2 1 5 4 3 3 2 4 4 4 3 3 4 3\n",
              " [260] 3 5 3 3 3 1 2 5 3 5 3 4 4 3 3 3 3 2 4 3 3 5 4 3 3 5 3 0 3 2 3 2 4 3 2 2 4\n",
              " [297] 2 3 3 4 3 1 3 5 2 3 4 2 0 3 2 5 4 4 5 2 4 4 4 5 4 3 4 2 4 4 3 3 3 4 3 4 5\n",
              " [334] 4 4 5 5 5 4 3 2 3 3 1 1 4 4 3 5 3 1 1 4 5 5 2 3 5 2 4 4 1 4 3 3 3 3 2 4 4\n",
              " [371] 5 3 5 2 5 4 3 5 1 2 2 4 5 4 2 4 5 3 2 5 5 3 3 5 4 5 4 5 2 3 5 2 5 3 3 3 3\n",
              " [408] 4 5 5 5 4 4 4 4 3 5 4 5 5 3 3 3 5 4 3 4 1 5 3 4 3 5 4 4 4 5 4 3 3 4 3 3 4\n",
              " [445] 4 4 5 3 2 5 5 5 3 5 2 4 5 4 5 4 4 3 3 3 4 2 4 5 5 1 3 3 4 4 3 4 4 2 3 3 3\n",
              " [482] 4 5 4 4 4 4 5 5 2 4 4 4 4 4 4 4 1 4 3 4 5 4 3 3 4 4 3 4 4 2 3 5 2 5 4 5 3\n",
              " [519] 3 4 4 5 4 4 5 3 4 4 4 5 3 4 4 4 2 4 2 2 4 3 3 2 5 4 3 4 4 5 5 3 4 0 2 4 4\n",
              " [556] 4 3 4 3 3 3 5 4 2 4 2 3 3 5 4 4 3 4 3 3 3 2 3 4 4 5 4 4 3 3 4 4 1 3 4 2 4\n",
              " [593] 3 5 4 4 4 3 4 4 3 2 4 4 3 4 5 3 2 2 2 3 5 2 4 3 3 3 5 3 5 3 3 4 5 5 5 4 3\n",
              " [630] 4 2 3 5 4 4 4 4 3 4 5 3 5 5 4 5 2 3 3 4 4 3 5 4 3 3 2 4 2 4 5 3 1 4 4 2 4\n",
              " [667] 1 2 3 5 3 4 4 3 2 3 5 4 4 4 5 4 5 4 3 3 3 4 3 4 4 5 3 4 3 3 5 3 5 4 3 5 3\n",
              " [704] 5 5 4 3 5 4 3 3 5 3 2 2 4 2 4 3 4 2 4 5 3 4 3 5 4 4 5 2 2 4 4 4 3 3 3 4 4\n",
              " [741] 4 4 3 3 5 5 2 3 3 4 4 3 4 2 4 5 5 3 5 4 3 4 5 3 3 2 3 4 2 3 4 2 4 3 4 3 3\n",
              " [778] 3 3 4 4 5 3 4 4 2 2 2 3 4 1 3 5 4 3 3 4 2 4 3 3 3 4 4 4 4 5 5 5 4 4 3 4 3\n",
              " [815] 4 2 2 4 5 3 4 2 4 3 5 4 2 4 5 4 5 3 4 5 3 5 4 4 2 2 5 4 3 4 4 3 4 4 2 4 3\n",
              " [852] 5 2 5 3 4 3 2 4 3 3 3 2 3 2 4 3 1 4 1 2 5 4 4 5 3 5 3 3 4 5 5 5 5 2 5 5 3\n",
              " [889] 4 5 3 4 4 5 1 4 4 3 3 4 1 4 3 3 2 4 2 5 2 3 1 4 4 3 4 1 4 4 3 4 3 3 4 2 2\n",
              " [926] 3 2 5 4 5 5 4 4 5 3 4 5 4 4 5 5 1 2 2 4 3 3 4 4 5 5 5 2 4 4 3 4 1 3 3 5 4\n",
              " [963] 4 4 5 3 3 3 4 3 5 2 5 4 3 5 4 2 3 4 3 5 2 2 4 2 5 4 4 4 4 3 3 3 3 5 4 5 5\n",
              "[1000] 3"
            ]
          },
          "metadata": {}
        }
      ]
    },
    {
      "cell_type": "code",
      "source": [
        "table(tarjetasCredito_muestras)"
      ],
      "metadata": {
        "colab": {
          "base_uri": "https://localhost:8080/",
          "height": 69
        },
        "id": "pq0_TOD0rciC",
        "outputId": "23d69e88-4e94-44e8-8519-51ed63c5f79d"
      },
      "execution_count": null,
      "outputs": [
        {
          "output_type": "display_data",
          "data": {
            "text/plain": [
              "tarjetasCredito_muestras\n",
              "  0   1   2   3   4   5 \n",
              "  3  30 117 296 369 185 "
            ]
          },
          "metadata": {}
        }
      ]
    },
    {
      "cell_type": "code",
      "source": [
        "30 / 1000"
      ],
      "metadata": {
        "colab": {
          "base_uri": "https://localhost:8080/",
          "height": 34
        },
        "id": "oONO1zzPsjp1",
        "outputId": "aeec28b0-7bf5-441d-9403-94e46c4b9301"
      },
      "execution_count": null,
      "outputs": [
        {
          "output_type": "display_data",
          "data": {
            "text/html": [
              "<strong>3:</strong> 0.296"
            ],
            "text/markdown": "**3:** 0.296",
            "text/latex": "\\textbf{3:} 0.296",
            "text/plain": [
              "    3 \n",
              "0.296 "
            ]
          },
          "metadata": {}
        }
      ]
    },
    {
      "cell_type": "markdown",
      "source": [
        "Valor que es, efectivamente, aproximado, al 30.45 % que había calculado.\n",
        "\n",
        "De la misma manera, sería interesante analizar de qué manera se distribuirían las demás variables. Por ejemplo, *Age* y *Tenure*, al hacer referencia al tiempo, quizá se distribuyan Poisson..."
      ],
      "metadata": {
        "id": "jzxkodnns3-x"
      }
    },
    {
      "cell_type": "markdown",
      "source": [
        "### Valor esperado de una Variable Discreta\n",
        "\n",
        "Lo definimos como el posible valor de la variable, por la probabilidad de que tome ese valor. Es decir, un promedio ponderado.\n",
        "\n",
        "$E(X) ) \\sum x p_x(X) $"
      ],
      "metadata": {
        "id": "cuXTyHmKudMY"
      }
    },
    {
      "cell_type": "code",
      "source": [
        "# ¿Cuál será el valor Esperado de Tenure?\n",
        "\n",
        "table(df$Tenure)"
      ],
      "metadata": {
        "colab": {
          "base_uri": "https://localhost:8080/",
          "height": 69
        },
        "id": "JtOBGN2xsriB",
        "outputId": "487a4fa5-14fe-4de6-f15a-570e211c5806"
      },
      "execution_count": null,
      "outputs": [
        {
          "output_type": "display_data",
          "data": {
            "text/plain": [
              "\n",
              "   0    1    2    3    4    5    6    7    8    9   10 \n",
              " 413 1035 1048 1009  989 1012  967 1028 1025  984  490 "
            ]
          },
          "metadata": {}
        }
      ]
    },
    {
      "cell_type": "code",
      "source": [
        "# Calculo las probabilidades individuales\n",
        "table(df$Tenure) / 10000"
      ],
      "metadata": {
        "colab": {
          "base_uri": "https://localhost:8080/",
          "height": 69
        },
        "id": "KMIjUq1BuHVK",
        "outputId": "848d84fb-ccea-470f-95d4-6cd3d4d02865"
      },
      "execution_count": null,
      "outputs": [
        {
          "output_type": "display_data",
          "data": {
            "text/plain": [
              "\n",
              "     0      1      2      3      4      5      6      7      8      9     10 \n",
              "0.0413 0.1035 0.1048 0.1009 0.0989 0.1012 0.0967 0.1028 0.1025 0.0984 0.0490 "
            ]
          },
          "metadata": {}
        }
      ]
    },
    {
      "cell_type": "code",
      "source": [
        "# Calculo el valor esperado\n",
        "esperado_Tenure <- sum( (table(df$Tenure) / 10000) * c(0, 1, 2, 3, 4, 5, 6, 7, 8, 9, 10) )\n",
        "esperado_Tenure"
      ],
      "metadata": {
        "colab": {
          "base_uri": "https://localhost:8080/",
          "height": 34
        },
        "id": "J7pXHVYzvCMY",
        "outputId": "1368d4c2-07a2-4680-adae-ec926bd30598"
      },
      "execution_count": null,
      "outputs": [
        {
          "output_type": "display_data",
          "data": {
            "text/html": [
              "5.0128"
            ],
            "text/markdown": "5.0128",
            "text/latex": "5.0128",
            "text/plain": [
              "[1] 5.0128"
            ]
          },
          "metadata": {}
        }
      ]
    },
    {
      "cell_type": "code",
      "source": [
        "# Lo cuál, como sabemos, sería igual al promedio:\n",
        "mean(df$Tenure)"
      ],
      "metadata": {
        "colab": {
          "base_uri": "https://localhost:8080/",
          "height": 34
        },
        "id": "bDMyH1JHvWu8",
        "outputId": "c9dd526f-541d-49b8-e518-8c3ef3f73108"
      },
      "execution_count": null,
      "outputs": [
        {
          "output_type": "display_data",
          "data": {
            "text/html": [
              "5.0128"
            ],
            "text/markdown": "5.0128",
            "text/latex": "5.0128",
            "text/plain": [
              "[1] 5.0128"
            ]
          },
          "metadata": {}
        }
      ]
    },
    {
      "cell_type": "markdown",
      "source": [
        "### Varianza y Desviación Estándar"
      ],
      "metadata": {
        "id": "FHTcVxBqwNW5"
      }
    },
    {
      "cell_type": "code",
      "source": [
        "# Puedo calcular la Varianza de una variable de la siguiente manera:\n",
        "var(df$Tenure)"
      ],
      "metadata": {
        "colab": {
          "base_uri": "https://localhost:8080/",
          "height": 34
        },
        "id": "ZAg2RsoYwGmU",
        "outputId": "76485899-02cd-48c7-95c7-52c4b9c8a903"
      },
      "execution_count": null,
      "outputs": [
        {
          "output_type": "display_data",
          "data": {
            "text/html": [
              "8.36467262726273"
            ],
            "text/markdown": "8.36467262726273",
            "text/latex": "8.36467262726273",
            "text/plain": [
              "[1] 8.364673"
            ]
          },
          "metadata": {}
        }
      ]
    },
    {
      "cell_type": "code",
      "source": [
        "# Y la desviación estándar de dicha variable, es la raíz cuadrada de la varianza:\n",
        "sqrt(var(df$Tenure))"
      ],
      "metadata": {
        "colab": {
          "base_uri": "https://localhost:8080/",
          "height": 34
        },
        "id": "ceKZ1VnSwg0n",
        "outputId": "0314fe8c-8166-4f24-f351-b046557370e3"
      },
      "execution_count": null,
      "outputs": [
        {
          "output_type": "display_data",
          "data": {
            "text/html": [
              "2.89217437704968"
            ],
            "text/markdown": "2.89217437704968",
            "text/latex": "2.89217437704968",
            "text/plain": [
              "[1] 2.892174"
            ]
          },
          "metadata": {}
        }
      ]
    },
    {
      "cell_type": "code",
      "source": [
        "sd(df$Tenure)"
      ],
      "metadata": {
        "colab": {
          "base_uri": "https://localhost:8080/",
          "height": 34
        },
        "id": "1S7c4ozTwqpE",
        "outputId": "10a16d61-e6d1-4632-a2d5-790b597d3ecf"
      },
      "execution_count": null,
      "outputs": [
        {
          "output_type": "display_data",
          "data": {
            "text/html": [
              "2.89217437704968"
            ],
            "text/markdown": "2.89217437704968",
            "text/latex": "2.89217437704968",
            "text/plain": [
              "[1] 2.892174"
            ]
          },
          "metadata": {}
        }
      ]
    },
    {
      "cell_type": "code",
      "source": [],
      "metadata": {
        "id": "Za_QqAqDwtKt"
      },
      "execution_count": null,
      "outputs": []
    }
  ]
}